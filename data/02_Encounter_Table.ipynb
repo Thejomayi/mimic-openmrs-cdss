{
 "cells": [
  {
   "cell_type": "code",
   "execution_count": null,
   "metadata": {},
   "outputs": [],
   "source": [
    "import MySQLdb\n",
    "from pandas.io import sql\n",
    "import pandas as pd\n",
    "import numpy as np\n",
    "conn = MySQLdb.connect(host=\"localhost\", user=\"root\", passwd=\"MYSQLROOTPASSWORD\", db=\"openmrs\") \n",
    "openmrscursor = conn.cursor()"
   ]
  },
  {
   "cell_type": "code",
   "execution_count": null,
   "metadata": {},
   "outputs": [],
   "source": [
    "df_encounter = pd.read_sql('select encounter_id, visit_id from `encounter` where patient_id=10467237', con = conn) \n",
    "df_encounter"
   ]
  },
  {
   "cell_type": "code",
   "execution_count": null,
   "metadata": {},
   "outputs": [],
   "source": [
    "import pandas as pd\n",
    "import numpy as np"
   ]
  },
  {
   "cell_type": "code",
   "execution_count": null,
   "metadata": {},
   "outputs": [],
   "source": [
    "mimicconn = MySQLdb.connect(host=\"localhost\", user=\"root\", passwd=\"MYSQLROOTPASSWORD\", db=\"mimic4\") \n",
    "mimiccursor = mimicconn.cursor()\n",
    "df_admission_mimic = pd.read_sql('select * from admissions', con = mimicconn) \n",
    "df_admission_mimic.head()"
   ]
  },
  {
   "cell_type": "code",
   "execution_count": null,
   "metadata": {},
   "outputs": [],
   "source": [
    "df_admission_mimic_copy = df_admission_mimic[['subject_id', 'hadm_id','admittime']]"
   ]
  },
  {
   "cell_type": "code",
   "execution_count": null,
   "metadata": {},
   "outputs": [],
   "source": [
    "df_admissions_sort = df_admission_mimic_copy.sort_values(by=['admittime'], ascending=False, inplace=False)"
   ]
  },
  {
   "cell_type": "code",
   "execution_count": null,
   "metadata": {},
   "outputs": [],
   "source": [
    "df_admissions_rename = df_admissions_sort.rename({'subject_id': 'patient_id', 'hadm_id':'encounter_id', 'admittime':'encounter_datetime' }, axis='columns')\n",
    "df_admissions_rename['date_created'] = '2022-01-01'\n",
    "df_admissions_rename['encounter_type'] = 1"
   ]
  },
  {
   "cell_type": "code",
   "execution_count": null,
   "metadata": {},
   "outputs": [],
   "source": [
    "import uuid\n",
    "df_admissions_rename['uuid'] = [uuid.uuid4() for x in range(len(df_admissions_rename))]\n",
    "df_admissions_rename"
   ]
  },
  {
   "cell_type": "code",
   "execution_count": null,
   "metadata": {},
   "outputs": [],
   "source": [
    "encounter_table = df_admissions_rename[['patient_id', 'encounter_id', 'encounter_type', 'encounter_datetime','date_created', 'uuid']]\n",
    "encounter_table"
   ]
  },
  {
   "cell_type": "code",
   "execution_count": null,
   "metadata": {},
   "outputs": [],
   "source": [
    "import pymysql\n",
    "\n",
    "# Connect to the database\n",
    "connection = pymysql.connect(host='localhost',\n",
    "                         user='root',\n",
    "                         password='MYSQLROOTPASSWORD',\n",
    "                         db='openmrs')\n",
    "\n",
    "# create cursor\n",
    "cursor=connection.cursor() "
   ]
  },
  {
   "cell_type": "code",
   "execution_count": null,
   "metadata": {},
   "outputs": [],
   "source": [
    "# creating column list for insertion for person table\n",
    "cols = \"`,`\".join([str(i) for i in encounter_table.columns.tolist()])\n",
    "\n",
    "# Insert DataFrame recrds one by one.\n",
    "for i,row in encounter_table.iterrows():\n",
    "    sql1 = \"SET FOREIGN_KEY_CHECKS=0\"\n",
    "    sql = \"INSERT INTO `encounter` (`\" +cols + \"`) VALUES (\" + \"%s,\"*(len(row)-1) + \"%s)\"\n",
    "    sql2 = \"SET FOREIGN_KEY_CHECKS=1\"\n",
    "    try:\n",
    "        cursor.execute(sql1)\n",
    "        cursor.execute(sql, tuple(row))\n",
    "        cursor.execute(sql2)\n",
    "        \n",
    "    except MySQLdb.OperationalError:\n",
    "        continue\n",
    "\n",
    "    # the connection is not autocommitted by default, so we must commit to save our changes\n",
    "    connection.commit() \n",
    "\n",
    "encounter_location_id = 'UPDATE encounter SET location_id=1 where patient_id!=1'\n",
    "encounter_creator = 'UPDATE encounter SET creator=1 where patient_id!=1'\n",
    "encounter_form_id = 'UPDATE encounter SET form_id = NULL' \n",
    "\n",
    "cursor.execute(encounter_location_id)\n",
    "cursor.execute(encounter_creator)\n",
    "cursor.execute(encounter_form_id)\n",
    "\n",
    "connection.commit()"
   ]
  },
  {
   "cell_type": "markdown",
   "metadata": {},
   "source": [
    "# Updating visit_id column in encounter from visit table"
   ]
  },
  {
   "cell_type": "code",
   "execution_count": null,
   "metadata": {},
   "outputs": [],
   "source": [
    "visit_id = 'UPDATE openmrs.encounter oe INNER JOIN openmrs.visit ov ON oe.patient_id = ov.patient_id SET oe.visit_id = ov.visit_id'\n",
    "cursor.execute(visit_id)\n",
    "\n",
    "connection.commit() "
   ]
  },
  {
   "cell_type": "code",
   "execution_count": null,
   "metadata": {},
   "outputs": [],
   "source": [
    "cursor.execute('UPDATE openmrs.encounter SET visit_id=encounter_id where encounter_type=1')\n",
    "connection.commit()"
   ]
  },
  {
   "cell_type": "code",
   "execution_count": null,
   "metadata": {
    "scrolled": true
   },
   "outputs": [],
   "source": [
    "df_encounter[df_encounter['patient_id'] == 10215159]"
   ]
  },
  {
   "cell_type": "code",
   "execution_count": null,
   "metadata": {},
   "outputs": [],
   "source": []
  }
 ],
 "metadata": {
  "kernelspec": {
   "display_name": "Python 3 (ipykernel)",
   "language": "python",
   "name": "python3"
  },
  "language_info": {
   "codemirror_mode": {
    "name": "ipython",
    "version": 3
   },
   "file_extension": ".py",
   "mimetype": "text/x-python",
   "name": "python",
   "nbconvert_exporter": "python",
   "pygments_lexer": "ipython3",
   "version": "3.9.7"
  }
 },
 "nbformat": 4,
 "nbformat_minor": 4
}
