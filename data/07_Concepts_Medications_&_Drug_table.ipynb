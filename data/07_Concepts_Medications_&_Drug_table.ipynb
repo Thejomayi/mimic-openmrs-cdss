{
 "cells": [
  {
   "cell_type": "code",
   "execution_count": null,
   "metadata": {},
   "outputs": [],
   "source": [
    "import MySQLdb\n",
    "from pandas.io import sql\n",
    "import pandas as pd\n",
    "import numpy as np\n",
    "conn = MySQLdb.connect(host=\"localhost\", user=\"root\", passwd=\"Soic@2022Capstone\", db=\"openmrs\") \n",
    "openmrscursor = conn.cursor() "
   ]
  },
  {
   "cell_type": "code",
   "execution_count": null,
   "metadata": {
    "scrolled": true
   },
   "outputs": [],
   "source": [
    "df_concept = pd.read_sql('select * from `concept`', con = conn)\n",
    "df_concept"
   ]
  },
  {
   "cell_type": "code",
   "execution_count": null,
   "metadata": {},
   "outputs": [],
   "source": [
    "mimicconn = MySQLdb.connect(host=\"localhost\", user=\"root\", passwd=\"Soic@2022Capstone\", db=\"mimic4\") \n",
    "mimiccursor = mimicconn.cursor()"
   ]
  },
  {
   "cell_type": "code",
   "execution_count": null,
   "metadata": {
    "scrolled": true
   },
   "outputs": [],
   "source": [
    "df_prescriptions = pd.read_sql('select * from prescriptions', con = mimicconn) \n",
    "df_prescriptions"
   ]
  },
  {
   "cell_type": "code",
   "execution_count": null,
   "metadata": {},
   "outputs": [],
   "source": [
    "# distint dosage form \n",
    "df_dosage_form = pd.read_sql('select distinct form_unit_disp from prescriptions', con = mimicconn) \n",
    "\n",
    "# df_dosage_form= df_dosage_form.drop_duplicates()\n",
    "# len(df_dosage_form)\n",
    "\n"
   ]
  },
  {
   "cell_type": "code",
   "execution_count": null,
   "metadata": {},
   "outputs": [],
   "source": [
    "df_dosage_form['form_unit_disp'] = df_dosage_form['form_unit_disp'].str.lower()\n",
    "df_dosage_form = df_dosage_form.drop_duplicates(subset ='form_unit_disp')"
   ]
  },
  {
   "cell_type": "code",
   "execution_count": null,
   "metadata": {},
   "outputs": [],
   "source": [
    "# distinct route\n",
    "df_route = pd.read_sql('select distinct route from prescriptions', con = mimicconn) \n",
    "# df_route = df_route.drop_duplicates()\n"
   ]
  },
  {
   "cell_type": "code",
   "execution_count": null,
   "metadata": {},
   "outputs": [],
   "source": [
    "df_route['route'] = df_route['route'].str.lower()"
   ]
  },
  {
   "cell_type": "code",
   "execution_count": null,
   "metadata": {},
   "outputs": [],
   "source": [
    "df_route = df_route.drop_duplicates(subset='route')\n",
    "df_route"
   ]
  },
  {
   "cell_type": "code",
   "execution_count": null,
   "metadata": {},
   "outputs": [],
   "source": [
    "# Getting unique drug names\n",
    "df_prescriptions_ = pd.read_sql('select distinct drug from prescriptions', con = mimicconn)  "
   ]
  },
  {
   "cell_type": "code",
   "execution_count": null,
   "metadata": {},
   "outputs": [],
   "source": [
    "df_prescriptions_['drug'] = df_prescriptions_['drug'].str.lower()\n",
    "df_prescriptions_ = df_prescriptions_.drop_duplicates(subset = 'drug')\n",
    "df_prescriptions_"
   ]
  },
  {
   "cell_type": "code",
   "execution_count": null,
   "metadata": {},
   "outputs": [],
   "source": [
    "df_prescriptions_.loc[df_prescriptions_['drug'] == 'fentanyl citrate']"
   ]
  },
  {
   "cell_type": "code",
   "execution_count": null,
   "metadata": {},
   "outputs": [],
   "source": [
    "df_prescriptions_['datatype_id'] = 4\n",
    "df_prescriptions_['class_id'] = 3\n",
    "df_prescriptions_['date_created'] = '2022-01-01'\n",
    "import uuid\n",
    "df_prescriptions_['uuid'] = [uuid.uuid4() for x in range(len(df_prescriptions_))]\n",
    "df_prescriptions_ = df_prescriptions_.rename(columns={'drug':'description'})\n"
   ]
  },
  {
   "cell_type": "code",
   "execution_count": null,
   "metadata": {},
   "outputs": [],
   "source": [
    "df_prescriptions_ = df_prescriptions_.dropna(subset=['description'])\n",
    "df_prescriptions_['creator'] = 1"
   ]
  },
  {
   "cell_type": "code",
   "execution_count": null,
   "metadata": {},
   "outputs": [],
   "source": [
    "#Importing unique drug names into concept table"
   ]
  },
  {
   "cell_type": "code",
   "execution_count": null,
   "metadata": {},
   "outputs": [],
   "source": [
    "column_names = ['description', 'datatype_id', 'class_id', 'creator', 'date_created', 'uuid']\n",
    "df_prescriptions_ = df_prescriptions_.reindex(columns=column_names)"
   ]
  },
  {
   "cell_type": "code",
   "execution_count": null,
   "metadata": {},
   "outputs": [],
   "source": [
    "df_prescriptions_"
   ]
  },
  {
   "cell_type": "code",
   "execution_count": null,
   "metadata": {},
   "outputs": [],
   "source": [
    "# creating column list for insertion into concept table\n",
    "cols = \"`,`\".join([str(i) for i in df_prescriptions_.columns.tolist()])\n",
    "\n",
    "# Insert DataFrame recrds one by one.\n",
    "for i,row in df_prescriptions_.iterrows():\n",
    "    sql1 = \"SET FOREIGN_KEY_CHECKS=0\"\n",
    "    sql = \"INSERT INTO `concept` (`\" +cols + \"`) VALUES (\" + \"%s,\"*(len(row)-1) + \"%s)\"\n",
    "    sql2 = \"SET FOREIGN_KEY_CHECKS=1\"\n",
    "    try:\n",
    "        openmrscursor.execute(sql1)\n",
    "        openmrscursor.execute(sql, tuple(row))\n",
    "        openmrscursor.execute(sql2)\n",
    "        \n",
    "    except MySQLdb.OperationalError:\n",
    "        continue\n",
    "\n",
    "    # the connection is not autocommitted by default, so we must commit to save our changes\n",
    "    conn.commit()"
   ]
  },
  {
   "cell_type": "code",
   "execution_count": null,
   "metadata": {},
   "outputs": [],
   "source": [
    "drug_concept = pd.read_sql('Select * from concept where class_id=3', con = conn)\n",
    "drug_concept "
   ]
  },
  {
   "cell_type": "code",
   "execution_count": null,
   "metadata": {},
   "outputs": [],
   "source": [
    "drug_concept['description'].nunique()"
   ]
  },
  {
   "cell_type": "markdown",
   "metadata": {},
   "source": [
    "# Dealing with dosage form"
   ]
  },
  {
   "cell_type": "code",
   "execution_count": null,
   "metadata": {},
   "outputs": [],
   "source": [
    "df_dosage_form"
   ]
  },
  {
   "cell_type": "code",
   "execution_count": null,
   "metadata": {},
   "outputs": [],
   "source": [
    "df_dosage_form['datatype_id'] = 4\n",
    "df_dosage_form['class_id'] = 9\n",
    "df_dosage_form['creator'] = 1\n",
    "df_dosage_form['date_created'] = '2022-01-01'\n",
    "\n",
    "import uuid\n",
    "df_dosage_form['uuid'] = [uuid.uuid4() for x in range(len(df_dosage_form))]\n",
    "df_dosage_form = df_dosage_form.rename(columns={'form_unit_disp':'description'})\n"
   ]
  },
  {
   "cell_type": "code",
   "execution_count": null,
   "metadata": {},
   "outputs": [],
   "source": [
    "df_dosage_form = df_dosage_form.dropna(subset=['description'])\n",
    "# df_dosage_form.to_csv('df_dosage_form.csv')"
   ]
  },
  {
   "cell_type": "code",
   "execution_count": null,
   "metadata": {},
   "outputs": [],
   "source": [
    "df_dosage_form_ = pd.read_csv('df_dosage_form.csv')\n",
    "df_dosage_form_ = df_dosage_form_[['description_old', 'description']]\n",
    "df_dosage_form_['description_old'] = df_dosage_form_['description_old'].str.lower()\n",
    "df_dosage_form_['description'] = df_dosage_form_['description'].str.lower()"
   ]
  },
  {
   "cell_type": "code",
   "execution_count": null,
   "metadata": {},
   "outputs": [],
   "source": [
    "df_dosage_form_"
   ]
  },
  {
   "cell_type": "code",
   "execution_count": null,
   "metadata": {},
   "outputs": [],
   "source": [
    "dosage_dosage= dict(zip(df_dosage_form_.description_old, df_dosage_form_.description))\n",
    "len(dosage_dosage)"
   ]
  },
  {
   "cell_type": "code",
   "execution_count": null,
   "metadata": {},
   "outputs": [],
   "source": [
    "df_dosage_form['description'] = df_dosage_form['description'].map(dosage_dosage)\n",
    "df_dosage_form"
   ]
  },
  {
   "cell_type": "code",
   "execution_count": null,
   "metadata": {},
   "outputs": [],
   "source": [
    "df_dosage_form = df_dosage_form.drop_duplicates(subset = 'description')\n",
    "df_dosage_form"
   ]
  },
  {
   "cell_type": "markdown",
   "metadata": {},
   "source": [
    "# Dealing with route concepts"
   ]
  },
  {
   "cell_type": "code",
   "execution_count": null,
   "metadata": {},
   "outputs": [],
   "source": [
    "df_route"
   ]
  },
  {
   "cell_type": "code",
   "execution_count": null,
   "metadata": {},
   "outputs": [],
   "source": [
    "df_route['datatype_id'] = 4\n",
    "df_route['class_id'] = 9\n",
    "df_route['creator'] = 1\n",
    "df_route['date_created'] = '2022-01-01'\n",
    "import uuid\n",
    "df_route['uuid'] = [uuid.uuid4() for x in range(len(df_route))]\n",
    "# df_route = df_route.rename(columns={'route':'description'})"
   ]
  },
  {
   "cell_type": "code",
   "execution_count": null,
   "metadata": {},
   "outputs": [],
   "source": [
    "df_route.isnull().sum()"
   ]
  },
  {
   "cell_type": "code",
   "execution_count": null,
   "metadata": {},
   "outputs": [],
   "source": [
    "# df_route = df_route[df_route['description'].notna()]\n",
    "df_route = df_route.dropna(subset=['route'])\n",
    "df_route = df_route.drop_duplicates(subset='route')\n",
    "df_route['route'] = df_route['route'].str.lower()"
   ]
  },
  {
   "cell_type": "code",
   "execution_count": null,
   "metadata": {},
   "outputs": [],
   "source": [
    "df_route"
   ]
  },
  {
   "cell_type": "code",
   "execution_count": null,
   "metadata": {},
   "outputs": [],
   "source": [
    "df_route_ = pd.read_csv('df_route.csv')\n",
    "df_route_ = df_route_[['description_old', 'description']]\n",
    "df_route_['description'] = df_route_['description'].str.lower()\n",
    "df_route_['description_old'] = df_route_['description_old'].str.lower()"
   ]
  },
  {
   "cell_type": "code",
   "execution_count": null,
   "metadata": {},
   "outputs": [],
   "source": [
    "df_route_"
   ]
  },
  {
   "cell_type": "code",
   "execution_count": null,
   "metadata": {},
   "outputs": [],
   "source": [
    "dict_ = {'description_old': ['ad'], 'description': ['ad']}\n",
    "df = pd.DataFrame(dict_)\n",
    "df"
   ]
  },
  {
   "cell_type": "code",
   "execution_count": null,
   "metadata": {},
   "outputs": [],
   "source": [
    "df_route_ = pd.concat([df_route_, df], ignore_index = True)\n",
    "# df_route_ = df_route_.reset_index()\n",
    "\n",
    "df_route_"
   ]
  },
  {
   "cell_type": "code",
   "execution_count": null,
   "metadata": {},
   "outputs": [],
   "source": [
    "duplicate = df_route_[df_route_.duplicated()]\n",
    "duplicate"
   ]
  },
  {
   "cell_type": "code",
   "execution_count": null,
   "metadata": {},
   "outputs": [],
   "source": [
    "route_route= dict(zip(df_route_.description_old, df_route_.description))\n",
    "len(route_route)"
   ]
  },
  {
   "cell_type": "code",
   "execution_count": null,
   "metadata": {},
   "outputs": [],
   "source": [
    "df_route['description'] = df_route['route'].map(route_route)\n",
    "df_route"
   ]
  },
  {
   "cell_type": "code",
   "execution_count": null,
   "metadata": {},
   "outputs": [],
   "source": [
    "df_route[df_route['description'].isnull()]"
   ]
  },
  {
   "cell_type": "code",
   "execution_count": null,
   "metadata": {},
   "outputs": [],
   "source": [
    "df_route = df_route.drop_duplicates(subset= 'description')\n",
    "df_route"
   ]
  },
  {
   "cell_type": "markdown",
   "metadata": {},
   "source": [
    "# Dealing with dose units"
   ]
  },
  {
   "cell_type": "code",
   "execution_count": null,
   "metadata": {},
   "outputs": [],
   "source": [
    "# distint dose units\n",
    "\n",
    "df_units = pd.read_sql('select distinct dose_unit_rx from prescriptions', con = mimicconn)\n",
    "df_units['dose_unit_rx'] = df_units['dose_unit_rx'].str.lower()"
   ]
  },
  {
   "cell_type": "code",
   "execution_count": null,
   "metadata": {},
   "outputs": [],
   "source": [
    "df_units"
   ]
  },
  {
   "cell_type": "code",
   "execution_count": null,
   "metadata": {},
   "outputs": [],
   "source": [
    "df_units_rx = pd.read_csv('drug_units.csv')\n",
    "df_units_rx=df_units_rx[['dose_unit_rx', 'dose_unit']]"
   ]
  },
  {
   "cell_type": "code",
   "execution_count": null,
   "metadata": {},
   "outputs": [],
   "source": [
    "df_units_rx"
   ]
  },
  {
   "cell_type": "code",
   "execution_count": null,
   "metadata": {},
   "outputs": [],
   "source": [
    "df_units_rx.dropna(inplace = True)\n",
    "df_units_rx"
   ]
  },
  {
   "cell_type": "code",
   "execution_count": null,
   "metadata": {},
   "outputs": [],
   "source": [
    "unique_units = set(df_units_rx['dose_unit'].to_list())\n",
    "unique_units"
   ]
  },
  {
   "cell_type": "code",
   "execution_count": null,
   "metadata": {},
   "outputs": [],
   "source": [
    "unique_units.remove('-')\n",
    "unique_units"
   ]
  },
  {
   "cell_type": "code",
   "execution_count": null,
   "metadata": {},
   "outputs": [],
   "source": [
    "list_unique_units = list(unique_units)\n",
    "len(list_unique_units)"
   ]
  },
  {
   "cell_type": "code",
   "execution_count": null,
   "metadata": {},
   "outputs": [],
   "source": [
    "for index, row in df_units_rx.iterrows():\n",
    "    if row['dose_unit'] not in list_unique_units:\n",
    "        df_units_rx=df_units_rx.drop(index)"
   ]
  },
  {
   "cell_type": "code",
   "execution_count": null,
   "metadata": {},
   "outputs": [],
   "source": [
    "df_units_rx['dose_unit_rx'] = df_units_rx['dose_unit_rx'].str.lower()\n",
    "df_units_rx['dose_unit'] = df_units_rx['dose_unit'].str.lower()\n",
    "df_units_rx"
   ]
  },
  {
   "cell_type": "code",
   "execution_count": null,
   "metadata": {},
   "outputs": [],
   "source": [
    "dict_unit = dict(zip(df_units_rx.dose_unit_rx, df_units_rx.dose_unit))\n",
    "len(dict_unit)"
   ]
  },
  {
   "cell_type": "code",
   "execution_count": null,
   "metadata": {},
   "outputs": [],
   "source": [
    "df_units_rx['datatype_id'] = 4\n",
    "df_units_rx['class_id'] = 9\n",
    "df_units_rx['creator'] = 1\n",
    "df_units_rx['date_created'] = '2022-01-01'\n",
    "import uuid\n",
    "df_units_rx['uuid'] = [uuid.uuid4() for x in range(len(df_units_rx))]\n",
    "df_units_rx = df_units_rx.rename(columns={'dose_unit':'description'})\n",
    "df_units_rx = df_units_rx.drop(columns = ['dose_unit_rx'])\n"
   ]
  },
  {
   "cell_type": "code",
   "execution_count": null,
   "metadata": {},
   "outputs": [],
   "source": [
    "df_units_rx = df_units_rx.drop_duplicates(subset='description')"
   ]
  },
  {
   "cell_type": "code",
   "execution_count": null,
   "metadata": {},
   "outputs": [],
   "source": [
    "df_units_rx"
   ]
  },
  {
   "cell_type": "code",
   "execution_count": null,
   "metadata": {},
   "outputs": [],
   "source": [
    "concepts_drug_details = pd.concat([df_dosage_form, df_route, df_units_rx],           # Append DataFrames\n",
    "                      ignore_index = True,\n",
    "                      sort = False)"
   ]
  },
  {
   "cell_type": "code",
   "execution_count": null,
   "metadata": {},
   "outputs": [],
   "source": [
    "concepts_drug_details = concepts_drug_details.drop(columns=['route'])\n",
    "concepts_drug_details = concepts_drug_details.drop_duplicates(subset = 'description')\n",
    "concepts_drug_details"
   ]
  },
  {
   "cell_type": "markdown",
   "metadata": {},
   "source": [
    "# Importing dosage form, route, and units to concepts"
   ]
  },
  {
   "cell_type": "code",
   "execution_count": null,
   "metadata": {},
   "outputs": [],
   "source": [
    "# creating column list for insertion into concept table\n",
    "cols = \"`,`\".join([str(i) for i in concepts_drug_details.columns.tolist()])\n",
    "\n",
    "# Insert DataFrame recrds one by one.\n",
    "for i,row in concepts_drug_details.iterrows():\n",
    "    sql1 = \"SET FOREIGN_KEY_CHECKS=0\"\n",
    "    sql = \"INSERT INTO `concept` (`\" +cols + \"`) VALUES (\" + \"%s,\"*(len(row)-1) + \"%s)\"\n",
    "    sql2 = \"SET FOREIGN_KEY_CHECKS=1\"\n",
    "    try:\n",
    "        openmrscursor.execute(sql1)\n",
    "        openmrscursor.execute(sql, tuple(row))\n",
    "        openmrscursor.execute(sql2)\n",
    "        \n",
    "    except MySQLdb.OperationalError:\n",
    "        continue\n",
    "\n",
    "    # the connection is not autocommitted by default, so we must commit to save our changes\n",
    "    conn.commit()"
   ]
  },
  {
   "cell_type": "markdown",
   "metadata": {},
   "source": [
    "# importing into drug"
   ]
  },
  {
   "cell_type": "code",
   "execution_count": null,
   "metadata": {},
   "outputs": [],
   "source": [
    "df_drug = pd.read_sql('select * from `orders`', con = conn)\n",
    "df_drug"
   ]
  },
  {
   "cell_type": "code",
   "execution_count": null,
   "metadata": {},
   "outputs": [],
   "source": [
    "drug_details = pd.read_sql('select * from  `concept` where class_id=9', con = conn)\n",
    "drug_details"
   ]
  },
  {
   "cell_type": "code",
   "execution_count": null,
   "metadata": {},
   "outputs": [],
   "source": [
    "dictdrug = dict(zip(drug_concept.description, drug_concept.concept_id))\n",
    "len(dictdrug)"
   ]
  },
  {
   "cell_type": "code",
   "execution_count": null,
   "metadata": {},
   "outputs": [],
   "source": [
    "len(dosage_dosage)"
   ]
  },
  {
   "cell_type": "code",
   "execution_count": null,
   "metadata": {},
   "outputs": [],
   "source": [
    "len(route_route)"
   ]
  },
  {
   "cell_type": "code",
   "execution_count": null,
   "metadata": {},
   "outputs": [],
   "source": [
    "len(dict_unit)"
   ]
  },
  {
   "cell_type": "code",
   "execution_count": null,
   "metadata": {},
   "outputs": [],
   "source": [
    "dict_drugdetails = dict(zip(drug_details.description, drug_details.concept_id))\n",
    "len(dict_drugdetails)"
   ]
  },
  {
   "cell_type": "code",
   "execution_count": null,
   "metadata": {},
   "outputs": [],
   "source": [
    "df_prescriptions_drug = drug_concept[['concept_id', 'description']]\n",
    "df_prescriptions_drug"
   ]
  },
  {
   "cell_type": "code",
   "execution_count": null,
   "metadata": {},
   "outputs": [],
   "source": [
    "df1 = df_prescriptions[['drug', 'form_unit_disp', 'route', 'dose_unit_rx']]\n",
    "df1 = df1.rename({'drug':'description'}, axis=1)\n",
    "df1"
   ]
  },
  {
   "cell_type": "code",
   "execution_count": null,
   "metadata": {},
   "outputs": [],
   "source": [
    "df1['description'] = df1['description'].str.lower()\n",
    "df1['form_unit_disp'] = df1['form_unit_disp'].str.lower()\n",
    "df1['route'] = df1['route'].str.lower()\n",
    "df1['dose_unit_rx'] = df1['dose_unit_rx'].str.lower()\n",
    "df1"
   ]
  },
  {
   "cell_type": "code",
   "execution_count": null,
   "metadata": {},
   "outputs": [],
   "source": [
    "df1['form_unit_disp'] = df1['form_unit_disp'].map(dosage_dosage)"
   ]
  },
  {
   "cell_type": "code",
   "execution_count": null,
   "metadata": {},
   "outputs": [],
   "source": [
    "df1['route'] = df1['route'].map(route_route)"
   ]
  },
  {
   "cell_type": "code",
   "execution_count": null,
   "metadata": {},
   "outputs": [],
   "source": [
    "df1['dose_unit_rx'] = df1['dose_unit_rx'].map(dict_unit)"
   ]
  },
  {
   "cell_type": "code",
   "execution_count": null,
   "metadata": {},
   "outputs": [],
   "source": [
    "df_drug_merge = pd.merge(df_prescriptions_drug,df1, on= 'description', how='inner')\n",
    "df_drug_merge"
   ]
  },
  {
   "cell_type": "code",
   "execution_count": null,
   "metadata": {},
   "outputs": [],
   "source": [
    "df_drug_merge = df_drug_merge.drop_duplicates(subset ='description')"
   ]
  },
  {
   "cell_type": "code",
   "execution_count": null,
   "metadata": {},
   "outputs": [],
   "source": [
    "df_drug_merge"
   ]
  },
  {
   "cell_type": "code",
   "execution_count": null,
   "metadata": {},
   "outputs": [],
   "source": [
    "df_drug_merge.isnull().sum()"
   ]
  },
  {
   "cell_type": "code",
   "execution_count": null,
   "metadata": {},
   "outputs": [],
   "source": [
    "df_drug_merge['dosage_form'] = df_drug_merge['form_unit_disp'].map(dict_drugdetails)\n",
    "df_drug_merge"
   ]
  },
  {
   "cell_type": "code",
   "execution_count": null,
   "metadata": {},
   "outputs": [],
   "source": [
    "df_drug_merge.isnull().sum()"
   ]
  },
  {
   "cell_type": "code",
   "execution_count": null,
   "metadata": {},
   "outputs": [],
   "source": [
    "df_drug_merge['route'] = df_drug_merge['route'].map(dict_drugdetails)\n",
    "df_drug_merge"
   ]
  },
  {
   "cell_type": "code",
   "execution_count": null,
   "metadata": {},
   "outputs": [],
   "source": [
    "df_drug_merge['dose_limit_units'] = df_drug_merge['dose_unit_rx'].map(dict_drugdetails)\n",
    "df_drug_merge"
   ]
  },
  {
   "cell_type": "code",
   "execution_count": null,
   "metadata": {},
   "outputs": [],
   "source": [
    "df_drug_merge.isnull().sum()"
   ]
  },
  {
   "cell_type": "code",
   "execution_count": null,
   "metadata": {},
   "outputs": [],
   "source": [
    "df_drug_merge = df_drug_merge.rename(columns={'description':'name'})\n",
    "df_drug_merge = df_drug_merge.drop(columns = ['form_unit_disp', 'dose_unit_rx'])\n",
    "df_drug_merge['date_created']= '2022-01-01'\n",
    "import uuid\n",
    "df_drug_merge['uuid'] = [uuid.uuid4() for x in range(len(df_drug_merge))]\n",
    "df_drug_merge['creator'] = 1\n",
    "df_drug_merge"
   ]
  },
  {
   "cell_type": "code",
   "execution_count": null,
   "metadata": {},
   "outputs": [],
   "source": [
    "df_drug_merge['name'].nunique()"
   ]
  },
  {
   "cell_type": "code",
   "execution_count": null,
   "metadata": {},
   "outputs": [],
   "source": [
    "df_drug_merge.dtypes"
   ]
  },
  {
   "cell_type": "code",
   "execution_count": null,
   "metadata": {},
   "outputs": [],
   "source": [
    "df_drug =  pd.read_sql('select * from `drug`', con = conn)\n",
    "df_drug"
   ]
  },
  {
   "cell_type": "code",
   "execution_count": null,
   "metadata": {},
   "outputs": [],
   "source": [
    "column_names = ['concept_id', 'name', 'dosage_form', 'route', 'creator', 'date_created', 'uuid', 'dose_limit_units']\n",
    "\n",
    "\n",
    "df_drug_merge = df_drug_merge.reindex(columns=column_names)\n",
    "df_drug_merge"
   ]
  },
  {
   "cell_type": "code",
   "execution_count": null,
   "metadata": {},
   "outputs": [],
   "source": [
    "df_drug_merge = df_drug_merge.replace({np.nan: None})\n",
    "df_drug_merge"
   ]
  },
  {
   "cell_type": "code",
   "execution_count": null,
   "metadata": {},
   "outputs": [],
   "source": [
    "nan_in_col  = df_drug_merge[df_drug_merge['dosage_form'].isna()]\n",
    "nan_in_col"
   ]
  },
  {
   "cell_type": "markdown",
   "metadata": {},
   "source": [
    "# Importing into drug table"
   ]
  },
  {
   "cell_type": "code",
   "execution_count": null,
   "metadata": {},
   "outputs": [],
   "source": [
    "import pymysql\n",
    "\n",
    "# Connect to the database\n",
    "connection = pymysql.connect(host='localhost',\n",
    "                         user='root',\n",
    "                         password='Soic@2022Capstone',\n",
    "                         db='openmrs')\n",
    "\n",
    "# create cursor\n",
    "cursor=connection.cursor() "
   ]
  },
  {
   "cell_type": "code",
   "execution_count": null,
   "metadata": {},
   "outputs": [],
   "source": [
    "# creating column list for insertion into concept table\n",
    "cols = \"`,`\".join([str(i) for i in df_drug_merge.columns.tolist()])\n",
    "\n",
    "# Insert DataFrame recrds one by one.\n",
    "for i,row in df_drug_merge.iterrows():\n",
    "    sql1 = \"SET FOREIGN_KEY_CHECKS=0\"\n",
    "    sql = \"INSERT INTO `drug` (`\" +cols + \"`) VALUES (\" + \"%s,\"*(len(row)-1) + \"%s)\"\n",
    "    sql2 = \"SET FOREIGN_KEY_CHECKS=1\"\n",
    "    try:\n",
    "        cursor.execute(sql1)\n",
    "        cursor.execute(sql, tuple(row))\n",
    "        cursor.execute(sql2)\n",
    "        \n",
    "    except MySQLdb.OperationalError:\n",
    "        continue\n",
    "\n",
    "    # the connection is not autocommitted by default, so we must commit to save our changes\n",
    "    connection.commit()"
   ]
  },
  {
   "cell_type": "code",
   "execution_count": null,
   "metadata": {},
   "outputs": [],
   "source": []
  },
  {
   "cell_type": "code",
   "execution_count": null,
   "metadata": {},
   "outputs": [],
   "source": []
  }
 ],
 "metadata": {
  "kernelspec": {
   "display_name": "Python 3 (ipykernel)",
   "language": "python",
   "name": "python3"
  },
  "language_info": {
   "codemirror_mode": {
    "name": "ipython",
    "version": 3
   },
   "file_extension": ".py",
   "mimetype": "text/x-python",
   "name": "python",
   "nbconvert_exporter": "python",
   "pygments_lexer": "ipython3",
   "version": "3.9.7"
  }
 },
 "nbformat": 4,
 "nbformat_minor": 4
}
