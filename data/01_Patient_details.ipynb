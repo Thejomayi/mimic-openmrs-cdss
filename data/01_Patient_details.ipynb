{
 "cells": [
  {
   "cell_type": "code",
   "execution_count": null,
   "metadata": {},
   "outputs": [],
   "source": [
    "import MySQLdb\n",
    "from pandas.io import sql\n",
    "\n",
    "conn = MySQLdb.connect(host=\"localhost\", user=\"root\", passwd=\"MYSQLROOTPASSWORD\", db=\"openmrs\") \n",
    "openmrscursor = conn.cursor() "
   ]
  },
  {
   "cell_type": "code",
   "execution_count": null,
   "metadata": {
    "scrolled": false
   },
   "outputs": [],
   "source": [
    "import pandas as pd\n",
    "import numpy as np\n",
    "\n",
    "df_person = pd.read_sql('select * from `person`', con = conn)\n",
    "df_person_name = pd.read_sql('select * from `person_name`', con = conn)\n",
    "df_patient = pd.read_sql('select * from `patient`', con = conn)\n",
    "df_patient_identifier = pd.read_sql('select * from `patient_identifier`', con = conn)"
   ]
  },
  {
   "cell_type": "code",
   "execution_count": null,
   "metadata": {},
   "outputs": [],
   "source": [
    "# All these should be 0, if there is data, DONT PROCEED!!\n",
    "\n",
    "print('Length - person: ', len(df_person))\n",
    "print('Length - person_name: ', len(df_person_name))\n",
    "print('Length - patient: ', len(df_patient))\n",
    "print('Length - patient_identifier: ', len(df_patient_identifier))"
   ]
  },
  {
   "cell_type": "code",
   "execution_count": null,
   "metadata": {},
   "outputs": [],
   "source": [
    "mimicconn = MySQLdb.connect(host=\"localhost\", user=\"root\", passwd=\"MYSQLROOTPASSWORD\", db=\"mimic4\") \n",
    "mimiccursor = mimicconn.cursor()\n",
    "\n",
    "# mimiccursor.execute('SELECT ad.subject_id, ad.hadm_id, ad.admittime, pa.anchor_age, pa.anchor_year, DATETIME_DIFF(ad.admittime, DATETIME(pa.anchor_year, 1, 1, 0, 0, 0), YEAR) + pa.anchor_age AS age FROM admissions ad INNER JOIN patients pa ON ad.subject_id = pa.subject_id') \n",
    "# rows = mimiccursor.fetchall()"
   ]
  },
  {
   "cell_type": "code",
   "execution_count": null,
   "metadata": {},
   "outputs": [],
   "source": [
    "df_patient_mimic = pd.read_sql('select * from patients', con = mimicconn) \n",
    "print(df_patient_mimic.head()) \n",
    "print(df_patient_mimic.dtypes)\n",
    "\n",
    "df_admission_mimic = pd.read_sql('select * from admissions', con = mimicconn) \n",
    "print(df_admission_mimic.head())\n",
    "\n",
    "df_adm_pat_merged = df_admission_mimic.merge(df_patient_mimic, how='inner', on='subject_id')\n",
    "print(df_adm_pat_merged.head())"
   ]
  },
  {
   "cell_type": "code",
   "execution_count": null,
   "metadata": {},
   "outputs": [],
   "source": [
    "df_adm_pat_merged = df_adm_pat_merged.astype({'anchor_year_group': 'string'}) \n",
    "df_adm_pat_merged['Age'] = (pd.DatetimeIndex(df_adm_pat_merged['admittime']).year - df_adm_pat_merged['anchor_year']) + df_adm_pat_merged['anchor_age'] \n",
    "df_adm_pat_merged['Anchorbirthyear'] = df_adm_pat_merged.apply(lambda row: row.anchor_year_group[0:4], axis=1)\n",
    "df_adm_pat_merged['Anchorbirthyear']= df_adm_pat_merged['Anchorbirthyear'].astype(int)\n",
    "df_adm_pat_merged['birthdate'] = df_adm_pat_merged['Anchorbirthyear'] - df_adm_pat_merged['Age'] \n",
    "df_adm_pat_merged['birthdate']= df_adm_pat_merged['birthdate'].astype(str)\n",
    "df_adm_pat_merged['birthdate'] = df_adm_pat_merged.apply(lambda row: row['birthdate'] + ('0101'), axis=1) \n",
    "df_adm_pat_merged['birthdate'] = pd.to_datetime(df_adm_pat_merged['birthdate'], format = \"%Y/%m/%d\", yearfirst = True)\n",
    "df_adm_pat_merged['birthdate_estimated'] = df_adm_pat_merged['birthdate'].notnull().map({True:1, False:0})\n",
    "df_adm_pat_merged\n",
    "# print(df_adm_pat.dtypes) "
   ]
  },
  {
   "cell_type": "code",
   "execution_count": null,
   "metadata": {},
   "outputs": [],
   "source": [
    "df_adm_pat_merged_copy =  df_adm_pat_merged.copy()\n",
    "df_adm_pat_merged_copy"
   ]
  },
  {
   "cell_type": "code",
   "execution_count": null,
   "metadata": {},
   "outputs": [],
   "source": [
    "df_adm_pat = df_adm_pat_merged_copy.sort_values(by=['admittime'], inplace=False)"
   ]
  },
  {
   "cell_type": "code",
   "execution_count": null,
   "metadata": {},
   "outputs": [],
   "source": [
    "df_adm_pat"
   ]
  },
  {
   "cell_type": "code",
   "execution_count": null,
   "metadata": {},
   "outputs": [],
   "source": [
    "df_adm_pat = df_adm_pat.groupby(['subject_id']).first()"
   ]
  },
  {
   "cell_type": "code",
   "execution_count": null,
   "metadata": {},
   "outputs": [],
   "source": [
    "df_adm_pat = df_adm_pat.reset_index()"
   ]
  },
  {
   "cell_type": "code",
   "execution_count": null,
   "metadata": {},
   "outputs": [],
   "source": [
    "subj_adm = pd.Series(df_adm_pat.birthdate.values,index=df_adm_pat.subject_id).to_dict()"
   ]
  },
  {
   "cell_type": "code",
   "execution_count": null,
   "metadata": {},
   "outputs": [],
   "source": [
    "df_adm_pat_merged['birthdate'] = df_adm_pat_merged['subject_id'].map(subj_adm )"
   ]
  },
  {
   "cell_type": "code",
   "execution_count": null,
   "metadata": {},
   "outputs": [],
   "source": [
    "df_adm_pat_merged"
   ]
  },
  {
   "cell_type": "code",
   "execution_count": null,
   "metadata": {},
   "outputs": [],
   "source": [
    "df_adm_pat_merged[df_adm_pat_merged['subject_id'] == 19430048]"
   ]
  },
  {
   "cell_type": "code",
   "execution_count": null,
   "metadata": {},
   "outputs": [],
   "source": [
    "# Calculate death date"
   ]
  },
  {
   "cell_type": "code",
   "execution_count": null,
   "metadata": {},
   "outputs": [],
   "source": [
    "df_adm_pat_merged['death_date'] = df_adm_pat_merged['hospital_expire_flag'].copy()\n",
    "df_adm_pat_merged['birthdate']= df_adm_pat_merged['birthdate'].astype(str)"
   ]
  },
  {
   "cell_type": "code",
   "execution_count": null,
   "metadata": {},
   "outputs": [],
   "source": [
    "df1 = df_adm_pat_merged[df_adm_pat_merged['death_date'] == 1]\n",
    "df2 = df_adm_pat_merged[df_adm_pat_merged['death_date'] == 0]"
   ]
  },
  {
   "cell_type": "code",
   "execution_count": null,
   "metadata": {},
   "outputs": [],
   "source": [
    "df1['birthyear'] = df1.apply(lambda row: row.birthdate[0:4], axis=1)\n",
    "df1['birthyear'] = df1['birthyear'].astype(int)\n",
    "df1['death_date'] = df1['birthyear'] + df1['Age']"
   ]
  },
  {
   "cell_type": "code",
   "execution_count": null,
   "metadata": {},
   "outputs": [],
   "source": [
    "df1['death_date'] = df1['death_date'].astype(str)\n",
    "df1['death_date'] = df1.apply(lambda row: row['death_date'] + ('0101'), axis=1) \n",
    "df1['death_date'] = pd.to_datetime(df1['death_date'], format = \"%Y/%m/%d\", yearfirst = True)\n",
    "#df1['death_date'] = df1['death_date'].astype(str)"
   ]
  },
  {
   "cell_type": "code",
   "execution_count": null,
   "metadata": {},
   "outputs": [],
   "source": [
    "df2['death_date'] = df2['death_date'].astype(str)\n",
    "df2['death_date'] = df2.apply(lambda row: row['death_date'] + ('0101'), axis=1) \n",
    "df2['death_date'] = pd.to_datetime(df1['death_date'], format = \"%Y/%m/%d\", yearfirst = True)\n",
    "#df2['death_date'] = df2['death_date'].astype(str)"
   ]
  },
  {
   "cell_type": "code",
   "execution_count": null,
   "metadata": {},
   "outputs": [],
   "source": [
    "df1 = df1.drop(columns = ['birthyear'])"
   ]
  },
  {
   "cell_type": "code",
   "execution_count": null,
   "metadata": {},
   "outputs": [],
   "source": [
    "df1['deathdate_estimated'] = 1"
   ]
  },
  {
   "cell_type": "code",
   "execution_count": null,
   "metadata": {},
   "outputs": [],
   "source": [
    "df2['deathdate_estimated'] = 0"
   ]
  },
  {
   "cell_type": "code",
   "execution_count": null,
   "metadata": {},
   "outputs": [],
   "source": [
    "frames = [df1, df2]\n",
    "df_patient_admission = pd.concat(frames) \n",
    "#https://pandas.pydata.org/pandas-docs/stable/user_guide/merging.html "
   ]
  },
  {
   "cell_type": "code",
   "execution_count": null,
   "metadata": {},
   "outputs": [],
   "source": [
    "df_patient_admission = df_patient_admission.reset_index(drop = True) \n",
    "df_patient_admission"
   ]
  },
  {
   "cell_type": "code",
   "execution_count": null,
   "metadata": {},
   "outputs": [],
   "source": [
    "df_patient_admission.to_csv('df_patient_admission.csv', index = False)"
   ]
  },
  {
   "cell_type": "code",
   "execution_count": null,
   "metadata": {},
   "outputs": [],
   "source": [
    "import uuid\n",
    "df_patient_admission['uuid'] = [uuid.uuid4() for x in range(len(df_patient_admission))]"
   ]
  },
  {
   "cell_type": "code",
   "execution_count": null,
   "metadata": {},
   "outputs": [],
   "source": [
    "df_patient_admission_copy = df_patient_admission[['subject_id', 'admittime', 'hospital_expire_flag','gender','birthdate','birthdate_estimated','death_date','deathdate_estimated', 'uuid']]"
   ]
  },
  {
   "cell_type": "code",
   "execution_count": null,
   "metadata": {},
   "outputs": [],
   "source": [
    "df_patient_admission_copy = df_patient_admission_copy.rename({'subject_id': 'person_id', 'hospital_expire_flag': 'dead'}, axis='columns')\n",
    "df_patient_admission_copy['date_created'] = '2022-01-01'"
   ]
  },
  {
   "cell_type": "code",
   "execution_count": null,
   "metadata": {},
   "outputs": [],
   "source": [
    "# df_patient_admission_copy[df_patient_admission_copy['person_id'] == 14046553]"
   ]
  },
  {
   "cell_type": "code",
   "execution_count": null,
   "metadata": {},
   "outputs": [],
   "source": [
    "person_table = df_patient_admission_copy.sort_values(by=['admittime'], ascending=False, inplace=False)"
   ]
  },
  {
   "cell_type": "code",
   "execution_count": null,
   "metadata": {},
   "outputs": [],
   "source": [
    "person_table = person_table.groupby(['person_id']).first()"
   ]
  },
  {
   "cell_type": "code",
   "execution_count": null,
   "metadata": {},
   "outputs": [],
   "source": [
    "person_table = person_table.reset_index()\n",
    "person_table"
   ]
  },
  {
   "cell_type": "code",
   "execution_count": null,
   "metadata": {},
   "outputs": [],
   "source": [
    "end = pd.to_datetime('2200-01-01')\n",
    "person_table['death_date'] = person_table['death_date'].fillna(end) \n",
    "person_table['death_date'].fillna(0, inplace=True)"
   ]
  },
  {
   "cell_type": "code",
   "execution_count": null,
   "metadata": {},
   "outputs": [],
   "source": [
    "person_table = person_table.drop(columns=['admittime'])\n",
    "person_table"
   ]
  },
  {
   "cell_type": "code",
   "execution_count": null,
   "metadata": {},
   "outputs": [],
   "source": [
    "# !pip install --user pymysql\n",
    "import pymysql\n",
    "\n",
    "# Connect to the database\n",
    "connection = pymysql.connect(host='localhost',\n",
    "                         user='root',\n",
    "                         password='MYSQLROOTPASSWORD',\n",
    "                         db='openmrs')\n",
    "\n",
    "# create cursor\n",
    "cursor=connection.cursor() "
   ]
  },
  {
   "cell_type": "code",
   "execution_count": null,
   "metadata": {},
   "outputs": [],
   "source": [
    "# Dealing with person table"
   ]
  },
  {
   "cell_type": "code",
   "execution_count": null,
   "metadata": {},
   "outputs": [],
   "source": [
    "# # creating column list for insertion for person table\n",
    "# cols = \"`,`\".join([str(i) for i in person_table.columns.tolist()])\n",
    "\n",
    "# # Insert DataFrame recrds one by one.\n",
    "# for i,row in person_table.iterrows():\n",
    "#     sql = \"INSERT INTO `person` (`\" +cols + \"`) VALUES (\" + \"%s,\"*(len(row)-1) + \"%s)\"\n",
    "#     try:\n",
    "#         cursor.execute(sql, tuple(row))\n",
    "#     except MySQLdb.OperationalError:\n",
    "#         continue\n",
    "\n",
    "#     # the connection is not autocommitted by default, so we must commit to save our changes\n",
    "#     connection.commit() "
   ]
  },
  {
   "cell_type": "code",
   "execution_count": null,
   "metadata": {},
   "outputs": [],
   "source": [
    "sql_update_creator = 'UPDATE person SET creator=1 where person_id!=1'\n",
    "cursor.execute(sql_update_creator)\n",
    "sql_update_death_date = 'UPDATE person SET death_date=NULL where dead!=1'\n",
    "\n",
    "cursor.execute(sql_update_death_date)\n",
    "connection.commit()"
   ]
  },
  {
   "cell_type": "code",
   "execution_count": null,
   "metadata": {},
   "outputs": [],
   "source": [
    "# Dealing with person_name table"
   ]
  },
  {
   "cell_type": "code",
   "execution_count": null,
   "metadata": {},
   "outputs": [],
   "source": [
    "duplicated = person_table[['person_id', 'date_created', 'uuid']]\n"
   ]
  },
  {
   "cell_type": "code",
   "execution_count": null,
   "metadata": {},
   "outputs": [],
   "source": [
    "# # creating column list for insertion for person_name table\n",
    "# cols = \"`,`\".join([str(i) for i in duplicated.columns.tolist()])\n",
    "\n",
    "# # Insert DataFrame recrds one by one.\n",
    "# for i,row in duplicated.iterrows():\n",
    "#     sql0 = \"SET FOREIGN_KEY_CHECKS=0\"\n",
    "#     sql1 = \"INSERT INTO `person_name` (`\" +cols + \"`) VALUES (\" + \"%s,\"*(len(row)-1) + \"%s)\"\n",
    "#     sql2 = \"SET FOREIGN_KEY_CHECKS=1\"\n",
    "#     try:\n",
    "#         cursor.execute(sql0)\n",
    "#         cursor.execute(sql1, tuple(row))\n",
    "#         cursor.execute(sql2)\n",
    "#     except MySQLdb.OperationalError:\n",
    "#         continue\n",
    "\n",
    "#     # the connection is not autocommitted by default, so we must commit to save our changes\n",
    "#     connection.commit() "
   ]
  },
  {
   "cell_type": "code",
   "execution_count": null,
   "metadata": {},
   "outputs": [],
   "source": [
    "given_name = 'UPDATE person_name SET given_name=CONCAT(\"S\", person_id) where person_id!=1'\n",
    "cursor.execute(given_name)\n",
    "connection.commit()"
   ]
  },
  {
   "cell_type": "code",
   "execution_count": null,
   "metadata": {},
   "outputs": [],
   "source": [
    "family_name = 'UPDATE person_name SET family_name= \"Mimic\"'\n",
    "cursor.execute(family_name)\n",
    "connection.commit()"
   ]
  },
  {
   "cell_type": "code",
   "execution_count": null,
   "metadata": {},
   "outputs": [],
   "source": [
    "preferred = 'UPDATE person_name SET preferred=1 WHERE person_id!=1'\n",
    "creator = 'UPDATE person_name SET creator=1 WHERE person_id!=1'\n",
    "cursor.execute(preferred)\n",
    "cursor.execute(creator)\n",
    "connection.commit()"
   ]
  },
  {
   "cell_type": "code",
   "execution_count": null,
   "metadata": {},
   "outputs": [],
   "source": [
    "# Dealing with patient table"
   ]
  },
  {
   "cell_type": "code",
   "execution_count": null,
   "metadata": {},
   "outputs": [],
   "source": [
    "duplicated_patient = person_table[['person_id', 'date_created']]\n",
    "duplicated_patient = duplicated_patient.rename({'person_id': 'patient_id'}, axis='columns')"
   ]
  },
  {
   "cell_type": "code",
   "execution_count": null,
   "metadata": {},
   "outputs": [],
   "source": [
    "# # creating column list for insertion for person table\n",
    "# cols = \"`,`\".join([str(i) for i in duplicated_patient.columns.tolist()])\n",
    "\n",
    "# # Insert DataFrame recrds one by one.\n",
    "# for i,row in duplicated_patient.iterrows():\n",
    "#     sql1 = \"SET FOREIGN_KEY_CHECKS=0\"\n",
    "#     patient = \"INSERT INTO `patient` (`\" +cols + \"`) VALUES (\" + \"%s,\"*(len(row)-1) + \"%s)\"\n",
    "#     sql2 = \"SET FOREIGN_KEY_CHECKS=1\"\n",
    "    \n",
    "#     try:\n",
    "#         cursor.execute(sql1)\n",
    "#         cursor.execute(patient, tuple(row))\n",
    "#         cursor.execute(sql2)\n",
    "        \n",
    "#     except MySQLdb.OperationalError:\n",
    "#         continue\n",
    "\n",
    "#     # the connection is not autocommitted by default, so we must commit to save our changes\n",
    "#     connection.commit() "
   ]
  },
  {
   "cell_type": "code",
   "execution_count": null,
   "metadata": {},
   "outputs": [],
   "source": [
    "patient_creator = 'UPDATE patient SET creator=1 where patient_id!=1'\n",
    "cursor.execute(patient_creator)\n",
    "connection.commit()"
   ]
  },
  {
   "cell_type": "code",
   "execution_count": null,
   "metadata": {},
   "outputs": [],
   "source": [
    "#dealing with patient_identifier"
   ]
  },
  {
   "cell_type": "code",
   "execution_count": null,
   "metadata": {},
   "outputs": [],
   "source": [
    "import math\n",
    "def get_checkdigit(id_without_check):\n",
    "\n",
    "    # allowable characters within identifier\n",
    "    valid_chars = \"0123456789ABCDEFGHIJKLMNOPQRSTUVYWXZ_\"\n",
    "\n",
    "    # remove leading or trailing whitespace, convert to uppercase\n",
    "    id_without_checkdigit = id_without_check.strip().upper()\n",
    "\n",
    "    # this will be a running total\n",
    "    sum = 0;\n",
    "\n",
    "    # loop through digits from right to left\n",
    "    for n, char in enumerate(reversed(id_without_checkdigit)):\n",
    "\n",
    "        if not valid_chars.count(char):\n",
    "            raise Exception('InvalidIDException')\n",
    "\n",
    "        # our \"digit\" is calculated using ASCII value - 48\n",
    "        digit = ord(char) - 48\n",
    "\n",
    "        # weight will be the current digit's contribution to\n",
    "        # the running total\n",
    "        weight = None\n",
    "        if (n % 2 == 0):\n",
    "\n",
    "            # for alternating digits starting with the rightmost, we\n",
    "            # use our formula this is the same as multiplying x 2 and\n",
    "            # adding digits together for values 0 to 9.  Using the\n",
    "            # following formula allows us to gracefully calculate a\n",
    "            # weight for non-numeric \"digits\" as well (from their\n",
    "            # ASCII value - 48).\n",
    "            ## Use_sparingly: In Python 3, '/' makes floats. '//' fixes it for Python 3.\n",
    "            ## For cross compatibility, simply int() the result\n",
    "            ##                     VVVVVVVVVVVVV\n",
    "            weight = (2 * digit) - int(digit / 5) * 9\n",
    "        else:\n",
    "            # even-positioned digits just contribute their ascii\n",
    "            # value minus 48\n",
    "            weight = digit\n",
    "\n",
    "        # keep a running total of weights\n",
    "        ## Use_sparingly: removed maths.fabs()\n",
    "        ## abs() is sufficient\n",
    "        sum += weight\n",
    "\n",
    "    # avoid sum less than 10 (if characters below \"0\" allowed,\n",
    "    # this could happen)\n",
    "    sum = abs(sum) + 10\n",
    "\n",
    "    # check digit is amount needed to reach next number\n",
    "    # divisible by ten. Return an integer\n",
    "    return int((10 - (sum % 10)) % 10)"
   ]
  },
  {
   "cell_type": "code",
   "execution_count": null,
   "metadata": {},
   "outputs": [],
   "source": [
    "df_patient[['patient_id']]"
   ]
  },
  {
   "cell_type": "code",
   "execution_count": null,
   "metadata": {},
   "outputs": [],
   "source": [
    "patient_ID_identifer =  df_patient[['patient_id']]\n",
    "patient_ID_identifer\n",
    "\n",
    "identifier_list = []\n",
    "for i,row in patient_ID_identifer.iterrows():\n",
    "    identifier_list.append(get_checkdigit(str(row['patient_id'])))\n",
    "    \n",
    "identifier_list "
   ]
  },
  {
   "cell_type": "code",
   "execution_count": null,
   "metadata": {},
   "outputs": [],
   "source": [
    "patient_ID_identifer['check-digit'] = identifier_list"
   ]
  },
  {
   "cell_type": "code",
   "execution_count": null,
   "metadata": {},
   "outputs": [],
   "source": [
    "patient_ID_identifer['identifier'] = patient_ID_identifer['patient_id'].astype(str) + '-' + patient_ID_identifer['check-digit'].astype(str)"
   ]
  },
  {
   "cell_type": "code",
   "execution_count": null,
   "metadata": {},
   "outputs": [],
   "source": [
    "patient_ID_identifer_ = patient_ID_identifer[['identifier', 'patient_id']]\n",
    "patient_ID_identifer_['date_created'] = '2022-01-01'\n",
    "import uuid\n",
    "patient_ID_identifer_['uuid'] = [uuid.uuid4() for x in range(len(patient_ID_identifer_))]\n",
    "patient_ID_identifer_"
   ]
  },
  {
   "cell_type": "code",
   "execution_count": null,
   "metadata": {},
   "outputs": [],
   "source": [
    "# To save the data\n",
    "cols = \"`,`\".join([str(i) for i in patient_ID_identifer_.columns.tolist()])\n",
    "\n",
    "for i,row in patient_ID_identifer_.iterrows():\n",
    "    sql1 = \"SET FOREIGN_KEY_CHECKS=0\"\n",
    "    patient_identifier = \"INSERT INTO `patient_identifier` (`\" +cols + \"`) VALUES (\" + \"%s,\"*(len(row)-1) + \"%s)\" \n",
    "    sql2 = \"SET FOREIGN_KEY_CHECKS=1\"\n",
    "    \n",
    "    try:\n",
    "        cursor.execute(sql1)\n",
    "        cursor.execute(patient_identifier, tuple(row))\n",
    "        cursor.execute(sql2)\n",
    "        \n",
    "    except MySQLdb.OperationalError:\n",
    "        continue\n",
    "\n",
    "    # the connection is not autocommitted by default, so we must commit to save our changes\n",
    "    connection.commit() \n",
    "\n",
    "patient_ID_type = 'UPDATE patient_identifier SET identifier_type=1 where patient_id!=1'\n",
    "location_id = 'UPDATE patient_identifier SET location_id=1 where patient_id!=1'\n",
    "patient_ID_creator = 'UPDATE patient_identifier SET creator=1 where patient_id!=1'\n",
    "patient_ID_preferred = 'UPDATE patient_identifier SET preferred=1 WHERE patient_id!=1'\n",
    "\n",
    "cursor.execute(patient_ID_type)\n",
    "cursor.execute(location_id)\n",
    "cursor.execute(patient_ID_creator)\n",
    "cursor.execute(patient_ID_preferred)\n",
    "\n",
    "connection.commit() "
   ]
  }
 ],
 "metadata": {
  "kernelspec": {
   "display_name": "Python 3 (ipykernel)",
   "language": "python",
   "name": "python3"
  },
  "language_info": {
   "codemirror_mode": {
    "name": "ipython",
    "version": 3
   },
   "file_extension": ".py",
   "mimetype": "text/x-python",
   "name": "python",
   "nbconvert_exporter": "python",
   "pygments_lexer": "ipython3",
   "version": "3.9.7"
  }
 },
 "nbformat": 4,
 "nbformat_minor": 2
}
