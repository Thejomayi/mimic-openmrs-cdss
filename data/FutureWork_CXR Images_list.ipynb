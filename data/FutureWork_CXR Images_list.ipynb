{
 "cells": [
  {
   "cell_type": "markdown",
   "metadata": {},
   "source": [
    "# Get CXR images of patients with subject_id common in both labevents and encounter_diagnosis."
   ]
  },
  {
   "cell_type": "code",
   "execution_count": null,
   "metadata": {},
   "outputs": [],
   "source": [
    "import MySQLdb\n",
    "from pandas.io import sql\n",
    "# from zmq import int_sockopt_names\n",
    "conn = MySQLdb.connect(host=\"localhost\", user=\"root\", passwd=\"MYSQLROOTPASSWORD\", db=\"openmrs\") \n",
    "openmrscursor = conn.cursor() "
   ]
  },
  {
   "cell_type": "code",
   "execution_count": null,
   "metadata": {},
   "outputs": [],
   "source": [
    "mimicconn = MySQLdb.connect(host=\"localhost\", user=\"root\", passwd=\"MYSQLROOTPASSWORD\", db=\"mimic4\") \n",
    "mimiccursor = mimicconn.cursor()\n"
   ]
  },
  {
   "cell_type": "code",
   "execution_count": null,
   "metadata": {},
   "outputs": [],
   "source": [
    "import pandas as pd\n",
    "import numpy as np\n",
    "# pd.set_option('display.max_rows)\n",
    "df_lab_id = pd.read_sql('select subject_id from `labevents`', con = mimicconn)\n",
    "df_lab_id"
   ]
  },
  {
   "cell_type": "code",
   "execution_count": null,
   "metadata": {},
   "outputs": [],
   "source": [
    "unique_labevent_subjectid = set(df_lab_id['subject_id'])\n",
    "len(unique_labevent_subjectid)"
   ]
  },
  {
   "cell_type": "code",
   "execution_count": null,
   "metadata": {},
   "outputs": [],
   "source": [
    "df_encounter_diagnosis = pd.read_sql('select * from `encounter_diagnosis`', con = conn)\n",
    "df_encounter_diagnosis"
   ]
  },
  {
   "cell_type": "code",
   "execution_count": null,
   "metadata": {},
   "outputs": [],
   "source": [
    "unique_EDiag_patientid = set(df_encounter_diagnosis['patient_id'])\n",
    "len(unique_EDiag_patientid)"
   ]
  },
  {
   "cell_type": "code",
   "execution_count": null,
   "metadata": {},
   "outputs": [],
   "source": [
    "common_patient_id=unique_labevent_subjectid.intersection(unique_EDiag_patientid)\n",
    "len(common_patient_id)"
   ]
  },
  {
   "cell_type": "code",
   "execution_count": null,
   "metadata": {},
   "outputs": [],
   "source": [
    "common_patient_id_list = list(common_patient_id)\n",
    "common_patient_id_list"
   ]
  },
  {
   "cell_type": "code",
   "execution_count": null,
   "metadata": {},
   "outputs": [],
   "source": [
    "cxr_df = pd.read_csv('mimic-cxr-2.0.0-split.csv')\n",
    "cxr_df"
   ]
  },
  {
   "cell_type": "code",
   "execution_count": null,
   "metadata": {},
   "outputs": [],
   "source": [
    "unique_cxr_subjectid = set(cxr_df['subject_id'])\n",
    "len(unique_cxr_subjectid)"
   ]
  },
  {
   "cell_type": "code",
   "execution_count": null,
   "metadata": {},
   "outputs": [],
   "source": [
    "common_cxr_patientid =common_patient_id.intersection(unique_cxr_subjectid)\n",
    "common_cxr_patientid"
   ]
  },
  {
   "cell_type": "code",
   "execution_count": null,
   "metadata": {
    "scrolled": false
   },
   "outputs": [],
   "source": [
    "list_of_CXR_patientid = list(common_cxr_patientid)\n",
    "len(list_of_CXR_patientid)"
   ]
  },
  {
   "cell_type": "code",
   "execution_count": null,
   "metadata": {},
   "outputs": [],
   "source": [
    "df = pd.DataFrame (list_of_CXR_patientid, columns = ['cxr_subject_id'])\n",
    "df"
   ]
  },
  {
   "cell_type": "code",
   "execution_count": null,
   "metadata": {},
   "outputs": [],
   "source": [
    "df.to_csv('list_of_CXR_patientid.csv')"
   ]
  },
  {
   "cell_type": "code",
   "execution_count": null,
   "metadata": {},
   "outputs": [],
   "source": []
  }
 ],
 "metadata": {
  "kernelspec": {
   "display_name": "Python 3 (ipykernel)",
   "language": "python",
   "name": "python3"
  },
  "language_info": {
   "codemirror_mode": {
    "name": "ipython",
    "version": 3
   },
   "file_extension": ".py",
   "mimetype": "text/x-python",
   "name": "python",
   "nbconvert_exporter": "python",
   "pygments_lexer": "ipython3",
   "version": "3.9.7"
  }
 },
 "nbformat": 4,
 "nbformat_minor": 4
}
