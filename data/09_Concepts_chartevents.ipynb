{
 "cells": [
  {
   "cell_type": "code",
   "execution_count": null,
   "metadata": {},
   "outputs": [],
   "source": [
    "import pandas as pd\n",
    "import numpy as np\n",
    "\n",
    "import MySQLdb\n",
    "from pandas.io import sql\n",
    "\n",
    "conn = MySQLdb.connect(host=\"localhost\", user=\"root\", passwd=\"MYSQLROOTPASSWORD\", db=\"openmrs\") \n",
    "openmrscursor = conn.cursor() "
   ]
  },
  {
   "cell_type": "code",
   "execution_count": null,
   "metadata": {},
   "outputs": [],
   "source": [
    "mimicconn = MySQLdb.connect(host=\"localhost\", user=\"root\", passwd=\"MYSQLROOTPASSWORD\", db=\"mimic4\") \n",
    "mimiccursor = mimicconn.cursor()"
   ]
  },
  {
   "cell_type": "code",
   "execution_count": null,
   "metadata": {},
   "outputs": [],
   "source": [
    "# creating concepts for chartevents"
   ]
  },
  {
   "cell_type": "code",
   "execution_count": null,
   "metadata": {},
   "outputs": [],
   "source": [
    "df_chartevents_mimic = pd.read_sql('SELECT distinct * FROM mimic4.d_items where linksto = \"chartevents\" and param_type!=\"Checkbox\" and (category=\"Routine Vital Signs\" or category=\"General\")', con = mimicconn)\n",
    "df_chartevents_mimic"
   ]
  },
  {
   "cell_type": "code",
   "execution_count": null,
   "metadata": {},
   "outputs": [],
   "source": [
    "df_chartevents_mimic['label'] = df_chartevents_mimic['label'].str.lower()\n",
    "df_chartevents_mimic['abbreviation'] = df_chartevents_mimic['abbreviation'].str.lower()"
   ]
  },
  {
   "cell_type": "code",
   "execution_count": null,
   "metadata": {},
   "outputs": [],
   "source": [
    "df_chartevents_mimic = df_chartevents_mimic.drop_duplicates(subset = 'label')"
   ]
  },
  {
   "cell_type": "code",
   "execution_count": null,
   "metadata": {},
   "outputs": [],
   "source": [
    "df_chartevents_mimic.nunique()"
   ]
  },
  {
   "cell_type": "code",
   "execution_count": null,
   "metadata": {},
   "outputs": [],
   "source": [
    "df_chartevents_numeric_concept = df_chartevents_mimic[df_chartevents_mimic['param_type']=='Numeric']\n",
    "df_chartevents_numeric_concept = df_chartevents_numeric_concept[['label', 'abbreviation']]"
   ]
  },
  {
   "cell_type": "code",
   "execution_count": null,
   "metadata": {},
   "outputs": [],
   "source": [
    "df_chartevents_numeric_concept['class_id'] = 1\n",
    "df_chartevents_numeric_concept['datatype_id'] = 1\n",
    "df_chartevents_numeric_concept['date_created']= '2022-01-01'\n",
    "df_chartevents_numeric_concept['creator'] = 1\n",
    "\n",
    "import uuid\n",
    "df_chartevents_numeric_concept['uuid'] = [uuid.uuid4() for x in range(len(df_chartevents_numeric_concept))]"
   ]
  },
  {
   "cell_type": "code",
   "execution_count": null,
   "metadata": {},
   "outputs": [],
   "source": [
    "df_chartevents_numeric_concept = df_chartevents_numeric_concept.rename(columns = {'label':'description', 'abbreviation':'short_name'})\n",
    "df_chartevents_numeric_concept"
   ]
  },
  {
   "cell_type": "code",
   "execution_count": null,
   "metadata": {},
   "outputs": [],
   "source": [
    "column_names = ['short_name', 'description', 'datatype_id', 'class_id', 'creator', 'date_created', 'uuid']\n",
    "df_chartevents_numeric_concept = df_chartevents_numeric_concept.reindex(columns = column_names)\n",
    "len(df_chartevents_numeric_concept.index)"
   ]
  },
  {
   "cell_type": "code",
   "execution_count": null,
   "metadata": {},
   "outputs": [],
   "source": [
    "# creating column list for insertion into concept table\n",
    "cols = \"`,`\".join([str(i) for i in df_chartevents_numeric_concept.columns.tolist()])\n",
    "\n",
    "# Insert DataFrame recrds one by one.\n",
    "for i,row in df_chartevents_numeric_concept.iterrows():\n",
    "    sql1 = \"SET FOREIGN_KEY_CHECKS=0\"\n",
    "    sql = \"INSERT INTO `concept` (`\" +cols + \"`) VALUES (\" + \"%s,\"*(len(row)-1) + \"%s)\"\n",
    "    sql2 = \"SET FOREIGN_KEY_CHECKS=1\"\n",
    "    try:\n",
    "        openmrscursor.execute(sql1)\n",
    "        openmrscursor.execute(sql, tuple(row))\n",
    "        openmrscursor.execute(sql2)\n",
    "        \n",
    "    except MySQLdb.OperationalError:\n",
    "        continue\n",
    "\n",
    "    # the connection is not autocommitted by default, so we must commit to save our changes\n",
    "    conn.commit() "
   ]
  },
  {
   "cell_type": "code",
   "execution_count": null,
   "metadata": {},
   "outputs": [],
   "source": [
    "df_chartevents_text_concept = df_chartevents_mimic[df_chartevents_mimic['param_type']=='Text']\n",
    "df_chartevents_text_concept = df_chartevents_text_concept[['label', 'abbreviation']]\n",
    "df_chartevents_text_concept"
   ]
  },
  {
   "cell_type": "code",
   "execution_count": null,
   "metadata": {},
   "outputs": [],
   "source": [
    "df_chartevents_text_concept['class_id'] = 1\n",
    "df_chartevents_text_concept['datatype_id'] = 3\n",
    "df_chartevents_text_concept['date_created']= '2022-01-01'\n",
    "df_chartevents_text_concept['creator'] = 1\n",
    "\n",
    "import uuid\n",
    "df_chartevents_text_concept['uuid'] = [uuid.uuid4() for x in range(len(df_chartevents_text_concept))]"
   ]
  },
  {
   "cell_type": "code",
   "execution_count": null,
   "metadata": {},
   "outputs": [],
   "source": [
    "df_chartevents_text_concept = df_chartevents_text_concept.rename(columns = {'label':'description', 'abbreviation':'short_name'})\n",
    "df_chartevents_text_concept"
   ]
  },
  {
   "cell_type": "code",
   "execution_count": null,
   "metadata": {},
   "outputs": [],
   "source": [
    "df_chartevents_list = list(df_chartevents_text_concept['description'])\n",
    "df_chartevents_list"
   ]
  },
  {
   "cell_type": "code",
   "execution_count": null,
   "metadata": {},
   "outputs": [],
   "source": [
    "column_names = ['short_name', 'description', 'datatype_id', 'class_id', 'creator', 'date_created', 'uuid']\n",
    "df_chartevents_text_concept = df_chartevents_text_concept.reindex(columns = column_names)"
   ]
  },
  {
   "cell_type": "code",
   "execution_count": null,
   "metadata": {},
   "outputs": [],
   "source": [
    "# creating column list for insertion into concept table\n",
    "cols = \"`,`\".join([str(i) for i in df_chartevents_text_concept.columns.tolist()])\n",
    "\n",
    "# Insert DataFrame recrds one by one.\n",
    "for i,row in df_chartevents_text_concept.iterrows():\n",
    "    sql1 = \"SET FOREIGN_KEY_CHECKS=0\"\n",
    "    sql = \"INSERT INTO `concept` (`\" +cols + \"`) VALUES (\" + \"%s,\"*(len(row)-1) + \"%s)\"\n",
    "    sql2 = \"SET FOREIGN_KEY_CHECKS=1\"\n",
    "    try:\n",
    "        openmrscursor.execute(sql1)\n",
    "        openmrscursor.execute(sql, tuple(row))\n",
    "        openmrscursor.execute(sql2)\n",
    "        \n",
    "    except MySQLdb.OperationalError:\n",
    "        continue\n",
    "\n",
    "    # the connection is not autocommitted by default, so we must commit to save our changes\n",
    "    conn.commit() "
   ]
  },
  {
   "cell_type": "markdown",
   "metadata": {},
   "source": [
    "# concept numeric for numeric value chartevents"
   ]
  },
  {
   "cell_type": "code",
   "execution_count": null,
   "metadata": {},
   "outputs": [],
   "source": [
    "df_chartevents_mimic"
   ]
  },
  {
   "cell_type": "code",
   "execution_count": null,
   "metadata": {},
   "outputs": [],
   "source": [
    "df_chartevents_mimic = df_chartevents_mimic[df_chartevents_mimic['param_type']=='Numeric']\n",
    "len(df_chartevents_mimic.index)"
   ]
  },
  {
   "cell_type": "code",
   "execution_count": null,
   "metadata": {},
   "outputs": [],
   "source": [
    "df_chartevents = pd.read_sql(\"SELECT distinct itemid, valueuom from mimic4.chartevents where itemid IN (SELECT distinct itemid FROM mimic4.d_items where linksto = 'chartevents' and param_type!='Checkbox' and (category='Routine Vital Signs' or category='General') and hadm_id IS NOT NULL AND value IS NOT NULL AND value NOT regexp '[[:alpha:]]')\", con = mimicconn)"
   ]
  },
  {
   "cell_type": "code",
   "execution_count": null,
   "metadata": {},
   "outputs": [],
   "source": [
    "df_chartevents_1 = df_chartevents.sort_values(by = 'valueuom', na_position='last', ascending=False)\n",
    "df_chartevents_1 = df_chartevents_1.drop_duplicates(subset='itemid', keep='first')\n",
    "len(df_chartevents_1.index) "
   ]
  },
  {
   "cell_type": "code",
   "execution_count": null,
   "metadata": {},
   "outputs": [],
   "source": [
    "df_chartevents_final = pd.merge(df_chartevents_mimic, df_chartevents_1, on=\"itemid\")\n",
    "len(df_chartevents_final.index) "
   ]
  },
  {
   "cell_type": "code",
   "execution_count": null,
   "metadata": {},
   "outputs": [],
   "source": [
    "df_concept = pd.read_sql('select  * from `concept`', con = conn)\n",
    "df_concept"
   ]
  },
  {
   "cell_type": "code",
   "execution_count": null,
   "metadata": {},
   "outputs": [],
   "source": [
    "chartevents_concept = df_concept[107149 : 107213]\n",
    "chartevents_concept"
   ]
  },
  {
   "cell_type": "code",
   "execution_count": null,
   "metadata": {},
   "outputs": [],
   "source": [
    "chartevents_concept_dict = dict(zip(chartevents_concept.description, chartevents_concept.concept_id))\n",
    "len(chartevents_concept_dict)"
   ]
  },
  {
   "cell_type": "code",
   "execution_count": null,
   "metadata": {},
   "outputs": [],
   "source": [
    "df_chartevents_final['concept_id'] = df_chartevents_final['label'].map(chartevents_concept_dict) \n",
    "df_chartevents_final"
   ]
  },
  {
   "cell_type": "code",
   "execution_count": null,
   "metadata": {},
   "outputs": [],
   "source": [
    "df_chartevents_final = df_chartevents_final[['valueuom', 'lownormalvalue', 'highnormalvalue', 'concept_id']]\n",
    "df_chartevents_final = df_chartevents_final.rename(columns={\"valueuom\": \"units\", \"lownormalvalue\":\"low_normal\", \"highnormalvalue\": \"hi_normal\"})\n",
    "df_chartevents_final"
   ]
  },
  {
   "cell_type": "code",
   "execution_count": null,
   "metadata": {},
   "outputs": [],
   "source": [
    "df_chartevents_final= df_chartevents_final.replace({np.NAN: None})\n",
    "df_chartevents_final"
   ]
  },
  {
   "cell_type": "code",
   "execution_count": null,
   "metadata": {},
   "outputs": [],
   "source": [
    "column_names = ['concept_id', 'hi_normal', 'low_normal', 'units']\n",
    "df_chartevents_final = df_chartevents_final.reindex(columns = column_names )\n",
    "df_chartevents_final"
   ]
  },
  {
   "cell_type": "code",
   "execution_count": null,
   "metadata": {},
   "outputs": [],
   "source": [
    "# creating column list for insertion into concept table\n",
    "cols = \"`,`\".join([str(i) for i in df_chartevents_final.columns.tolist()])\n",
    "\n",
    "# Insert DataFrame recrds one by one.\n",
    "for i,row in df_chartevents_final.iterrows():\n",
    "    sql1 = \"SET FOREIGN_KEY_CHECKS=0\"\n",
    "    sql = \"INSERT INTO `concept_numeric` (`\" +cols + \"`) VALUES (\" + \"%s,\"*(len(row)-1) + \"%s)\"\n",
    "    sql2 = \"SET FOREIGN_KEY_CHECKS=1\"\n",
    "    try:\n",
    "        openmrscursor.execute(sql1)\n",
    "        openmrscursor.execute(sql, tuple(row))\n",
    "        openmrscursor.execute(sql2)\n",
    "        \n",
    "    except MySQLdb.OperationalError:\n",
    "        continue\n",
    "\n",
    "    # the connection is not autocommitted by default, so we must commit to save our changes\n",
    "    conn.commit() "
   ]
  },
  {
   "cell_type": "code",
   "execution_count": null,
   "metadata": {},
   "outputs": [],
   "source": [
    "openmrscursor.execute('UPDATE concept_numeric SET allow_decimal = 1')\n",
    "conn.commit()"
   ]
  },
  {
   "cell_type": "code",
   "execution_count": null,
   "metadata": {},
   "outputs": [],
   "source": [
    "df_concept_numeric = pd.read_sql('select  * from `concept_numeric`', con = conn)\n",
    "df_concept_numeric"
   ]
  },
  {
   "cell_type": "code",
   "execution_count": null,
   "metadata": {},
   "outputs": [],
   "source": []
  },
  {
   "cell_type": "code",
   "execution_count": null,
   "metadata": {},
   "outputs": [],
   "source": []
  }
 ],
 "metadata": {
  "kernelspec": {
   "display_name": "Python 3 (ipykernel)",
   "language": "python",
   "name": "python3"
  },
  "language_info": {
   "codemirror_mode": {
    "name": "ipython",
    "version": 3
   },
   "file_extension": ".py",
   "mimetype": "text/x-python",
   "name": "python",
   "nbconvert_exporter": "python",
   "pygments_lexer": "ipython3",
   "version": "3.9.7"
  }
 },
 "nbformat": 4,
 "nbformat_minor": 4
}
