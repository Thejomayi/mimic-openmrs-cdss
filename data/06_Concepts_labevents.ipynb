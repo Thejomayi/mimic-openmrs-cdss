{
 "cells": [
  {
   "cell_type": "code",
   "execution_count": null,
   "metadata": {},
   "outputs": [],
   "source": [
    "import pandas as pd\n",
    "import numpy as np\n",
    "\n",
    "import MySQLdb\n",
    "from pandas.io import sql\n",
    "\n",
    "conn = MySQLdb.connect(host=\"localhost\", user=\"root\", passwd=\"MYSQLROOTPASSWORD\", db=\"openmrs\") \n",
    "openmrscursor = conn.cursor() "
   ]
  },
  {
   "cell_type": "code",
   "execution_count": null,
   "metadata": {},
   "outputs": [],
   "source": [
    "df_concept = pd.read_sql('select * from `concept`', con = conn) \n",
    "df_concept"
   ]
  },
  {
   "cell_type": "markdown",
   "metadata": {},
   "source": [
    "# Getting numeric lab concept"
   ]
  },
  {
   "cell_type": "code",
   "execution_count": null,
   "metadata": {},
   "outputs": [],
   "source": [
    "mimicconn = MySQLdb.connect(host=\"localhost\", user=\"root\", passwd=\"MYSQLROOTPASSWORD\", db=\"mimic4\") \n",
    "mimiccursor = mimicconn.cursor()\n",
    "df_labevents_mimic_num = pd.read_sql(\"SELECT * from mimic4.d_labitems where itemid IN (SELECT distinct itemid from mimic4.labevents where value NOT regexp '[[:alpha:]]')\", con = mimicconn)"
   ]
  },
  {
   "cell_type": "code",
   "execution_count": null,
   "metadata": {},
   "outputs": [],
   "source": [
    "df_labevents_mimic_num['label'] = df_labevents_mimic_num['label'].str.lower()\n",
    "df_labevents_mimic_num = df_labevents_mimic_num.drop_duplicates(subset='label', keep='first')"
   ]
  },
  {
   "cell_type": "code",
   "execution_count": null,
   "metadata": {},
   "outputs": [],
   "source": [
    "df_labevents_mimic_num[df_labevents_mimic_num['label']=='potassium']"
   ]
  },
  {
   "cell_type": "code",
   "execution_count": null,
   "metadata": {},
   "outputs": [],
   "source": [
    "itemd_list = df_labevents_mimic_num[\"itemid\"].tolist()\n",
    "itemd_list"
   ]
  },
  {
   "cell_type": "code",
   "execution_count": null,
   "metadata": {},
   "outputs": [],
   "source": [
    "df_concept_labevents = df_labevents_mimic_num.rename({\"loinc_code\": \"short_name\", \"label\": \"description\" }, axis='columns')\n",
    "df_concept_labevents_ = df_concept_labevents.drop(columns=['itemid', 'fluid', 'category'])\n",
    "df_concept_labevents_['date_created']= '2022-01-01'\n",
    "import uuid\n",
    "df_concept_labevents_['uuid'] = [uuid.uuid4() for x in range(len(df_concept_labevents_))]\n",
    "df_concept_labevents_['datatype_id'] = 1\n",
    "df_concept_labevents_['class_id'] = 1\n",
    "df_concept_labevents_['creator']=1\n"
   ]
  },
  {
   "cell_type": "markdown",
   "metadata": {},
   "source": [
    "# Getting nonnumeric lab concepts"
   ]
  },
  {
   "cell_type": "code",
   "execution_count": null,
   "metadata": {},
   "outputs": [],
   "source": [
    "df_labevents_mimic_nonnum = pd.read_sql(\"SELECT * from mimic4.d_labitems where itemid IN (SELECT distinct itemid from mimic4.labevents where value regexp '[[:alpha:]]')\", con = mimicconn)\n",
    "df_labevents_mimic_nonnum"
   ]
  },
  {
   "cell_type": "code",
   "execution_count": null,
   "metadata": {},
   "outputs": [],
   "source": [
    "df_labevents_mimic_nonnum['label'] = df_labevents_mimic_nonnum['label'].str.lower()\n",
    "df_labevents_mimic_nonnum = df_labevents_mimic_nonnum.drop_duplicates(subset='label', keep='first')\n"
   ]
  },
  {
   "cell_type": "code",
   "execution_count": null,
   "metadata": {},
   "outputs": [],
   "source": [
    "df_labevents_mimic_nonnum"
   ]
  },
  {
   "cell_type": "code",
   "execution_count": null,
   "metadata": {},
   "outputs": [],
   "source": [
    "df_labevents_mimic_nonnum[df_labevents_mimic_nonnum['label']=='cd20']"
   ]
  },
  {
   "cell_type": "code",
   "execution_count": null,
   "metadata": {},
   "outputs": [],
   "source": [
    "df_labevents_mimic_nonnum_ = pd.read_sql(\"SELECT distinct itemid, valueuom, ref_range_lower, ref_range_upper from mimic4.labevents where itemid IN (SELECT distinct itemid from mimic4.labevents where value regexp '[[:alpha:]]')\", con = mimicconn)\n"
   ]
  },
  {
   "cell_type": "code",
   "execution_count": null,
   "metadata": {},
   "outputs": [],
   "source": [
    "df_labevents_mimic_nonnum_d = df_labevents_mimic_nonnum_.sort_values(by = 'valueuom', na_position='last', ascending=False)\n",
    "df_labevents_mimic_nonnum_d = df_labevents_mimic_nonnum_d.drop_duplicates(subset='itemid', keep='first')\n",
    "df_labevents_mimic_nonnum_d "
   ]
  },
  {
   "cell_type": "code",
   "execution_count": null,
   "metadata": {},
   "outputs": [],
   "source": [
    "df_concept_labevents_nonnum = df_labevents_mimic_nonnum.rename({\"loinc_code\": \"short_name\", \"label\": \"description\" }, axis='columns')\n",
    "df_concept_labevents_nonnum = df_concept_labevents_nonnum.drop(columns=['itemid', 'fluid', 'category'])\n",
    "df_concept_labevents_nonnum['date_created']= '2022-01-01'\n",
    "import uuid\n",
    "df_concept_labevents_nonnum['uuid'] = [uuid.uuid4() for x in range(len(df_concept_labevents_nonnum))]\n",
    "df_concept_labevents_nonnum['datatype_id'] = 2\n",
    "df_concept_labevents_nonnum['class_id']= 1\n",
    "df_concept_labevents_nonnum['creator'] = 1"
   ]
  },
  {
   "cell_type": "code",
   "execution_count": null,
   "metadata": {},
   "outputs": [],
   "source": [
    "total_lab_concept = df_concept_labevents_.append(df_concept_labevents_nonnum)\n",
    "total_lab_concept"
   ]
  },
  {
   "cell_type": "code",
   "execution_count": null,
   "metadata": {},
   "outputs": [],
   "source": [
    "total_lab_concept = total_lab_concept.drop_duplicates(subset = 'description', keep = 'first')\n",
    "total_lab_concept\n"
   ]
  },
  {
   "cell_type": "code",
   "execution_count": null,
   "metadata": {},
   "outputs": [],
   "source": [
    "column_names = ['short_name', 'description', 'datatype_id', 'class_id', 'creator', 'date_created', 'uuid']\n",
    "total_lab_concept = total_lab_concept.reindex(columns=column_names)\n",
    "total_lab_concept"
   ]
  },
  {
   "cell_type": "code",
   "execution_count": null,
   "metadata": {},
   "outputs": [],
   "source": [
    "# creating column list for insertion into concept table\n",
    "cols = \"`,`\".join([str(i) for i in total_lab_concept.columns.tolist()])\n",
    "\n",
    "# Insert DataFrame recrds one by one.\n",
    "for i,row in total_lab_concept.iterrows():\n",
    "    sql1 = \"SET FOREIGN_KEY_CHECKS=0\"\n",
    "    sql = \"INSERT INTO `concept` (`\" +cols + \"`) VALUES (\" + \"%s,\"*(len(row)-1) + \"%s)\"\n",
    "    sql2 = \"SET FOREIGN_KEY_CHECKS=1\"\n",
    "    try:\n",
    "        openmrscursor.execute(sql1)\n",
    "        openmrscursor.execute(sql, tuple(row))\n",
    "        openmrscursor.execute(sql2)\n",
    "        \n",
    "    except MySQLdb.OperationalError:\n",
    "        continue\n",
    "\n",
    "    # the connection is not autocommitted by default, so we must commit to save our changes\n",
    "    conn.commit() "
   ]
  },
  {
   "cell_type": "code",
   "execution_count": null,
   "metadata": {},
   "outputs": [],
   "source": [
    "total_lab_concept[total_lab_concept['datatype_id']==1]"
   ]
  },
  {
   "cell_type": "markdown",
   "metadata": {},
   "source": [
    "# Dealing with concept numeric"
   ]
  },
  {
   "cell_type": "code",
   "execution_count": null,
   "metadata": {},
   "outputs": [],
   "source": [
    "df_concept_=pd.read_sql('select * from `concept` where datatype_id=1 and class_id = 1', con = conn) \n",
    "df_concept_"
   ]
  },
  {
   "cell_type": "code",
   "execution_count": null,
   "metadata": {},
   "outputs": [],
   "source": [
    "conceptid_list = df_concept_[\"concept_id\"].tolist()\n",
    "len(conceptid_list)"
   ]
  },
  {
   "cell_type": "code",
   "execution_count": null,
   "metadata": {},
   "outputs": [],
   "source": [
    "itemid_conceptid = dict(zip(itemd_list, conceptid_list))\n",
    "itemid_conceptid"
   ]
  },
  {
   "cell_type": "code",
   "execution_count": null,
   "metadata": {},
   "outputs": [],
   "source": [
    "df_labevents_mimic_num_ = pd.read_sql(\"SELECT distinct itemid, valueuom, ref_range_lower, ref_range_upper from mimic4.labevents where itemid IN (SELECT distinct itemid from mimic4.labevents where value NOT regexp '[[:alpha:]]')\", con = mimicconn)\n"
   ]
  },
  {
   "cell_type": "code",
   "execution_count": null,
   "metadata": {},
   "outputs": [],
   "source": [
    "df_labevents_mimic_num_ = df_labevents_mimic_num_.sort_values(by = 'valueuom', na_position='last', ascending=False)\n",
    "df_labevents_mimic_num_ = df_labevents_mimic_num_.drop_duplicates(subset='itemid', keep='first')\n",
    "df_labevents_mimic_num_ "
   ]
  },
  {
   "cell_type": "code",
   "execution_count": null,
   "metadata": {},
   "outputs": [],
   "source": [
    "df_labevents_mimic_num_ = pd.merge(df_labevents_mimic_num, df_labevents_mimic_num_, on=\"itemid\")\n",
    "df_labevents_mimic_num_"
   ]
  },
  {
   "cell_type": "code",
   "execution_count": null,
   "metadata": {},
   "outputs": [],
   "source": [
    "df_labevents_mimic_num_['concept_id'] = df_labevents_mimic_num_['itemid'].map(itemid_conceptid) \n",
    "df_labevents_mimic_num_"
   ]
  },
  {
   "cell_type": "code",
   "execution_count": null,
   "metadata": {},
   "outputs": [],
   "source": [
    "df_labevents_mimic_num_copy = df_labevents_mimic_num_[['valueuom', 'ref_range_lower', 'ref_range_upper', 'concept_id']]\n",
    "df_labevents_mimic_num_copy= df_labevents_mimic_num_copy.rename(columns={\"valueuom\": \"units\", \"ref_range_lower\":\"low_normal\", \"ref_range_upper\": \"hi_normal\"})\n",
    "df_labevents_mimic_num_copy"
   ]
  },
  {
   "cell_type": "code",
   "execution_count": null,
   "metadata": {},
   "outputs": [],
   "source": [
    "df_labevents_mimic_num_copy= df_labevents_mimic_num_copy.replace({np.NAN: None})\n",
    "df_labevents_mimic_num_copy"
   ]
  },
  {
   "cell_type": "code",
   "execution_count": null,
   "metadata": {},
   "outputs": [],
   "source": [
    "# creating column list for insertion into concept table\n",
    "cols = \"`,`\".join([str(i) for i in df_labevents_mimic_num_copy.columns.tolist()])\n",
    "\n",
    "# Insert DataFrame recrds one by one.\n",
    "for i,row in df_labevents_mimic_num_copy.iterrows():\n",
    "    sql1 = \"SET FOREIGN_KEY_CHECKS=0\"\n",
    "    sql = \"INSERT INTO `concept_numeric` (`\" +cols + \"`) VALUES (\" + \"%s,\"*(len(row)-1) + \"%s)\"\n",
    "    sql2 = \"SET FOREIGN_KEY_CHECKS=1\"\n",
    "    try:\n",
    "        openmrscursor.execute(sql1)\n",
    "        openmrscursor.execute(sql, tuple(row))\n",
    "        openmrscursor.execute(sql2)\n",
    "        \n",
    "    except MySQLdb.OperationalError:\n",
    "        continue\n",
    "\n",
    "    # the connection is not autocommitted by default, so we must commit to save our changes\n",
    "    conn.commit() \n"
   ]
  },
  {
   "cell_type": "code",
   "execution_count": null,
   "metadata": {},
   "outputs": [],
   "source": [
    "df_labevents_nonnum_merge = pd.merge(df_labevents_mimic_nonnum, df_labevents_mimic_nonnum_d, on=\"itemid\")\n",
    "df_labevents_nonnum_merge"
   ]
  },
  {
   "cell_type": "markdown",
   "metadata": {},
   "source": [
    "# Dealing with coded answer"
   ]
  },
  {
   "cell_type": "code",
   "execution_count": null,
   "metadata": {},
   "outputs": [],
   "source": [
    "_df_ = pd.read_csv('non-numeric-labevents_.csv')\n",
    "\n",
    "_df_= _df_[['value', 'value1']]\n",
    "_df_.dropna(inplace = True)\n",
    "_df_"
   ]
  },
  {
   "cell_type": "code",
   "execution_count": null,
   "metadata": {},
   "outputs": [],
   "source": [
    "dict_nonnum_1 = dict(zip(_df_.value, _df_.value1))\n",
    "dict_nonnum_1"
   ]
  },
  {
   "cell_type": "code",
   "execution_count": null,
   "metadata": {},
   "outputs": [],
   "source": [
    "a = set(_df_['value1'].to_list())\n",
    "len(a)"
   ]
  },
  {
   "cell_type": "code",
   "execution_count": null,
   "metadata": {},
   "outputs": [],
   "source": [
    "b = [item for item in a if not item.isdigit()]"
   ]
  },
  {
   "cell_type": "code",
   "execution_count": null,
   "metadata": {},
   "outputs": [],
   "source": [
    "b.remove('274.9')"
   ]
  },
  {
   "cell_type": "code",
   "execution_count": null,
   "metadata": {},
   "outputs": [],
   "source": [
    "for index, row in _df_.iterrows():\n",
    "    if row['value1'] not in b:\n",
    "        _df_=_df_.drop(index)"
   ]
  },
  {
   "cell_type": "code",
   "execution_count": null,
   "metadata": {},
   "outputs": [],
   "source": [
    "dict_nonnum = dict(zip(_df_.value, _df_.value1))\n",
    "dict_nonnum"
   ]
  },
  {
   "cell_type": "code",
   "execution_count": null,
   "metadata": {},
   "outputs": [],
   "source": [
    "_df_cod_concept = _df_[['value1']]\n",
    "_df_cod_concept = _df_cod_concept.rename({'value1':'description'}, axis='columns')"
   ]
  },
  {
   "cell_type": "code",
   "execution_count": null,
   "metadata": {},
   "outputs": [],
   "source": [
    "unique_coded_answer = _df_cod_concept.sort_values(by = 'description', na_position='last', ascending=False)\n",
    "unique_coded_answer = unique_coded_answer.drop_duplicates(subset='description', keep='first')\n",
    "unique_coded_answer "
   ]
  },
  {
   "cell_type": "code",
   "execution_count": null,
   "metadata": {},
   "outputs": [],
   "source": [
    "unique_coded_answer['description'].nunique()"
   ]
  },
  {
   "cell_type": "code",
   "execution_count": null,
   "metadata": {},
   "outputs": [],
   "source": [
    "unique_coded_answer['date_created']= '2022-01-01'\n",
    "import uuid\n",
    "unique_coded_answer['uuid'] = [uuid.uuid4() for x in range(len(unique_coded_answer))]\n",
    "unique_coded_answer"
   ]
  },
  {
   "cell_type": "code",
   "execution_count": null,
   "metadata": {},
   "outputs": [],
   "source": [
    "# creating column list for insertion into concept table\n",
    "cols = \"`,`\".join([str(i) for i in unique_coded_answer.columns.tolist()])\n",
    "\n",
    "# Insert DataFrame recrds one by one.\n",
    "for i,row in unique_coded_answer.iterrows():\n",
    "    sql1 = \"SET FOREIGN_KEY_CHECKS=0\"\n",
    "    sql = \"INSERT INTO `concept` (`\" +cols + \"`) VALUES (\" + \"%s,\"*(len(row)-1) + \"%s)\"\n",
    "    sql2 = \"SET FOREIGN_KEY_CHECKS=1\"\n",
    "    try:\n",
    "        openmrscursor.execute(sql1)\n",
    "        openmrscursor.execute(sql, tuple(row))\n",
    "        openmrscursor.execute(sql2)\n",
    "        \n",
    "    except MySQLdb.OperationalError:\n",
    "        continue\n",
    "\n",
    "    # the connection is not autocommitted by default, so we must commit to save our changes\n",
    "    conn.commit() \n",
    "\n",
    "datatype_id = 'UPDATE concept SET datatype_id=4 where datatype_id=0'\n",
    "class_id = 'UPDATE concept SET class_id=11 where class_id=0'\n",
    "concept_creator = 'UPDATE concept SET creator = 1' \n",
    "\n",
    "openmrscursor.execute(datatype_id)\n",
    "openmrscursor.execute(class_id)\n",
    "openmrscursor.execute(concept_creator)\n",
    "\n",
    "\n",
    "conn.commit() "
   ]
  },
  {
   "cell_type": "code",
   "execution_count": null,
   "metadata": {},
   "outputs": [],
   "source": []
  },
  {
   "cell_type": "markdown",
   "metadata": {},
   "source": [
    "# Dealing with importing into concept answer table"
   ]
  },
  {
   "cell_type": "code",
   "execution_count": null,
   "metadata": {},
   "outputs": [],
   "source": [
    "unique_cod_values = pd.read_sql(\"SELECT distinct itemid, value FROM mimic4.labevents where value regexp '[[:alpha:]]'\", con=mimicconn)\n",
    "unique_cod_values"
   ]
  },
  {
   "cell_type": "code",
   "execution_count": null,
   "metadata": {},
   "outputs": [],
   "source": [
    "unique_cod_values_ = unique_cod_values.drop_duplicates(keep='first')\n",
    "unique_cod_values_ "
   ]
  },
  {
   "cell_type": "code",
   "execution_count": null,
   "metadata": {},
   "outputs": [],
   "source": [
    "df_labitems_mimic_ = pd.read_sql(\"SELECT itemid, label from mimic4.d_labitems where itemid IS NOT NULL AND label IS NOT NULL\", con = mimicconn)\n",
    "df_labitems_mimic_"
   ]
  },
  {
   "cell_type": "code",
   "execution_count": null,
   "metadata": {},
   "outputs": [],
   "source": [
    "df_labitems_mimic_ = df_labitems_mimic_.drop_duplicates(keep= 'first')\n",
    "df_labitems_mimic_"
   ]
  },
  {
   "cell_type": "code",
   "execution_count": null,
   "metadata": {},
   "outputs": [],
   "source": [
    "dict_nonnum_1"
   ]
  },
  {
   "cell_type": "code",
   "execution_count": null,
   "metadata": {},
   "outputs": [],
   "source": [
    "unique_cod_values_['value1'] = unique_cod_values_['value'].map(dict_nonnum_1)\n",
    "unique_cod_values_"
   ]
  },
  {
   "cell_type": "code",
   "execution_count": null,
   "metadata": {},
   "outputs": [],
   "source": [
    "unique_cod_values_[unique_cod_values_['value1'].isnull()]"
   ]
  },
  {
   "cell_type": "code",
   "execution_count": null,
   "metadata": {},
   "outputs": [],
   "source": [
    "List = set(unique_cod_values_['value1'].to_list())\n",
    "List"
   ]
  },
  {
   "cell_type": "code",
   "execution_count": null,
   "metadata": {},
   "outputs": [],
   "source": [
    "num = ['1125',\n",
    " '1265',\n",
    " '1440',\n",
    " '1840',\n",
    " '1850',\n",
    " '233',\n",
    " '257',\n",
    " '274.9',\n",
    " '3553',\n",
    " '610',\n",
    " '642',\n",
    " '660',\n",
    " '680',\n",
    " '685',\n",
    " '770',\n",
    " '820',\n",
    " '834',\n",
    " '875',\n",
    " '915',\n",
    " '936']\n",
    "unique_cod_values_ = unique_cod_values_[~unique_cod_values_['value1'].isin(num)]\n",
    "unique_cod_values_"
   ]
  },
  {
   "cell_type": "code",
   "execution_count": null,
   "metadata": {},
   "outputs": [],
   "source": [
    "unique_cod_values_[unique_cod_values_['value1'].isnull()]"
   ]
  },
  {
   "cell_type": "code",
   "execution_count": null,
   "metadata": {},
   "outputs": [],
   "source": [
    "unique_cod_values_1 = pd.merge(df_labitems_mimic_, unique_cod_values_, on=\"itemid\")\n",
    "unique_cod_values_1"
   ]
  },
  {
   "cell_type": "code",
   "execution_count": null,
   "metadata": {},
   "outputs": [],
   "source": [
    "unique_cod_values_1.isnull().sum()"
   ]
  },
  {
   "cell_type": "code",
   "execution_count": null,
   "metadata": {},
   "outputs": [],
   "source": [
    "df_nonnum_con = pd.read_sql('select * from concept where class_id = 1', con=conn)\n",
    "df_nonnum_con"
   ]
  },
  {
   "cell_type": "code",
   "execution_count": null,
   "metadata": {},
   "outputs": [],
   "source": [
    "df_con_ans = pd.read_sql('select * from concept where class_id = 11', con=conn)\n",
    "df_con_ans "
   ]
  },
  {
   "cell_type": "code",
   "execution_count": null,
   "metadata": {},
   "outputs": [],
   "source": [
    "description_concept = dict(zip(df_nonnum_con.description, df_nonnum_con.concept_id))\n",
    "len(description_concept)"
   ]
  },
  {
   "cell_type": "code",
   "execution_count": null,
   "metadata": {},
   "outputs": [],
   "source": [
    "unique_cod_values_1['label'] = unique_cod_values_1['label'].str.lower()"
   ]
  },
  {
   "cell_type": "code",
   "execution_count": null,
   "metadata": {},
   "outputs": [],
   "source": [
    "unique_cod_values_1['concept_id'] = unique_cod_values_1['label'].map(description_concept)\n",
    "unique_cod_values_1"
   ]
  },
  {
   "cell_type": "code",
   "execution_count": null,
   "metadata": {},
   "outputs": [],
   "source": [
    "description_concept2 = dict(zip(df_con_ans.description, df_con_ans.concept_id))\n",
    "description_concept2"
   ]
  },
  {
   "cell_type": "code",
   "execution_count": null,
   "metadata": {},
   "outputs": [],
   "source": [
    "unique_cod_values_1['answer_concept'] = unique_cod_values_1['value1'].map(description_concept2)\n",
    "unique_cod_values_1"
   ]
  },
  {
   "cell_type": "code",
   "execution_count": null,
   "metadata": {},
   "outputs": [],
   "source": [
    "unique_cod_values_1 = unique_cod_values_1.drop(columns=['itemid', 'label', 'value'])\n",
    "unique_cod_values_1['date_created']= '2022-01-01'\n",
    "unique_cod_values_1['uuid'] = [uuid.uuid4() for x in range(len(unique_cod_values_))]\n",
    "unique_cod_values_1"
   ]
  },
  {
   "cell_type": "code",
   "execution_count": null,
   "metadata": {},
   "outputs": [],
   "source": [
    "unique_cod_values_1['creator'] = 1"
   ]
  },
  {
   "cell_type": "code",
   "execution_count": null,
   "metadata": {},
   "outputs": [],
   "source": [
    "column_names = ['concept_id', 'answer_concept', 'creator', 'date_created', 'uuid']\n",
    "unique_cod_values_1 = unique_cod_values_1.reindex(columns=column_names)"
   ]
  },
  {
   "cell_type": "code",
   "execution_count": null,
   "metadata": {},
   "outputs": [],
   "source": [
    "# creating column list for insertion into concept table\n",
    "cols = \"`,`\".join([str(i) for i in unique_cod_values_1.columns.tolist()])\n",
    "\n",
    "# Insert DataFrame recrds one by one.\n",
    "for i,row in unique_cod_values_1.iterrows():\n",
    "    sql1 = \"SET FOREIGN_KEY_CHECKS=0\"\n",
    "    sql = \"INSERT INTO `concept_answer` (`\" +cols + \"`) VALUES (\" + \"%s,\"*(len(row)-1) + \"%s)\"\n",
    "    sql2 = \"SET FOREIGN_KEY_CHECKS=1\"\n",
    "    try:\n",
    "        openmrscursor.execute(sql1)\n",
    "        openmrscursor.execute(sql, tuple(row))\n",
    "        openmrscursor.execute(sql2)\n",
    "        \n",
    "    except MySQLdb.OperationalError:\n",
    "        continue\n",
    "\n",
    "    # the connection is not autocommitted by default, so we must commit to save our changes\n",
    "    conn.commit() \n"
   ]
  },
  {
   "cell_type": "code",
   "execution_count": null,
   "metadata": {},
   "outputs": [],
   "source": []
  }
 ],
 "metadata": {
  "kernelspec": {
   "display_name": "Python 3 (ipykernel)",
   "language": "python",
   "name": "python3"
  },
  "language_info": {
   "codemirror_mode": {
    "name": "ipython",
    "version": 3
   },
   "file_extension": ".py",
   "mimetype": "text/x-python",
   "name": "python",
   "nbconvert_exporter": "python",
   "pygments_lexer": "ipython3",
   "version": "3.9.7"
  }
 },
 "nbformat": 4,
 "nbformat_minor": 4
}
