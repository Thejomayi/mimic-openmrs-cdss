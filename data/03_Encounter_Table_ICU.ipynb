{
 "cells": [
  {
   "cell_type": "code",
   "execution_count": null,
   "metadata": {},
   "outputs": [],
   "source": [
    "import MySQLdb\n",
    "from pandas.io import sql\n",
    "import pandas as pd\n",
    "import numpy as np\n",
    "conn = MySQLdb.connect(host=\"localhost\", user=\"root\", passwd=\"MYSQLROOTPASSWORD\", db=\"openmrs\") \n",
    "openmrscursor = conn.cursor() "
   ]
  },
  {
   "cell_type": "code",
   "execution_count": null,
   "metadata": {
    "scrolled": true
   },
   "outputs": [],
   "source": [
    "mimicconn = MySQLdb.connect(host=\"localhost\", user=\"root\", passwd=\"MYSQLROOTPASSWORD\", db=\"mimic4\") \n",
    "mimiccursor = mimicconn.cursor()\n",
    "df_icustays_mimic = pd.read_sql('select * from icustays', con = mimicconn) \n",
    "df_icustays_mimic"
   ]
  },
  {
   "cell_type": "code",
   "execution_count": null,
   "metadata": {},
   "outputs": [],
   "source": [
    "df_icustays_mimic['subject_id'].nunique()"
   ]
  },
  {
   "cell_type": "code",
   "execution_count": null,
   "metadata": {},
   "outputs": [],
   "source": [
    "Unique_fisrtcare_unit = pd.read_sql('SELECT distinct first_careunit FROM mimic4.icustays', con = mimicconn) \n",
    "Unique_fisrtcare_unit"
   ]
  },
  {
   "cell_type": "code",
   "execution_count": null,
   "metadata": {},
   "outputs": [],
   "source": [
    "df_location = pd.read_sql('select * from `location`', con = conn) \n",
    "df_location = \"INSERT INTO location(location_id, name) VALUES (2, 'Trauma SICU (TSICU)'), (3, 'Neuro Stepdown'), (4, 'Coronary Care Unit (CCU)'), (5, 'Neuro Intermediate'),\n",
    "                (6, 'Medical Intensive Care Unit (MICU)'), (7, 'Cardiac Vascular Intensive Care Unit (CVICU)'),\n",
    "                (8, 'Surgical Intensive Care Unit (SICU)'), (9, 'Neuro Surgical Intensive Care Unit (Neuro SICU)'),\n",
    "                (10, 'Medical/Surgical Intensive Care Unit (MICU/SICU)')\"\n",
    "openmrscursor.execute(df_location)\n",
    "conn.commit()"
   ]
  },
  {
   "cell_type": "code",
   "execution_count": null,
   "metadata": {
    "scrolled": true
   },
   "outputs": [],
   "source": [
    "Unique_Lastcare_unit = pd.read_sql('SELECT distinct last_careunit FROM mimic4.icustays', con = mimicconn) \n",
    "Unique_Lastcare_unit"
   ]
  },
  {
   "cell_type": "code",
   "execution_count": null,
   "metadata": {},
   "outputs": [],
   "source": [
    "df_encounter_type = pd.read_sql('select * from `encounter_type`', con = conn) \n",
    "df_encounter_type = \"INSERT INTO encounter_type(encounter_type_id, name, description, creator, date_created, uuid) VALUES (2, 'mimic-icu-encounter', 'Data that is imported from mimic-iv', 1, '2022-04-13', uuid())\"\n",
    "openmrscursor.execute(df_encounter_type)\n",
    "conn.commit()\n",
    "df_encounter_type"
   ]
  },
  {
   "cell_type": "code",
   "execution_count": null,
   "metadata": {},
   "outputs": [],
   "source": [
    "df_location = pd.read_sql('select * from `location`', con = conn) \n",
    "df_location"
   ]
  },
  {
   "cell_type": "code",
   "execution_count": null,
   "metadata": {},
   "outputs": [],
   "source": [
    "df_icustays_mimic"
   ]
  },
  {
   "cell_type": "code",
   "execution_count": null,
   "metadata": {},
   "outputs": [],
   "source": [
    "dict_ = {'Trauma SICU (TSICU)' : 2, 'Neuro Stepdown' : 3, 'Coronary Care Unit (CCU)' : 4, \n",
    "         'Neuro Intermediate' : 5, 'Medical Intensive Care Unit (MICU)':6, 'Cardiac Vascular Intensive Care Unit (CVICU)': 7,\n",
    "        'Surgical Intensive Care Unit (SICU)':8, 'Neuro Surgical Intensive Care Unit (Neuro SICU)': 9, \n",
    "        'Medical/Surgical Intensive Care Unit (MICU/SICU)': 10}\n",
    "df_icustays_mimic=df_icustays_mimic.replace({\"first_careunit\": dict_})\n",
    "df_icustays_mimic=df_icustays_mimic.replace({\"last_careunit\": dict_})"
   ]
  },
  {
   "cell_type": "code",
   "execution_count": null,
   "metadata": {},
   "outputs": [],
   "source": [
    "df_icustays_mimic"
   ]
  },
  {
   "cell_type": "code",
   "execution_count": null,
   "metadata": {},
   "outputs": [],
   "source": [
    "df_icustays_mimic_rename = df_icustays_mimic.rename({'subject_id': 'patient_id', 'hadm_id':'visit_id','stay_id':'encounter_id', 'intime':'encounter_datetime', 'first_careunit':'location_id' }, axis='columns')\n",
    "df_icustays_mimic_rename['date_created'] = '2022-01-01'\n",
    "df_icustays_mimic_rename['encounter_type'] = 2"
   ]
  },
  {
   "cell_type": "code",
   "execution_count": null,
   "metadata": {},
   "outputs": [],
   "source": [
    "import uuid\n",
    "df_icustays_mimic_rename['uuid'] = [uuid.uuid4() for x in range(len(df_icustays_mimic_rename))]"
   ]
  },
  {
   "cell_type": "code",
   "execution_count": null,
   "metadata": {},
   "outputs": [],
   "source": [
    "df_icustays_mimic_final = df_icustays_mimic_rename.drop(columns =['last_careunit', 'outtime', 'los' ])\n",
    "df_icustays_mimic_final "
   ]
  },
  {
   "cell_type": "code",
   "execution_count": null,
   "metadata": {},
   "outputs": [],
   "source": [
    "# creating column list for insertion for encounter table\n",
    "cols = \"`,`\".join([str(i) for i in df_icustays_mimic_final.columns.tolist()])\n",
    "\n",
    "# Insert DataFrame recrds one by one.\n",
    "for i,row in df_icustays_mimic_final.iterrows():\n",
    "    sql1 = \"SET FOREIGN_KEY_CHECKS=0\"\n",
    "    sql = \"INSERT INTO `encounter` (`\" +cols + \"`) VALUES (\" + \"%s,\"*(len(row)-1) + \"%s)\"\n",
    "    sql2 = \"SET FOREIGN_KEY_CHECKS=1\"\n",
    "    try:\n",
    "        openmrscursor.execute(sql1)\n",
    "        openmrscursor.execute(sql, tuple(row))\n",
    "        openmrscursor.execute(sql2)\n",
    "        \n",
    "    except MySQLdb.OperationalError:\n",
    "        continue\n",
    "\n",
    "    # the connection is not autocommitted by default, so we must commit to save our changes\n",
    "    conn.commit()\n",
    "\n",
    "encounter_creator = 'UPDATE encounter SET creator=1'\n",
    "encounter_form_id = 'UPDATE encounter SET form_id = NULL' \n",
    "\n",
    "openmrscursor.execute(encounter_creator)\n",
    "openmrscursor.execute(encounter_form_id)\n",
    "\n",
    "conn.commit() "
   ]
  },
  {
   "cell_type": "code",
   "execution_count": null,
   "metadata": {},
   "outputs": [],
   "source": [
    "df_encounter = pd.read_sql('select * from `encounter`', con = conn) \n",
    "df_encounter"
   ]
  }
 ],
 "metadata": {
  "kernelspec": {
   "display_name": "Python 3 (ipykernel)",
   "language": "python",
   "name": "python3"
  },
  "language_info": {
   "codemirror_mode": {
    "name": "ipython",
    "version": 3
   },
   "file_extension": ".py",
   "mimetype": "text/x-python",
   "name": "python",
   "nbconvert_exporter": "python",
   "pygments_lexer": "ipython3",
   "version": "3.9.7"
  }
 },
 "nbformat": 4,
 "nbformat_minor": 4
}
