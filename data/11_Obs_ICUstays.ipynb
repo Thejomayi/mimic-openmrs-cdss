{
 "cells": [
  {
   "cell_type": "code",
   "execution_count": null,
   "metadata": {},
   "outputs": [],
   "source": [
    "import MySQLdb\n",
    "from pandas.io import sql\n",
    "# from zmq import int_sockopt_names\n",
    "conn = MySQLdb.connect(host=\"localhost\", user=\"root\", passwd=\"MYSQLROOTPASSWORD\", db=\"openmrs\") \n",
    "openmrscursor = conn.cursor() "
   ]
  },
  {
   "cell_type": "code",
   "execution_count": null,
   "metadata": {},
   "outputs": [],
   "source": [
    "import pandas as pd\n",
    "import numpy as np\n",
    "# pd.set_option('display.max_rows)\n",
    "df_obs = pd.read_sql('select * from `obs` where concept_id = 1482681', con = conn)\n",
    "df_obs"
   ]
  },
  {
   "cell_type": "code",
   "execution_count": null,
   "metadata": {},
   "outputs": [],
   "source": [
    "df_obs[['person_id','value_numeric']]"
   ]
  },
  {
   "cell_type": "code",
   "execution_count": null,
   "metadata": {},
   "outputs": [],
   "source": [
    "df_encounter = pd.read_sql('select * from `encounter`', con = conn) \n",
    "df_encounter"
   ]
  },
  {
   "cell_type": "code",
   "execution_count": null,
   "metadata": {},
   "outputs": [],
   "source": [
    "mimicconn = MySQLdb.connect(host=\"localhost\", user=\"root\", passwd=\"MYSQLROOTPASSWORD\", db=\"mimic4\") \n",
    "mimiccursor = mimicconn.cursor()\n",
    "df_icustays_mimic = pd.read_sql('select * from icustays', con = mimicconn) \n",
    "df_icustays_mimic"
   ]
  },
  {
   "cell_type": "code",
   "execution_count": null,
   "metadata": {},
   "outputs": [],
   "source": [
    "dict_ = {'Trauma SICU (TSICU)' : 2, 'Neuro Stepdown' : 3, 'Coronary Care Unit (CCU)' : 4, \n",
    "         'Neuro Intermediate' : 5, 'Medical Intensive Care Unit (MICU)':6, 'Cardiac Vascular Intensive Care Unit (CVICU)': 7,\n",
    "        'Surgical Intensive Care Unit (SICU)':8, 'Neuro Surgical Intensive Care Unit (Neuro SICU)': 9, \n",
    "        'Medical/Surgical Intensive Care Unit (MICU/SICU)': 10}\n",
    "df_icustays_mimic=df_icustays_mimic.replace({\"first_careunit\": dict_})\n",
    "df_icustays_mimic=df_icustays_mimic.replace({\"last_careunit\": dict_})"
   ]
  },
  {
   "cell_type": "code",
   "execution_count": null,
   "metadata": {},
   "outputs": [],
   "source": [
    "df_obs_los = df_icustays_mimic.rename({'stay_id':'encounter_id', 'los':'value_numeric', 'subject_id':'person_id', 'intime':'obs_datetime', 'first_careunit':'location_id' }, axis='columns')\n",
    "df_obs_los"
   ]
  },
  {
   "cell_type": "code",
   "execution_count": null,
   "metadata": {},
   "outputs": [],
   "source": [
    "import uuid\n",
    "df_obs_los['date_created'] = '2022-01-01'\n",
    "df_obs_los['uuid'] = [uuid.uuid4() for x in range(len(df_obs_los))]"
   ]
  },
  {
   "cell_type": "code",
   "execution_count": null,
   "metadata": {},
   "outputs": [],
   "source": [
    "df_obs_los =  df_obs_los.drop(columns =['last_careunit', 'outtime', 'hadm_id' ])\n",
    "df_obs_los['concept_id'] = "
   ]
  },
  {
   "cell_type": "code",
   "execution_count": null,
   "metadata": {},
   "outputs": [],
   "source": [
    "# creating column list for insertion for person table\n",
    "cols = \"`,`\".join([str(i) for i in df_obs_los.columns.tolist()])\n",
    "\n",
    "# Insert DataFrame recrds one by one.\n",
    "for i,row in df_obs_los.iterrows():\n",
    "    sql1 = \"SET FOREIGN_KEY_CHECKS=0\"\n",
    "    sql = \"INSERT INTO `obs` (`\" +cols + \"`) VALUES (\" + \"%s,\"*(len(row)-1) + \"%s)\"\n",
    "    sql2 = \"SET FOREIGN_KEY_CHECKS=1\"\n",
    "    try:\n",
    "        openmrscursor.execute(sql1)\n",
    "        openmrscursor.execute(sql, tuple(row))\n",
    "        openmrscursor.execute(sql2)\n",
    "        \n",
    "    except MySQLdb.OperationalError:\n",
    "        continue\n",
    "\n",
    "    # the connection is not autocommitted by default, so we must commit to save our changes\n",
    "    conn.commit() \n",
    "\n",
    "obs_los_concept_id = 'UPDATE obs SET concept_id= 1482681'\n",
    "openmrscursor.execute(obs_los_concept_id)\n",
    "obs_los_order_id = 'UPDATE obs SET order_id = NULL'\n",
    "openmrscursor.execute(obs_los_concept_id)\n",
    "openmrscursor.execute('UPDATE obs SET creator=1')\n",
    "conn.commit() "
   ]
  },
  {
   "cell_type": "code",
   "execution_count": null,
   "metadata": {},
   "outputs": [],
   "source": [
    "# openmrscursor.execute('Delete from obs')\n",
    "# conn.commit() "
   ]
  },
  {
   "cell_type": "code",
   "execution_count": null,
   "metadata": {},
   "outputs": [],
   "source": []
  }
 ],
 "metadata": {
  "kernelspec": {
   "display_name": "Python 3 (ipykernel)",
   "language": "python",
   "name": "python3"
  },
  "language_info": {
   "codemirror_mode": {
    "name": "ipython",
    "version": 3
   },
   "file_extension": ".py",
   "mimetype": "text/x-python",
   "name": "python",
   "nbconvert_exporter": "python",
   "pygments_lexer": "ipython3",
   "version": "3.9.7"
  }
 },
 "nbformat": 4,
 "nbformat_minor": 4
}
