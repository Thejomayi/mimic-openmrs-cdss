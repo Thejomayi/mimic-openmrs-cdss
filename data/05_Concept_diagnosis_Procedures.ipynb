{
 "cells": [
  {
   "cell_type": "code",
   "execution_count": null,
   "metadata": {},
   "outputs": [],
   "source": [
    "import MySQLdb\n",
    "from pandas.io import sql\n",
    "import pandas as pd\n",
    "import numpy as np\n",
    "conn = MySQLdb.connect(host=\"localhost\", user=\"root\", passwd=\"MYSQLROOTPASSWORD\", db=\"openmrs\") \n",
    "openmrscursor = conn.cursor() \n"
   ]
  },
  {
   "cell_type": "code",
   "execution_count": null,
   "metadata": {},
   "outputs": [],
   "source": [
    "df_concept = pd.read_sql('select  * from `concept`', con = conn)\n",
    "df_concept"
   ]
  },
  {
   "cell_type": "code",
   "execution_count": null,
   "metadata": {
    "scrolled": true
   },
   "outputs": [],
   "source": [
    "df_conceptname = pd.read_sql('select * from `concept_name`', con = conn) \n",
    "len(df_conceptname.index)"
   ]
  },
  {
   "cell_type": "code",
   "execution_count": null,
   "metadata": {},
   "outputs": [],
   "source": [
    "nan_in_col  = df_concept[df_concept['description'].isna()]\n",
    "nan_in_col"
   ]
  },
  {
   "cell_type": "code",
   "execution_count": null,
   "metadata": {},
   "outputs": [],
   "source": [
    "df_concept = df_concept[df_concept['description'].notna()]\n",
    "df_concept"
   ]
  },
  {
   "cell_type": "code",
   "execution_count": null,
   "metadata": {},
   "outputs": [],
   "source": [
    "df_concept.loc[df_concept['short_name'] == 'LOS']"
   ]
  },
  {
   "cell_type": "markdown",
   "metadata": {},
   "source": [
    "# d_icd_diagnoses to concept"
   ]
  },
  {
   "cell_type": "code",
   "execution_count": null,
   "metadata": {
    "scrolled": true
   },
   "outputs": [],
   "source": [
    "mimicconn = MySQLdb.connect(host=\"localhost\", user=\"root\", passwd=\"MYSQLROOTPASSWORD\", db=\"mimic4\") \n",
    "mimiccursor = mimicconn.cursor()\n",
    "concept_d = pd.read_sql('select * from d_icd_diagnoses', con = mimicconn) \n",
    "concept_d"
   ]
  },
  {
   "cell_type": "code",
   "execution_count": null,
   "metadata": {},
   "outputs": [],
   "source": [
    "concept_dx_mimic=pd.read_sql('select long_title, any_value (icd_code) from mimic4.d_icd_diagnoses where icd_code IN (SELECT icd_code FROM mimic4.admissions adm, mimic4.diagnoses_icd diag where adm.hadm_id=diag.hadm_id and diag.seq_num=1) group by (long_title)', con=mimicconn)\n",
    "concept_dx_mimic"
   ]
  },
  {
   "cell_type": "code",
   "execution_count": null,
   "metadata": {},
   "outputs": [],
   "source": [
    "# concept_dx_mimic_copy = concept_dx_mimic.drop(columns=['icd_version'])\n",
    "concept_dx_mimic = concept_dx_mimic.rename(columns={\"any_value (icd_code)\": \"short_name\", \"long_title\": \"description\"})\n",
    "concept_dx_mimic['date_created'] = '2022-01-01'\n",
    "concept_dx_mimic"
   ]
  },
  {
   "cell_type": "code",
   "execution_count": null,
   "metadata": {},
   "outputs": [],
   "source": [
    "# concept_dx_mimic_copy.to_csv('concept_dx_mimic_copy.csv', index = False)"
   ]
  },
  {
   "cell_type": "code",
   "execution_count": null,
   "metadata": {},
   "outputs": [],
   "source": [
    "import uuid\n",
    "concept_dx_mimic['uuid'] = [uuid.uuid4() for x in range(len(concept_dx_mimic))]"
   ]
  },
  {
   "cell_type": "code",
   "execution_count": null,
   "metadata": {},
   "outputs": [],
   "source": [
    "import pymysql\n",
    "\n",
    "# Connect to the database\n",
    "connection = pymysql.connect(host='localhost',\n",
    "                         user='root',\n",
    "                         password='Soic@2022Capstone',\n",
    "                         db='openmrs')\n",
    "\n",
    "# create cursor\n",
    "cursor=connection.cursor() "
   ]
  },
  {
   "cell_type": "code",
   "execution_count": null,
   "metadata": {},
   "outputs": [],
   "source": [
    "column_names = ['short_name', 'description', 'date_created', 'uuid']\n",
    "\n",
    "concept_dx_mimic = concept_dx_mimic.reindex(columns=column_names)\n",
    "concept_dx_mimic"
   ]
  },
  {
   "cell_type": "code",
   "execution_count": null,
   "metadata": {},
   "outputs": [],
   "source": [
    "# creating column list for insertion for concept table\n",
    "cols = \"`,`\".join(['short_name', 'description', 'date_created', 'uuid'])\n",
    "\n",
    "# Insert DataFrame recrds one by one.\n",
    "for i,row in concept_dx_mimic.iterrows():\n",
    "    sql1 = \"SET FOREIGN_KEY_CHECKS=0\"\n",
    "    sql = \"INSERT INTO `concept` (`\" +cols + \"`) VALUES (\" + \"%s,\"*(len(row)-1) + \"%s)\"\n",
    "    sql2 = \"SET FOREIGN_KEY_CHECKS=1\"\n",
    "    try:\n",
    "        cursor.execute(sql1)\n",
    "        cursor.execute(sql, tuple(row))\n",
    "        cursor.execute(sql2)\n",
    "        \n",
    "    except MySQLdb.OperationalError:\n",
    "        continue\n",
    "\n",
    "    # the connection is not autocommitted by default, so we must commit to save our changes\n",
    "    connection.commit() \n",
    "\n",
    "datatype_id = 'UPDATE concept SET datatype_id=4'\n",
    "class_id = 'UPDATE concept SET class_id=4'\n",
    "cursor.execute(datatype_id)\n",
    "cursor.execute(class_id)\n",
    "connection.commit() "
   ]
  },
  {
   "cell_type": "code",
   "execution_count": null,
   "metadata": {},
   "outputs": [],
   "source": []
  },
  {
   "cell_type": "markdown",
   "metadata": {},
   "source": [
    "# d_icd_procedures to concept "
   ]
  },
  {
   "cell_type": "code",
   "execution_count": null,
   "metadata": {},
   "outputs": [],
   "source": [
    "concept_proc_mimic = pd.read_sql('select * from d_icd_procedures', con = mimicconn) \n",
    "concept_proc_mimic"
   ]
  },
  {
   "cell_type": "code",
   "execution_count": null,
   "metadata": {},
   "outputs": [],
   "source": [
    "concept_proc_mimic['long_title'].nunique()"
   ]
  },
  {
   "cell_type": "code",
   "execution_count": null,
   "metadata": {},
   "outputs": [],
   "source": [
    "concept_proc_mimic[concept_proc_mimic['icd_code']== '031']"
   ]
  },
  {
   "cell_type": "code",
   "execution_count": null,
   "metadata": {},
   "outputs": [],
   "source": [
    "a = concept_proc_mimic[concept_proc_mimic['icd_version']==9]"
   ]
  },
  {
   "cell_type": "code",
   "execution_count": null,
   "metadata": {},
   "outputs": [],
   "source": [
    "b = concept_proc_mimic[concept_proc_mimic['icd_version']==10]"
   ]
  },
  {
   "cell_type": "code",
   "execution_count": null,
   "metadata": {},
   "outputs": [],
   "source": [
    "y = set(b['icd_code'])"
   ]
  },
  {
   "cell_type": "code",
   "execution_count": null,
   "metadata": {},
   "outputs": [],
   "source": [
    "concept_proc_mimic_copy = concept_proc_mimic.drop(columns=['icd_version'])\n",
    "concept_proc_mimic_copy = concept_proc_mimic_copy.rename(columns={\"icd_code\": \"short_name\", \"long_title\": \"description\"})"
   ]
  },
  {
   "cell_type": "code",
   "execution_count": null,
   "metadata": {},
   "outputs": [],
   "source": [
    "concept_proc_mimic_copy['date_created'] = '2022-01-01'\n",
    "concept_proc_mimic_copy['uuid'] = [uuid.uuid4() for x in range(len(concept_proc_mimic_copy))]"
   ]
  },
  {
   "cell_type": "code",
   "execution_count": null,
   "metadata": {},
   "outputs": [],
   "source": [
    "concept_proc_mimic_copy"
   ]
  },
  {
   "cell_type": "code",
   "execution_count": null,
   "metadata": {},
   "outputs": [],
   "source": [
    "# creating column list for insertion for concept table\n",
    "cols = \"`,`\".join(['short_name', 'description', 'date_created', 'uuid'])\n",
    "\n",
    "# Insert DataFrame recrds one by one.\n",
    "for i,row in concept_proc_mimic_copy.iterrows():\n",
    "    sql1 = \"SET FOREIGN_KEY_CHECKS=0\"\n",
    "    sql = \"INSERT INTO `concept` (`\" +cols + \"`) VALUES (\" + \"%s,\"*(len(row)-1) + \"%s)\"\n",
    "    sql2 = \"SET FOREIGN_KEY_CHECKS=1\"\n",
    "    try:\n",
    "        cursor.execute(sql1)\n",
    "        cursor.execute(sql, tuple(row))\n",
    "        cursor.execute(sql2)\n",
    "        \n",
    "    except MySQLdb.OperationalError:\n",
    "        continue\n",
    "\n",
    "    # the connection is not autocommitted by default, so we must commit to save our changes\n",
    "    connection.commit() "
   ]
  },
  {
   "cell_type": "code",
   "execution_count": null,
   "metadata": {},
   "outputs": [],
   "source": [
    "datatype_id = 'UPDATE concept SET datatype_id=4'\n",
    "class_id = 'UPDATE concept SET class_id=2 where class_id!=4'\n",
    "concept_creator = 'UPDATE concept SET creator = 1' \n",
    "\n",
    "cursor.execute(datatype_id)\n",
    "cursor.execute(class_id)\n",
    "cursor.execute(concept_creator)\n",
    "\n",
    "\n",
    "connection.commit() "
   ]
  },
  {
   "cell_type": "markdown",
   "metadata": {},
   "source": [
    "# Importing into concept_name from concept"
   ]
  },
  {
   "cell_type": "code",
   "execution_count": null,
   "metadata": {},
   "outputs": [],
   "source": [
    "concept_name_mimic = \"INSERT INTO concept_name(concept_id, name, date_created, locale, creator, concept_name_type, uuid) select concept_id, description, date_created,'en', 1, 'FULLY_SPECIFIED', uuid() from concept\"\n",
    "openmrscursor.execute(concept_name_mimic)\n",
    "conn.commit() "
   ]
  },
  {
   "cell_type": "markdown",
   "metadata": {},
   "source": [
    "# creating concept for LOS"
   ]
  },
  {
   "cell_type": "code",
   "execution_count": null,
   "metadata": {},
   "outputs": [],
   "source": [
    "concept_los = \"INSERT INTO concept(short_name,description,datatype_id,class_id,creator,date_created,uuid) VALUES ('LOS', 'Length of Stay', 1, 5, 1, '2022-01-01', uuid())\"\n",
    "cursor.execute(concept_los)\n",
    "connection.commit()"
   ]
  },
  {
   "cell_type": "code",
   "execution_count": null,
   "metadata": {},
   "outputs": [],
   "source": [
    "sql1 = \"SET FOREIGN_KEY_CHECKS=0\"\n",
    "concept_name_los = \"INSERT INTO concept_name(concept_id, name, date_created, locale, creator, concept_name_type, uuid) VALUES (1179194, 'Length of Stay', '2022-01-01', 'en', 1, 'FULLY_SPECIFIED', uuid())\" \n",
    "sql2 = \"SET FOREIGN_KEY_CHECKS=1\"\n",
    "cursor.execute(sql1)\n",
    "cursor.execute(concept_name_los)\n",
    "cursor.execute(sql2)\n",
    "connection.commit()"
   ]
  },
  {
   "cell_type": "code",
   "execution_count": null,
   "metadata": {},
   "outputs": [],
   "source": [
    "#\"INSERT INTO visit(indication_concept_id) SELECT concept_id from concept where openmrs.concept(short_name) = mimic4.diagnoses_icd(icd_code) AND openmrs.visit(visit_id) = mimic4.diagnoses_icd(hadm_id)\""
   ]
  },
  {
   "cell_type": "code",
   "execution_count": null,
   "metadata": {},
   "outputs": [],
   "source": [
    "# sql1 = \"SET FOREIGN_KEY_CHECKS=0\"\n",
    "sql2 = \"Delete from concept_name\"\n",
    "# sql3 = \"SET FOREIGN_KEY_CHECKS=1\"\n",
    "# cursor.execute(sql1)\n",
    "cursor.execute(sql2)\n",
    "# cursor.execute(sql3)\n",
    "connection.commit() "
   ]
  },
  {
   "cell_type": "code",
   "execution_count": null,
   "metadata": {},
   "outputs": [],
   "source": [
    "# inserting LOS concept and LOS value into concept_numeric"
   ]
  },
  {
   "cell_type": "code",
   "execution_count": null,
   "metadata": {},
   "outputs": [],
   "source": [
    "df_concept_numeric=pd.read_sql('select * from `concept_numeric`', con = conn) \n",
    "df_concept_numeric"
   ]
  },
  {
   "cell_type": "code",
   "execution_count": null,
   "metadata": {},
   "outputs": [],
   "source": [
    "df_icustays_mimic = pd.read_sql('select * from icustays', con = mimicconn) \n",
    "df_icustays_mimic"
   ]
  },
  {
   "cell_type": "code",
   "execution_count": null,
   "metadata": {},
   "outputs": [],
   "source": [
    "df_icustays_mimic['concept_id'] = 1482681\n",
    "df_icustays_mimic"
   ]
  },
  {
   "cell_type": "code",
   "execution_count": null,
   "metadata": {},
   "outputs": [],
   "source": [
    "concept_numeric_los = \"INSERT INTO concept_numeric(concept_id) VALUES (1482681)\"\n",
    "openmrscursor.execute(concept_numeric_los)\n",
    "conn.commit()"
   ]
  },
  {
   "cell_type": "code",
   "execution_count": null,
   "metadata": {},
   "outputs": [],
   "source": [
    "openmrscursor.execute('UPDATE concept_numeric SET allow_decimal = 1')\n",
    "conn.commit()"
   ]
  },
  {
   "cell_type": "code",
   "execution_count": null,
   "metadata": {},
   "outputs": [],
   "source": []
  }
 ],
 "metadata": {
  "kernelspec": {
   "display_name": "Python 3 (ipykernel)",
   "language": "python",
   "name": "python3"
  },
  "language_info": {
   "codemirror_mode": {
    "name": "ipython",
    "version": 3
   },
   "file_extension": ".py",
   "mimetype": "text/x-python",
   "name": "python",
   "nbconvert_exporter": "python",
   "pygments_lexer": "ipython3",
   "version": "3.9.7"
  }
 },
 "nbformat": 4,
 "nbformat_minor": 4
}
