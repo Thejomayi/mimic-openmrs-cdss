{
 "cells": [
  {
   "cell_type": "code",
   "execution_count": null,
   "metadata": {},
   "outputs": [],
   "source": [
    "import MySQLdb\n",
    "from pandas.io import sql\n",
    "import pandas as pd\n",
    "import numpy as np\n",
    "conn = MySQLdb.connect(host=\"localhost\", user=\"root\", passwd=\"MYSQLROOTPASSWORD\", db=\"openmrs\") \n",
    "openmrscursor = conn.cursor()"
   ]
  },
  {
   "cell_type": "code",
   "execution_count": null,
   "metadata": {},
   "outputs": [],
   "source": [
    "df_order = pd.read_sql('select * from order_type', con = conn)\n",
    "df_order"
   ]
  },
  {
   "cell_type": "code",
   "execution_count": null,
   "metadata": {},
   "outputs": [],
   "source": [
    "mimicconn = MySQLdb.connect(host=\"localhost\", user=\"root\", passwd=\"MYSQLROOTPASSWORD\", db=\"mimic4\") \n",
    "mimiccursor = mimicconn.cursor()"
   ]
  },
  {
   "cell_type": "code",
   "execution_count": null,
   "metadata": {},
   "outputs": [],
   "source": [
    "df_poe = pd.read_sql('select subject_id, hadm_id, order_type, order_subtype from poe', con = mimicconn) "
   ]
  },
  {
   "cell_type": "code",
   "execution_count": null,
   "metadata": {},
   "outputs": [],
   "source": [
    "df_poe = df_poe.fillna('')"
   ]
  },
  {
   "cell_type": "code",
   "execution_count": null,
   "metadata": {},
   "outputs": [],
   "source": [
    "df_poe['ordertype'] = df_poe['order_type'] + '-' + df_poe['order_subtype']"
   ]
  },
  {
   "cell_type": "code",
   "execution_count": null,
   "metadata": {},
   "outputs": [],
   "source": [
    "# df_pharmacy = pd.read_sql('select * from pharmacy', con = mimicconn) \n",
    "# df_pharmacy"
   ]
  },
  {
   "cell_type": "code",
   "execution_count": null,
   "metadata": {},
   "outputs": [],
   "source": [
    "df_poe_ordertype = df_poe[['ordertype']]"
   ]
  },
  {
   "cell_type": "code",
   "execution_count": null,
   "metadata": {},
   "outputs": [],
   "source": [
    "df_poe_ordertype.ordertype = df_poe_ordertype.ordertype.apply(lambda x: 'Medications' if 'Medications' in x else x)"
   ]
  },
  {
   "cell_type": "code",
   "execution_count": null,
   "metadata": {},
   "outputs": [],
   "source": [
    "df_poe_ordertype = df_poe_ordertype.drop_duplicates()"
   ]
  },
  {
   "cell_type": "code",
   "execution_count": null,
   "metadata": {},
   "outputs": [],
   "source": [
    "list(df_poe_ordertype['ordertype'])"
   ]
  },
  {
   "cell_type": "code",
   "execution_count": null,
   "metadata": {},
   "outputs": [],
   "source": [
    "medication = df_poe_ordertype[df_poe_ordertype['ordertype'].str.contains('Medications')]\n",
    "medication "
   ]
  },
  {
   "cell_type": "code",
   "execution_count": null,
   "metadata": {},
   "outputs": [],
   "source": [
    "df_poe_ordertype['creator']=1\n",
    "df_poe_ordertype['date_created']='2022-01-01'\n",
    "import uuid\n",
    "df_poe_ordertype['uuid'] = [uuid.uuid4() for x in range(len(df_poe_ordertype))]\n",
    "df_poe_ordertype['description'] = 'Data that is imported from mimic-iv'"
   ]
  },
  {
   "cell_type": "code",
   "execution_count": null,
   "metadata": {},
   "outputs": [],
   "source": [
    "df_poe_ordertype"
   ]
  },
  {
   "cell_type": "code",
   "execution_count": null,
   "metadata": {},
   "outputs": [],
   "source": [
    "# df_poe_ordertype.loc[df_poe_ordertype.ordertype == 'Medications', 'name'] = \"Medication Order\""
   ]
  },
  {
   "cell_type": "code",
   "execution_count": null,
   "metadata": {},
   "outputs": [],
   "source": [
    "# df_poe_ordertype.loc[df_poe_ordertype['name']=='Medication Order'] # confirmation"
   ]
  },
  {
   "cell_type": "code",
   "execution_count": null,
   "metadata": {},
   "outputs": [],
   "source": [
    "df_poe_ordertype = df_poe_ordertype.rename(columns={'ordertype':'name'})\n",
    "df_poe_ordertype"
   ]
  },
  {
   "cell_type": "code",
   "execution_count": null,
   "metadata": {},
   "outputs": [],
   "source": [
    "df_poe_ordertype['java_class_name']= 'org.openmrs.TestOrder'"
   ]
  },
  {
   "cell_type": "code",
   "execution_count": null,
   "metadata": {},
   "outputs": [],
   "source": [
    "df_poe_ordertype.loc[df_poe_ordertype.name == 'Medications', 'java_class_name'] = \"org.openmrs.DrugOrder\""
   ]
  },
  {
   "cell_type": "code",
   "execution_count": null,
   "metadata": {},
   "outputs": [],
   "source": [
    "df_poe_ordertype.loc[df_poe_ordertype['name']=='Medications'] # confirmation"
   ]
  },
  {
   "cell_type": "code",
   "execution_count": null,
   "metadata": {},
   "outputs": [],
   "source": [
    "column_names = ['name', 'description', 'creator', 'date_created', 'uuid', 'java_class_name']\n",
    "df_poe_ordertype = df_poe_ordertype.reindex(columns=column_names)"
   ]
  },
  {
   "cell_type": "code",
   "execution_count": null,
   "metadata": {},
   "outputs": [],
   "source": [
    "# creating column list for insertion into concept table\n",
    "cols = \"`,`\".join([str(i) for i in df_poe_ordertype.columns.tolist()])\n",
    "\n",
    "# Insert DataFrame recrds one by one.\n",
    "for i,row in df_poe_ordertype.iterrows():\n",
    "    sql1 = \"SET FOREIGN_KEY_CHECKS=0\"\n",
    "    sql = \"INSERT INTO `order_type` (`\" +cols + \"`) VALUES (\" + \"%s,\"*(len(row)-1) + \"%s)\"\n",
    "    sql2 = \"SET FOREIGN_KEY_CHECKS=1\"\n",
    "    try:\n",
    "        openmrscursor.execute(sql1)\n",
    "        openmrscursor.execute(sql, tuple(row))\n",
    "        openmrscursor.execute(sql2)\n",
    "        \n",
    "    except MySQLdb.OperationalError:\n",
    "        continue\n",
    "\n",
    "    # the connection is not autocommitted by default, so we must commit to save our changes\n",
    "    conn.commit()"
   ]
  },
  {
   "cell_type": "code",
   "execution_count": null,
   "metadata": {},
   "outputs": [],
   "source": [
    "df_order_type = pd.read_sql('select * from `order_type`', con = conn)\n",
    "df_order_type"
   ]
  },
  {
   "cell_type": "code",
   "execution_count": null,
   "metadata": {},
   "outputs": [],
   "source": [
    "df_order_type.loc[df_order_type['name']=='Medications'] "
   ]
  },
  {
   "cell_type": "markdown",
   "metadata": {},
   "source": [
    "# dealing with orders table"
   ]
  },
  {
   "cell_type": "code",
   "execution_count": null,
   "metadata": {},
   "outputs": [],
   "source": [
    "df_orders = pd.read_sql('select * from `orders`', con = conn)\n",
    "df_orders"
   ]
  },
  {
   "cell_type": "code",
   "execution_count": null,
   "metadata": {},
   "outputs": [],
   "source": [
    "df_prescriptions = pd.read_sql('select * from prescriptions', con = mimicconn) \n",
    "df_prescriptions"
   ]
  },
  {
   "cell_type": "code",
   "execution_count": null,
   "metadata": {},
   "outputs": [],
   "source": [
    "df_prescriptions_orders = df_prescriptions[['subject_id', 'hadm_id', 'pharmacy_id', 'starttime', 'stoptime', 'drug', 'dose_val_rx', 'dose_unit_rx', 'form_val_disp', 'form_unit_disp', 'doses_per_24_hrs', 'route']]\n",
    "df_prescriptions_orders.isnull().sum()"
   ]
  },
  {
   "cell_type": "code",
   "execution_count": null,
   "metadata": {},
   "outputs": [],
   "source": [
    "df_prescriptions_orders = df_prescriptions_orders[df_prescriptions_orders['drug'].notna()]\n"
   ]
  },
  {
   "cell_type": "code",
   "execution_count": null,
   "metadata": {},
   "outputs": [],
   "source": [
    "drug_concept_id = pd.read_sql('select * from concept where class_id=3', con = conn)\n"
   ]
  },
  {
   "cell_type": "code",
   "execution_count": null,
   "metadata": {},
   "outputs": [],
   "source": [
    "drug_concept_id['description'] = drug_concept_id['description'].str.lower()"
   ]
  },
  {
   "cell_type": "code",
   "execution_count": null,
   "metadata": {
    "scrolled": true
   },
   "outputs": [],
   "source": [
    "dict_drug_concept = dict(zip(drug_concept_id.description, drug_concept_id.concept_id))\n",
    "len(dict_drug_concept)"
   ]
  },
  {
   "cell_type": "code",
   "execution_count": null,
   "metadata": {},
   "outputs": [],
   "source": [
    "df_prescriptions_orders['drug'] = df_prescriptions_orders['drug'].str.lower()"
   ]
  },
  {
   "cell_type": "code",
   "execution_count": null,
   "metadata": {},
   "outputs": [],
   "source": [
    "df_prescriptions_orders['concept_id'] = df_prescriptions_orders['drug'].map(dict_drug_concept)\n",
    "df_prescriptions_orders.isnull().sum()\n"
   ]
  },
  {
   "cell_type": "code",
   "execution_count": null,
   "metadata": {},
   "outputs": [],
   "source": [
    "df_prescriptions_orders[['dose_val_rx', 'dose_unit_rx', 'form_val_disp', 'form_unit_disp', 'doses_per_24_hrs', 'route']] = df_prescriptions_orders[['dose_val_rx', 'dose_unit_rx', 'form_val_disp', 'form_unit_disp', 'doses_per_24_hrs', 'route']].fillna('')"
   ]
  },
  {
   "cell_type": "code",
   "execution_count": null,
   "metadata": {},
   "outputs": [],
   "source": [
    "def split(x):\n",
    "    if '-' in x:\n",
    "        return x.split('-')[1]\n",
    "    else:\n",
    "        return x"
   ]
  },
  {
   "cell_type": "code",
   "execution_count": null,
   "metadata": {},
   "outputs": [],
   "source": [
    "\n",
    "df_prescriptions_orders.dose_val_rx = df_prescriptions_orders.dose_val_rx.apply(split)\n"
   ]
  },
  {
   "cell_type": "code",
   "execution_count": null,
   "metadata": {},
   "outputs": [],
   "source": [
    "df_prescriptions_orders['instructions'] = df_prescriptions_orders['dose_val_rx'] + ' ' + df_prescriptions_orders['dose_unit_rx'] "
   ]
  },
  {
   "cell_type": "code",
   "execution_count": null,
   "metadata": {},
   "outputs": [],
   "source": [
    "df_prescriptions_orders['instructions'] = df_prescriptions_orders['instructions'] + ' ' + df_prescriptions_orders['drug'] + ',' + ' ' + df_prescriptions_orders['route']  "
   ]
  },
  {
   "cell_type": "code",
   "execution_count": null,
   "metadata": {},
   "outputs": [],
   "source": [
    "df_prescriptions_orders['doses_per_24_hrs'] = df_prescriptions_orders['doses_per_24_hrs'].astype(str)"
   ]
  },
  {
   "cell_type": "code",
   "execution_count": null,
   "metadata": {},
   "outputs": [],
   "source": [
    "df_prescriptions_orders['instructions'] = df_prescriptions_orders['instructions'] + ',' + ' ' + df_prescriptions_orders['doses_per_24_hrs'] + ' ' + 'per 24 hrs' "
   ]
  },
  {
   "cell_type": "code",
   "execution_count": null,
   "metadata": {},
   "outputs": [],
   "source": [
    "df_prescriptions_orders= df_prescriptions_orders.rename(columns={'subject_id':'patient_id', 'hadm_id':'encounter_id', 'pharmacy_id':'order_number', 'starttime':'date_activated', 'stoptime':'date_stopped'})"
   ]
  },
  {
   "cell_type": "code",
   "execution_count": null,
   "metadata": {},
   "outputs": [],
   "source": [
    "hadmid_conceptid = pd.read_csv('hadm_id and concept_id.csv')\n",
    "hadmid_conceptid = hadmid_conceptid.rename(columns={\"hadm_id\": \"encounter_id\", \"concept_id\":\"indication_concept_id\"})"
   ]
  },
  {
   "cell_type": "code",
   "execution_count": null,
   "metadata": {},
   "outputs": [],
   "source": [
    "dict_ind_conceptid = dict(zip(hadmid_conceptid.encounter_id, hadmid_conceptid.indication_concept_id))\n",
    "len(dict_ind_conceptid)"
   ]
  },
  {
   "cell_type": "code",
   "execution_count": null,
   "metadata": {
    "scrolled": true
   },
   "outputs": [],
   "source": [
    "df_prescriptions_orders['order_reason'] = df_prescriptions_orders['encounter_id'].map(dict_ind_conceptid)"
   ]
  },
  {
   "cell_type": "code",
   "execution_count": null,
   "metadata": {},
   "outputs": [],
   "source": [
    "df_prescriptions_orders['creator'] = 1\n",
    "df_prescriptions_orders['care_setting'] =1\n",
    "df_prescriptions_orders['orderer'] = 1\n",
    "\n",
    "df_prescriptions_orders['date_created']='2022-01-01'\n",
    "df_prescriptions_orders['order_type_id'] =18"
   ]
  },
  {
   "cell_type": "code",
   "execution_count": null,
   "metadata": {},
   "outputs": [],
   "source": [
    "\n",
    "import uuid\n",
    "df_prescriptions_orders['uuid'] = [uuid.uuid4() for x in range(len(df_prescriptions_orders))]"
   ]
  },
  {
   "cell_type": "code",
   "execution_count": null,
   "metadata": {},
   "outputs": [],
   "source": [
    "# df_prescriptions_orders = df_prescriptions_orders.rename(columns= {'indication_concept_id':'order_reason'})"
   ]
  },
  {
   "cell_type": "code",
   "execution_count": null,
   "metadata": {},
   "outputs": [],
   "source": [
    "df_prescriptions_orders['order_action'] = 'Null'\n",
    "df_prescriptions_orders = df_prescriptions_orders.replace({np.nan: None})"
   ]
  },
  {
   "cell_type": "code",
   "execution_count": null,
   "metadata": {},
   "outputs": [],
   "source": [
    "column_names = ['order_type_id', 'concept_id', 'orderer', 'encounter_id', 'instructions', 'date_activated', 'date_stopped', 'order_reason', 'creator', 'date_created', 'patient_id', 'uuid', 'order_number', 'order_action', 'care_setting']\n",
    "df_prescriptions_orders = df_prescriptions_orders.reindex(columns=column_names)"
   ]
  },
  {
   "cell_type": "code",
   "execution_count": null,
   "metadata": {},
   "outputs": [],
   "source": [
    "df_prescriptions_orders"
   ]
  },
  {
   "cell_type": "code",
   "execution_count": null,
   "metadata": {},
   "outputs": [],
   "source": [
    "df_prescriptions_orders1 = df_prescriptions_orders[16983509 : 17008052]\n",
    "df_prescriptions_orders1"
   ]
  },
  {
   "cell_type": "code",
   "execution_count": null,
   "metadata": {},
   "outputs": [],
   "source": [
    "df_prescriptions_orders2 = df_prescriptions_orders[3000000:6000000]\n",
    "df_prescriptions_orders2"
   ]
  },
  {
   "cell_type": "code",
   "execution_count": null,
   "metadata": {},
   "outputs": [],
   "source": [
    "df_prescriptions_orders3 = df_prescriptions_orders[5000000:10000000]\n",
    "df_prescriptions_orders3"
   ]
  },
  {
   "cell_type": "code",
   "execution_count": null,
   "metadata": {},
   "outputs": [],
   "source": [
    "df_prescriptions_orders3 = df_prescriptions_orders[10000000:15000000]"
   ]
  },
  {
   "cell_type": "code",
   "execution_count": null,
   "metadata": {},
   "outputs": [],
   "source": [
    "df_prescriptions_orders4 = df_prescriptions_orders[15000000:17008052]"
   ]
  },
  {
   "cell_type": "markdown",
   "metadata": {},
   "source": [
    "# Importing into orders table"
   ]
  },
  {
   "cell_type": "code",
   "execution_count": null,
   "metadata": {},
   "outputs": [],
   "source": [
    "# creating column list for insertion into concept table\n",
    "cols = \"`,`\".join([str(i) for i in df_prescriptions_orders.columns.tolist()])\n",
    "\n",
    "# Insert DataFrame recrds one by one.\n",
    "for i,row in df_prescriptions_orders.iterrows():\n",
    "    sql1 = \"SET FOREIGN_KEY_CHECKS=0\"\n",
    "    sql = \"INSERT INTO `orders` (`\" +cols + \"`) VALUES (\" + \"%s,\"*(len(row)-1) + \"%s)\"\n",
    "    sql2 = \"SET FOREIGN_KEY_CHECKS=1\"\n",
    "    try:\n",
    "        openmrscursor.execute(sql1)\n",
    "        openmrscursor.execute(sql, tuple(row))\n",
    "        openmrscursor.execute(sql2)\n",
    "        \n",
    "    except MySQLdb.OperationalError:\n",
    "        continue\n",
    "\n",
    "    # the connection is not autocommitted by default, so we must commit to save our changes\n",
    "    conn.commit()"
   ]
  },
  {
   "cell_type": "code",
   "execution_count": null,
   "metadata": {},
   "outputs": [],
   "source": [
    "# creating column list for insertion into concept table\n",
    "cols = \"`,`\".join([str(i) for i in df_prescriptions_orders2.columns.tolist()])\n",
    "\n",
    "# Insert DataFrame recrds one by one.\n",
    "for i,row in df_prescriptions_orders2.iterrows():\n",
    "    sql1 = \"SET FOREIGN_KEY_CHECKS=0\"\n",
    "    sql = \"INSERT INTO `orders` (`\" +cols + \"`) VALUES (\" + \"%s,\"*(len(row)-1) + \"%s)\"\n",
    "    sql2 = \"SET FOREIGN_KEY_CHECKS=1\"\n",
    "    try:\n",
    "        openmrscursor.execute(sql1)\n",
    "        openmrscursor.execute(sql, tuple(row))\n",
    "        openmrscursor.execute(sql2)\n",
    "        \n",
    "    except MySQLdb.OperationalError:\n",
    "        continue\n",
    "\n",
    "    # the connection is not autocommitted by default, so we must commit to save our changes\n",
    "    conn.commit()"
   ]
  },
  {
   "cell_type": "code",
   "execution_count": null,
   "metadata": {},
   "outputs": [],
   "source": [
    "# creating column list for insertion into concept table\n",
    "cols = \"`,`\".join([str(i) for i in df_prescriptions_orders3.columns.tolist()])\n",
    "\n",
    "# Insert DataFrame recrds one by one.\n",
    "for i,row in df_prescriptions_orders3.iterrows():\n",
    "    sql1 = \"SET FOREIGN_KEY_CHECKS=0\"\n",
    "    sql = \"INSERT INTO `orders` (`\" +cols + \"`) VALUES (\" + \"%s,\"*(len(row)-1) + \"%s)\"\n",
    "    sql2 = \"SET FOREIGN_KEY_CHECKS=1\"\n",
    "    try:\n",
    "        openmrscursor.execute(sql1)\n",
    "        openmrscursor.execute(sql, tuple(row))\n",
    "        openmrscursor.execute(sql2)\n",
    "        \n",
    "    except MySQLdb.OperationalError:\n",
    "        continue\n",
    "\n",
    "    # the connection is not autocommitted by default, so we must commit to save our changes\n",
    "    conn.commit()"
   ]
  },
  {
   "cell_type": "code",
   "execution_count": null,
   "metadata": {},
   "outputs": [],
   "source": [
    "# creating column list for insertion into concept table\n",
    "cols = \"`,`\".join([str(i) for i in df_prescriptions_orders4.columns.tolist()])\n",
    "\n",
    "# Insert DataFrame recrds one by one.\n",
    "for i,row in df_prescriptions_orders4.iterrows():\n",
    "    sql1 = \"SET FOREIGN_KEY_CHECKS=0\"\n",
    "    sql = \"INSERT INTO `orders` (`\" +cols + \"`) VALUES (\" + \"%s,\"*(len(row)-1) + \"%s)\"\n",
    "    sql2 = \"SET FOREIGN_KEY_CHECKS=1\"\n",
    "    try:\n",
    "        openmrscursor.execute(sql1)\n",
    "        openmrscursor.execute(sql, tuple(row))\n",
    "        openmrscursor.execute(sql2)\n",
    "        \n",
    "    except MySQLdb.OperationalError:\n",
    "        continue\n",
    "\n",
    "    # the connection is not autocommitted by default, so we must commit to save our changes\n",
    "    conn.commit()"
   ]
  }
 ],
 "metadata": {
  "kernelspec": {
   "display_name": "Python 3 (ipykernel)",
   "language": "python",
   "name": "python3"
  },
  "language_info": {
   "codemirror_mode": {
    "name": "ipython",
    "version": 3
   },
   "file_extension": ".py",
   "mimetype": "text/x-python",
   "name": "python",
   "nbconvert_exporter": "python",
   "pygments_lexer": "ipython3",
   "version": "3.9.7"
  }
 },
 "nbformat": 4,
 "nbformat_minor": 4
}
