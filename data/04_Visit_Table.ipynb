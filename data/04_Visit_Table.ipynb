{
 "cells": [
  {
   "cell_type": "code",
   "execution_count": null,
   "metadata": {},
   "outputs": [],
   "source": [
    "import MySQLdb\n",
    "from pandas.io import sql\n",
    "import pandas as pd\n",
    "import numpy as np\n",
    "conn = MySQLdb.connect(host=\"localhost\", user=\"root\", passwd=\"MYSQLROOTPASSWORD\", db=\"openmrs\") \n",
    "openmrscursor = conn.cursor()"
   ]
  },
  {
   "cell_type": "code",
   "execution_count": null,
   "metadata": {},
   "outputs": [],
   "source": [
    "df_visit = pd.read_sql('select * from `visit`', con = conn)\n",
    "df_visit"
   ]
  },
  {
   "cell_type": "code",
   "execution_count": null,
   "metadata": {},
   "outputs": [],
   "source": [
    "df_visit[df_visit['patient_id']==10467237]"
   ]
  },
  {
   "cell_type": "code",
   "execution_count": null,
   "metadata": {},
   "outputs": [],
   "source": [
    "df_visit_type = pd.read_sql('select * from `visit_type`', con = conn)"
   ]
  },
  {
   "cell_type": "code",
   "execution_count": null,
   "metadata": {},
   "outputs": [],
   "source": [
    "mimicconn = MySQLdb.connect(host=\"localhost\", user=\"root\", passwd=\"Soic@2022Capstone\", db=\"mimic4\") \n",
    "mimiccursor = mimicconn.cursor()"
   ]
  },
  {
   "cell_type": "code",
   "execution_count": null,
   "metadata": {},
   "outputs": [],
   "source": [
    "admissions_mimic = pd.read_sql('select * from admissions', con = mimicconn) \n",
    "admissions_mimic"
   ]
  },
  {
   "cell_type": "code",
   "execution_count": null,
   "metadata": {},
   "outputs": [],
   "source": [
    "admissions_visit = pd.read_sql('select distinct(admission_type) from admissions', con = mimicconn) \n",
    "admissions_visit"
   ]
  },
  {
   "cell_type": "code",
   "execution_count": null,
   "metadata": {},
   "outputs": [],
   "source": [
    "import uuid\n",
    "admissions_visit['date_created'] = '2022-01-01'\n",
    "admissions_visit['uuid'] = [uuid.uuid4() for x in range(len(admissions_visit))]\n",
    "admissions_visit['creator'] = 1"
   ]
  },
  {
   "cell_type": "code",
   "execution_count": null,
   "metadata": {},
   "outputs": [],
   "source": [
    "admissions_visit.rename(columns={\"admission_type\": \"name\"})"
   ]
  },
  {
   "cell_type": "code",
   "execution_count": null,
   "metadata": {},
   "outputs": [],
   "source": [
    "dict_ = pd.Series(df_visit_type.visit_type_id.values,index=df_visit_type.name).to_dict()\n",
    "dict_"
   ]
  },
  {
   "cell_type": "markdown",
   "metadata": {},
   "source": [
    "# insert columns from admissions to visit table"
   ]
  },
  {
   "cell_type": "code",
   "execution_count": null,
   "metadata": {},
   "outputs": [],
   "source": [
    "admissions_mimic_copy = admissions_mimic[['subject_id', 'hadm_id', 'admittime', 'dischtime', 'admission_type']]\n",
    "admissions_mimic_copy['visit_type_id'] = admissions_mimic_copy['admission_type'].map(dict_)"
   ]
  },
  {
   "cell_type": "code",
   "execution_count": null,
   "metadata": {},
   "outputs": [],
   "source": [
    "admissions_mimic_copy['date_created'] = '2022-01-01'\n",
    "admissions_mimic_copy['uuid'] = [uuid.uuid4() for x in range(len(admissions_mimic_copy))]\n",
    "admissions_mimic_copy['creator'] = 1\n",
    "admissions_mimic_copy"
   ]
  },
  {
   "cell_type": "code",
   "execution_count": null,
   "metadata": {},
   "outputs": [],
   "source": [
    "admissions_mimic_copy=admissions_mimic_copy.rename(columns={\"subject_id\": \"patient_id\", \"hadm_id\": \"visit_id\", \"admittime\": \"date_started\", \"dischtime\": \"date_stopped\"}) \n",
    "admissions_mimic_copy = admissions_mimic_copy.drop(columns=['admission_type']) \n",
    "admissions_mimic_copy "
   ]
  },
  {
   "cell_type": "code",
   "execution_count": null,
   "metadata": {},
   "outputs": [],
   "source": [
    "admissions_mimic_copy['visit_id'].nunique()"
   ]
  },
  {
   "cell_type": "code",
   "execution_count": null,
   "metadata": {},
   "outputs": [],
   "source": [
    "admissions_mimic_copy.dtypes"
   ]
  },
  {
   "cell_type": "markdown",
   "metadata": {},
   "source": [
    "# getting Indication_concept_id from Concept table"
   ]
  },
  {
   "cell_type": "code",
   "execution_count": null,
   "metadata": {},
   "outputs": [],
   "source": [
    "# hadmid_conceptid = pd.read_sql('SELECT c.concept_id, diag.hadm_id FROM openmrs.concept c, mimic4.d_icd_diagnoses d, mimic4.diagnoses_icd diag where c.description = d.long_title and diag.icd_code = d.icd_code and diag.seq_num=1')\n"
   ]
  },
  {
   "cell_type": "code",
   "execution_count": null,
   "metadata": {},
   "outputs": [],
   "source": [
    "hadmid_conceptid = pd.read_csv('hadm_id and concept_id.csv')\n",
    "hadmid_conceptid = hadmid_conceptid.rename(columns={\"hadm_id\": \"visit_id\"})\n",
    "hadmid_conceptid"
   ]
  },
  {
   "cell_type": "code",
   "execution_count": null,
   "metadata": {},
   "outputs": [],
   "source": [
    "hadmid_conceptid['visit_id'].nunique()"
   ]
  },
  {
   "cell_type": "code",
   "execution_count": null,
   "metadata": {},
   "outputs": [],
   "source": [
    "new_vist_admissions = pd.merge(admissions_mimic_copy,hadmid_conceptid, on= 'visit_id', how='left')\n",
    "new_vist_admissions"
   ]
  },
  {
   "cell_type": "code",
   "execution_count": null,
   "metadata": {},
   "outputs": [],
   "source": [
    "new_vist_admissions_1 = new_vist_admissions.drop_duplicates(subset ='visit_id')\n",
    "new_vist_admissions_1 = new_vist_admissions_1.rename({'concept_id':'indication_concept_id'}, axis = 1)\n",
    "new_vist_admissions_1"
   ]
  },
  {
   "cell_type": "code",
   "execution_count": null,
   "metadata": {},
   "outputs": [],
   "source": [
    "column_names = ['visit_id', 'patient_id', 'visit_type_id', 'date_started', 'date_stopped','indication_concept_id','creator', 'date_created', 'uuid']\n",
    "final_visit_df = new_vist_admissions_1.reindex(columns=column_names)\n",
    "final_visit_df"
   ]
  },
  {
   "cell_type": "code",
   "execution_count": null,
   "metadata": {},
   "outputs": [],
   "source": [
    "final_visit_df = final_visit_df.replace({np.nan: None})\n",
    "final_visit_df"
   ]
  },
  {
   "cell_type": "code",
   "execution_count": null,
   "metadata": {},
   "outputs": [],
   "source": [
    "# creating column list for insertion into concept table\n",
    "cols = \"`,`\".join([str(i) for i in final_visit_df.columns.tolist()])\n",
    "\n",
    "# Insert DataFrame recrds one by one.\n",
    "for i,row in final_visit_df.iterrows():\n",
    "    sql1 = \"SET FOREIGN_KEY_CHECKS=0\"\n",
    "    sql = \"INSERT INTO `visit` (`\" +cols + \"`) VALUES (\" + \"%s,\"*(len(row)-1) + \"%s)\"\n",
    "    sql2 = \"SET FOREIGN_KEY_CHECKS=1\"\n",
    "    try:\n",
    "        openmrscursor.execute(sql1)\n",
    "        openmrscursor.execute(sql, tuple(row))\n",
    "        openmrscursor.execute(sql2)\n",
    "        \n",
    "    except MySQLdb.OperationalError:\n",
    "        continue\n",
    "\n",
    "    # the connection is not autocommitted by default, so we must commit to save our changes\n",
    "    conn.commit() "
   ]
  },
  {
   "cell_type": "code",
   "execution_count": null,
   "metadata": {},
   "outputs": [],
   "source": [
    "# UPDATE openmrs.visit ov SET indication_concept_id = (select concept_id from openmrs.concept\n",
    "# WHERE short_name = (select icd_code from mimic4.diagnoses_icd mdiag\n",
    "# WHERE mdiag.hadm_id = ov.visit_id AND mdiag.seq_num = 1)) WHERE ;"
   ]
  },
  {
   "cell_type": "code",
   "execution_count": null,
   "metadata": {},
   "outputs": [],
   "source": [
    "# select COUNT(c.concept_id) from mimic4.diagnoses_icd mdiag, openmrs.visit ov, openmrs.concept c\n",
    "# WHERE mdiag.hadm_id = ov.visit_id AND mdiag.seq_num = 1 AND c.short_name=mdiag.icd_code"
   ]
  },
  {
   "cell_type": "code",
   "execution_count": null,
   "metadata": {},
   "outputs": [],
   "source": []
  }
 ],
 "metadata": {
  "kernelspec": {
   "display_name": "Python 3 (ipykernel)",
   "language": "python",
   "name": "python3"
  },
  "language_info": {
   "codemirror_mode": {
    "name": "ipython",
    "version": 3
   },
   "file_extension": ".py",
   "mimetype": "text/x-python",
   "name": "python",
   "nbconvert_exporter": "python",
   "pygments_lexer": "ipython3",
   "version": "3.9.7"
  }
 },
 "nbformat": 4,
 "nbformat_minor": 4
}
