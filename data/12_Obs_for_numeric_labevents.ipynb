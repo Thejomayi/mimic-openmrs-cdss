{
 "cells": [
  {
   "cell_type": "code",
   "execution_count": null,
   "metadata": {},
   "outputs": [],
   "source": [
    "import MySQLdb\n",
    "from pandas.io import sql\n",
    "\n",
    "conn = MySQLdb.connect(host=\"localhost\", user=\"root\", passwd=\"MYSQLROOTPASSWORD\", db=\"openmrs\") \n",
    "openmrscursor = conn.cursor() "
   ]
  },
  {
   "cell_type": "code",
   "execution_count": null,
   "metadata": {},
   "outputs": [],
   "source": [
    "import pandas as pd\n",
    "import numpy as np\n",
    "\n",
    "df_obs = pd.read_sql('select encounter_id from `obs`', con = conn)\n",
    "len(df_obs.index)"
   ]
  },
  {
   "cell_type": "code",
   "execution_count": null,
   "metadata": {},
   "outputs": [],
   "source": [
    "mimicconn = MySQLdb.connect(host=\"localhost\", user=\"root\", passwd=\"MYSQLROOTPASSWORD\", db=\"mimic4\") \n",
    "mimiccursor = mimicconn.cursor()\n",
    "\n",
    "df_labevents_mimic_num = pd.read_sql(\"SELECT subject_id, value, hadm_id, itemid, storetime from mimic4.labevents where hadm_id IS NOT NULL AND value IS NOT NULL AND value NOT regexp '[[:alpha:]]'\", con = mimicconn)"
   ]
  },
  {
   "cell_type": "code",
   "execution_count": null,
   "metadata": {},
   "outputs": [],
   "source": [
    "df_labevents_mimic_num"
   ]
  },
  {
   "cell_type": "code",
   "execution_count": null,
   "metadata": {},
   "outputs": [],
   "source": [
    "# df_labevents_mimic_coded = pd.read_sql(\"SELECT subject_id, value, hadm_id, itemid, storetime from mimic4.labevents where hadm_id IS NOT NULL AND value IS NOT NULL AND value regexp '[[:alpha:]]'\", con = mimicconn)\n",
    "# df_labevents_mimic_coded"
   ]
  },
  {
   "cell_type": "code",
   "execution_count": null,
   "metadata": {},
   "outputs": [],
   "source": [
    "df_labitems_mimic_ = pd.read_sql(\"SELECT itemid, label from mimic4.d_labitems where itemid IS NOT NULL AND label IS NOT NULL\", con = mimicconn)"
   ]
  },
  {
   "cell_type": "code",
   "execution_count": null,
   "metadata": {},
   "outputs": [],
   "source": [
    "df_labitems_mimic_"
   ]
  },
  {
   "cell_type": "code",
   "execution_count": null,
   "metadata": {},
   "outputs": [],
   "source": [
    "df_labitems_mimic_['label'] = df_labitems_mimic_['label'].str.lower()"
   ]
  },
  {
   "cell_type": "code",
   "execution_count": null,
   "metadata": {},
   "outputs": [],
   "source": [
    "dict_ = dict(zip(df_labitems_mimic_.itemid, df_labitems_mimic_.label))\n",
    "dict_"
   ]
  },
  {
   "cell_type": "code",
   "execution_count": null,
   "metadata": {},
   "outputs": [],
   "source": [
    "# First dealing numeric labevents"
   ]
  },
  {
   "cell_type": "code",
   "execution_count": null,
   "metadata": {},
   "outputs": [],
   "source": [
    "df_labevents_mimic_num['label'] = df_labevents_mimic_num['itemid'].map(dict_)\n",
    "df_labevents_mimic_num"
   ]
  },
  {
   "cell_type": "code",
   "execution_count": null,
   "metadata": {},
   "outputs": [],
   "source": [
    "df_labevents_mimic_num['label'].isnull().sum()"
   ]
  },
  {
   "cell_type": "code",
   "execution_count": null,
   "metadata": {},
   "outputs": [],
   "source": [
    "concept_lab_num = pd.read_sql('select * from concept where class_id = 1', con=conn)\n",
    "concept_lab_num "
   ]
  },
  {
   "cell_type": "code",
   "execution_count": null,
   "metadata": {},
   "outputs": [],
   "source": [
    "dict_concept_num = dict(zip(concept_lab_num.description, concept_lab_num.concept_id))\n",
    "len(dict_concept_num)"
   ]
  },
  {
   "cell_type": "code",
   "execution_count": null,
   "metadata": {},
   "outputs": [],
   "source": [
    "df_labevents_mimic_num['concept_id'] = df_labevents_mimic_num['label'].map(dict_concept_num)\n",
    "df_labevents_mimic_num"
   ]
  },
  {
   "cell_type": "code",
   "execution_count": null,
   "metadata": {},
   "outputs": [],
   "source": [
    "df_labevents_mimic_num.isnull().sum()"
   ]
  },
  {
   "cell_type": "code",
   "execution_count": null,
   "metadata": {},
   "outputs": [],
   "source": [
    "df_labevents_mimic_num = df_labevents_mimic_num.rename({\"subject_id\": \"person_id\", \"hadm_id\": \"encounter_id\", \"storetime\": \"obs_datetime\", \"value\":\"value_numeric\" }, axis='columns')\n",
    "\n",
    "df_labevents_mimic_num = df_labevents_mimic_num.drop(columns=['itemid', 'label'])\n",
    "df_labevents_mimic_num['date_created']= '2022-01-01'\n"
   ]
  },
  {
   "cell_type": "code",
   "execution_count": null,
   "metadata": {},
   "outputs": [],
   "source": [
    "import uuid\n",
    "df_labevents_mimic_num['uuid'] = [uuid.uuid4() for x in range(len(df_labevents_mimic_num))]\n",
    "df_labevents_mimic_num['creator'] = 1"
   ]
  },
  {
   "cell_type": "code",
   "execution_count": null,
   "metadata": {},
   "outputs": [],
   "source": [
    "column_names = ['person_id', 'concept_id', 'encounter_id', 'obs_datetime', 'value_numeric', 'creator', 'date_created', 'uuid']\n",
    "\n",
    "df_labevents_mimic_num = df_labevents_mimic_num.reindex(columns=column_names)"
   ]
  },
  {
   "cell_type": "code",
   "execution_count": null,
   "metadata": {},
   "outputs": [],
   "source": [
    "#dealing with nonnumeric labevents"
   ]
  },
  {
   "cell_type": "code",
   "execution_count": null,
   "metadata": {},
   "outputs": [],
   "source": [
    "df_labevents_mimic_coded"
   ]
  },
  {
   "cell_type": "code",
   "execution_count": null,
   "metadata": {},
   "outputs": [],
   "source": [
    "df_labevents_mimic_coded['label'] = df_labevents_mimic_coded['itemid'].map(dict_)\n",
    "df_labevents_mimic_coded"
   ]
  },
  {
   "cell_type": "code",
   "execution_count": null,
   "metadata": {},
   "outputs": [],
   "source": [
    "concept_lab_coded = pd.read_sql('select * from concept where class_id = 1 and datatype_id=2', con=conn)\n",
    "concept_lab_coded"
   ]
  },
  {
   "cell_type": "code",
   "execution_count": null,
   "metadata": {},
   "outputs": [],
   "source": [
    "dict_concept_coded = dict(zip(concept_lab_coded.description, concept_lab_coded.concept_id))\n",
    "len(dict_concept_coded)"
   ]
  },
  {
   "cell_type": "code",
   "execution_count": null,
   "metadata": {},
   "outputs": [],
   "source": [
    "df_labevents_mimic_coded['concept_id'] = df_labevents_mimic_coded['label'].map(dict_concept_coded)\n",
    "df_labevents_mimic_coded"
   ]
  },
  {
   "cell_type": "code",
   "execution_count": null,
   "metadata": {},
   "outputs": [],
   "source": [
    "df_labevents_mimic_coded.isnull().sum()"
   ]
  },
  {
   "cell_type": "code",
   "execution_count": null,
   "metadata": {},
   "outputs": [],
   "source": [
    "df_labevents_mimic_coded = df_labevents_mimic_coded.rename({\"subject_id\": \"person_id\", \"hadm_id\": \"encounter_id\", \"storetime\": \"obs_datetime\", \"value\":\"value_text\" }, axis='columns')\n",
    "\n",
    "df_labevents_mimic_coded = df_labevents_mimic_coded.drop(columns=['itemid', 'label'])\n",
    "df_labevents_mimic_coded['date_created']= '2022-01-01'\n",
    "import uuid\n",
    "df_labevents_mimic_coded['uuid'] = [uuid.uuid4() for x in range(len(df_labevents_mimic_coded))]\n",
    "df_labevents_mimic_coded['creator'] = 1\n",
    "df_labevents_mimic_coded\n"
   ]
  },
  {
   "cell_type": "code",
   "execution_count": null,
   "metadata": {},
   "outputs": [],
   "source": [
    "df_labevents_mimic_coded_copy = df_labevents_mimic_coded.copy()\n",
    "df_labevents_mimic_coded_copy"
   ]
  },
  {
   "cell_type": "code",
   "execution_count": null,
   "metadata": {},
   "outputs": [],
   "source": [
    "conceptid_answer = pd.read_sql('select * from concept where class_id = 11 and datatype_id=4', con=conn)\n",
    "conceptid_answer"
   ]
  },
  {
   "cell_type": "code",
   "execution_count": null,
   "metadata": {},
   "outputs": [],
   "source": [
    "dict_answer_conceptid = dict(zip(conceptid_answer.description, conceptid_answer.concept_id))\n",
    "dict_answer_conceptid"
   ]
  },
  {
   "cell_type": "code",
   "execution_count": null,
   "metadata": {},
   "outputs": [],
   "source": [
    "_df_ = pd.read_csv('non-numeric-labevents_.csv')\n",
    "\n",
    "_df_= _df_[['value', 'value1']]\n",
    "_df_.dropna(inplace = True)\n",
    "_df_"
   ]
  },
  {
   "cell_type": "code",
   "execution_count": null,
   "metadata": {},
   "outputs": [],
   "source": [
    "list_of_value1 = set(_df_['value1'].to_list())\n",
    "list_of_value1"
   ]
  },
  {
   "cell_type": "code",
   "execution_count": null,
   "metadata": {},
   "outputs": [],
   "source": [
    "Removing numerics\n",
    "b = [item for item in list_of_value1 if not item.isdigit()]\n",
    "b.remove('274.9')\n",
    "\n",
    "for index, row in _df_.iterrows():\n",
    "    if row['value1'] not in b:\n",
    "        _df_=_df_.drop(index)\n",
    "\n",
    "_df_      "
   ]
  },
  {
   "cell_type": "code",
   "execution_count": null,
   "metadata": {},
   "outputs": [],
   "source": [
    "dict_values = dict(zip(_df_.value, _df_.value1))\n",
    "dict_values"
   ]
  },
  {
   "cell_type": "code",
   "execution_count": null,
   "metadata": {},
   "outputs": [],
   "source": [
    "df_labevents_mimic_coded['value_text'] = df_labevents_mimic_coded['value_text'].map(dict_values)\n",
    "df_labevents_mimic_coded"
   ]
  },
  {
   "cell_type": "code",
   "execution_count": null,
   "metadata": {},
   "outputs": [],
   "source": [
    "df_labevents_mimic_coded.isnull().sum()"
   ]
  },
  {
   "cell_type": "code",
   "execution_count": null,
   "metadata": {},
   "outputs": [],
   "source": [
    "df_labevents_mimic_coded['value_coded'] = df_labevents_mimic_coded['value_text'].map(dict_answer_conceptid)\n",
    "df_labevents_mimic_coded"
   ]
  },
  {
   "cell_type": "code",
   "execution_count": null,
   "metadata": {},
   "outputs": [],
   "source": [
    "df_labevents_mimic_coded.isnull().sum()"
   ]
  },
  {
   "cell_type": "code",
   "execution_count": null,
   "metadata": {},
   "outputs": [],
   "source": [
    "df_concept_answer = pd.read_sql('select * from `concept_answer`', con = conn)\n",
    "df_concept_answer"
   ]
  },
  {
   "cell_type": "code",
   "execution_count": null,
   "metadata": {},
   "outputs": [],
   "source": [
    "df_concept_answer['concept_id'].nunique()"
   ]
  },
  {
   "cell_type": "code",
   "execution_count": null,
   "metadata": {},
   "outputs": [],
   "source": [
    "dict_answerconcept_coded = dict(zip(df_concept_answer.concept_id, df_concept_answer.answer_concept))\n",
    "dict_answerconcept_coded"
   ]
  },
  {
   "cell_type": "code",
   "execution_count": null,
   "metadata": {},
   "outputs": [],
   "source": [
    "df_labevents_mimic_coded['value_coded'] = df_labevents_mimic_coded['concept_id'].map(dict_answerconcept_coded)\n",
    "df_labevents_mimic_coded"
   ]
  },
  {
   "cell_type": "code",
   "execution_count": null,
   "metadata": {},
   "outputs": [],
   "source": [
    "df_labevents_mimic_num_copy = df_labevents_mimic_num.copy()"
   ]
  },
  {
   "cell_type": "code",
   "execution_count": null,
   "metadata": {},
   "outputs": [],
   "source": [
    "df_labevents_mimic_num_copy"
   ]
  },
  {
   "cell_type": "code",
   "execution_count": null,
   "metadata": {},
   "outputs": [],
   "source": [
    "# first 10 million"
   ]
  },
  {
   "cell_type": "code",
   "execution_count": null,
   "metadata": {},
   "outputs": [],
   "source": [
    "df_Obs_labevents_part1 = df_labevents_mimic_num_copy[:10000000]"
   ]
  },
  {
   "cell_type": "code",
   "execution_count": null,
   "metadata": {},
   "outputs": [],
   "source": [
    "def split(x):\n",
    "    if '-' in x:\n",
    "        return x.split('-')[1]\n",
    "    else:\n",
    "        return x\n"
   ]
  },
  {
   "cell_type": "code",
   "execution_count": null,
   "metadata": {},
   "outputs": [],
   "source": [
    "df_Obs_labevents_part1.value_numeric = df_Obs_labevents_part1.value_numeric.apply(split)"
   ]
  },
  {
   "cell_type": "code",
   "execution_count": null,
   "metadata": {},
   "outputs": [],
   "source": [
    "import re\n",
    "def remove_chars(x):\n",
    "    return re.sub(\"[^.0-9]+\", \"\", x)\n",
    "    \n",
    "df_Obs_labevents_part1.value_numeric = df_Obs_labevents_part1.value_numeric.apply(remove_chars)"
   ]
  },
  {
   "cell_type": "code",
   "execution_count": null,
   "metadata": {},
   "outputs": [],
   "source": [
    "df_Obs_labevents_part1['value_numeric'] = df_Obs_labevents_part1['value_numeric'].replace(r'^\\s*$', np.nan, regex=True)\n",
    "df_Obs_labevents_part1['value_numeric'] = df_Obs_labevents_part1['value_numeric'].fillna(0)\n"
   ]
  },
  {
   "cell_type": "code",
   "execution_count": null,
   "metadata": {},
   "outputs": [],
   "source": [
    "df_Obs_labevents_part1['value_numeric']=pd.to_numeric(df_Obs_labevents_part1.value_numeric, errors='coerce')"
   ]
  },
  {
   "cell_type": "code",
   "execution_count": null,
   "metadata": {},
   "outputs": [],
   "source": [
    "df_Obs_labevents_part1 = df_Obs_labevents_part1.replace({np.NAN: None})"
   ]
  },
  {
   "cell_type": "code",
   "execution_count": null,
   "metadata": {},
   "outputs": [],
   "source": [
    "df_Obs_labevents_part1"
   ]
  },
  {
   "cell_type": "code",
   "execution_count": null,
   "metadata": {},
   "outputs": [],
   "source": [
    "# creating column list for insertion for person table\n",
    "cols = \"`,`\".join([str(i) for i in df_Obs_labevents_part1.columns.tolist()])\n",
    "\n",
    "# Insert DataFrame recrds one by one.\n",
    "for i,row in df_Obs_labevents_part1.iterrows():\n",
    "    sql1 = \"SET FOREIGN_KEY_CHECKS=0\"\n",
    "    sql = \"INSERT INTO `obs` (`\" +cols + \"`) VALUES (\" + \"%s,\"*(len(row)-1) + \"%s)\"\n",
    "    sql2 = \"SET FOREIGN_KEY_CHECKS=1\"\n",
    "    try:\n",
    "        openmrscursor.execute(sql1)\n",
    "        openmrscursor.execute(sql, tuple(row))\n",
    "        openmrscursor.execute(sql2)\n",
    "        \n",
    "    except MySQLdb.OperationalError:\n",
    "        continue\n",
    "\n",
    "    # the connection is not autocommitted by default, so we must commit to save our changes\n",
    "    conn.commit() "
   ]
  },
  {
   "cell_type": "code",
   "execution_count": null,
   "metadata": {},
   "outputs": [],
   "source": [
    "# Second 10 million"
   ]
  },
  {
   "cell_type": "code",
   "execution_count": null,
   "metadata": {},
   "outputs": [],
   "source": [
    "df_Obs_labevents_part2 = df_labevents_mimic_num_copy[10000000:20000000]"
   ]
  },
  {
   "cell_type": "code",
   "execution_count": null,
   "metadata": {},
   "outputs": [],
   "source": [
    "def split(x):\n",
    "    if '-' in x:\n",
    "        return x.split('-')[1]\n",
    "    else:\n",
    "        return x"
   ]
  },
  {
   "cell_type": "code",
   "execution_count": null,
   "metadata": {},
   "outputs": [],
   "source": [
    "df_Obs_labevents_part2.value_numeric = df_Obs_labevents_part2.value_numeric.apply(split)"
   ]
  },
  {
   "cell_type": "code",
   "execution_count": null,
   "metadata": {},
   "outputs": [],
   "source": [
    "import re\n",
    "def remove_chars(x):\n",
    "    return re.sub(\"[^.0-9]+\", \"\", x)\n",
    "    \n",
    "df_Obs_labevents_part2.value_numeric = df_Obs_labevents_part2.value_numeric.apply(remove_chars)"
   ]
  },
  {
   "cell_type": "code",
   "execution_count": null,
   "metadata": {},
   "outputs": [],
   "source": [
    "df_Obs_labevents_part2['value_numeric'] = df_Obs_labevents_part2['value_numeric'].replace(r'^\\s*$', np.nan, regex=True)\n",
    "df_Obs_labevents_part2['value_numeric'] = df_Obs_labevents_part2['value_numeric'].fillna(0)\n"
   ]
  },
  {
   "cell_type": "code",
   "execution_count": null,
   "metadata": {},
   "outputs": [],
   "source": [
    "df_Obs_labevents_part2['value_numeric']=pd.to_numeric(df_Obs_labevents_part2.value_numeric, errors='coerce')"
   ]
  },
  {
   "cell_type": "code",
   "execution_count": null,
   "metadata": {},
   "outputs": [],
   "source": [
    "df_Obs_labevents_part2 = df_Obs_labevents_part2.replace({np.NAN: None})"
   ]
  },
  {
   "cell_type": "code",
   "execution_count": null,
   "metadata": {},
   "outputs": [],
   "source": [
    "# creating column list for insertion for person table\n",
    "cols = \"`,`\".join([str(i) for i in df_Obs_labevents_part2.columns.tolist()])\n",
    "\n",
    "# Insert DataFrame recrds one by one.\n",
    "for i,row in df_Obs_labevents_part2.iterrows():\n",
    "    sql1 = \"SET FOREIGN_KEY_CHECKS=0\"\n",
    "    sql = \"INSERT INTO `obs` (`\" +cols + \"`) VALUES (\" + \"%s,\"*(len(row)-1) + \"%s)\"\n",
    "    sql2 = \"SET FOREIGN_KEY_CHECKS=1\"\n",
    "    try:\n",
    "        openmrscursor.execute(sql1)\n",
    "        openmrscursor.execute(sql, tuple(row))\n",
    "        openmrscursor.execute(sql2)\n",
    "        \n",
    "    except MySQLdb.OperationalError:\n",
    "        continue\n",
    "\n",
    "    # the connection is not autocommitted by default, so we must commit to save our changes\n",
    "    conn.commit() "
   ]
  },
  {
   "cell_type": "code",
   "execution_count": null,
   "metadata": {},
   "outputs": [],
   "source": [
    "# Dealing with third 10 million"
   ]
  },
  {
   "cell_type": "code",
   "execution_count": null,
   "metadata": {},
   "outputs": [],
   "source": [
    "df_Obs_labevents_part3 = df_labevents_mimic_num_copy[20000000:30000000]"
   ]
  },
  {
   "cell_type": "code",
   "execution_count": null,
   "metadata": {},
   "outputs": [],
   "source": [
    "def split(x):\n",
    "    if '-' in x:\n",
    "        return x.split('-')[1]\n",
    "    else:\n",
    "        return x"
   ]
  },
  {
   "cell_type": "code",
   "execution_count": null,
   "metadata": {},
   "outputs": [],
   "source": [
    "df_Obs_labevents_part3.value_numeric = df_Obs_labevents_part3.value_numeric.apply(split)"
   ]
  },
  {
   "cell_type": "code",
   "execution_count": null,
   "metadata": {},
   "outputs": [],
   "source": [
    "import re\n",
    "def remove_chars(x):\n",
    "    return re.sub(\"[^.0-9]+\", \"\", x)\n",
    "    \n",
    "df_Obs_labevents_part3.value_numeric = df_Obs_labevents_part3.value_numeric.apply(remove_chars)"
   ]
  },
  {
   "cell_type": "code",
   "execution_count": null,
   "metadata": {},
   "outputs": [],
   "source": [
    "df_Obs_labevents_part3['value_numeric'] = df_Obs_labevents_part3['value_numeric'].replace(r'^\\s*$', np.nan, regex=True)\n",
    "df_Obs_labevents_part3['value_numeric'] = df_Obs_labevents_part3['value_numeric'].fillna(0)\n"
   ]
  },
  {
   "cell_type": "code",
   "execution_count": null,
   "metadata": {},
   "outputs": [],
   "source": [
    "df_Obs_labevents_part3['value_numeric']=pd.to_numeric(df_Obs_labevents_part3.value_numeric, errors='coerce')"
   ]
  },
  {
   "cell_type": "code",
   "execution_count": null,
   "metadata": {},
   "outputs": [],
   "source": [
    "df_Obs_labevents_part3 = df_Obs_labevents_part3.replace({np.NAN: None})"
   ]
  },
  {
   "cell_type": "code",
   "execution_count": null,
   "metadata": {},
   "outputs": [],
   "source": [
    "# creating column list for insertion for person table\n",
    "cols = \"`,`\".join([str(i) for i in df_Obs_labevents_part3.columns.tolist()])\n",
    "\n",
    "# Insert DataFrame recrds one by one.\n",
    "for i,row in df_Obs_labevents_part3.iterrows():\n",
    "    sql1 = \"SET FOREIGN_KEY_CHECKS=0\"\n",
    "    sql = \"INSERT INTO `obs` (`\" +cols + \"`) VALUES (\" + \"%s,\"*(len(row)-1) + \"%s)\"\n",
    "    sql2 = \"SET FOREIGN_KEY_CHECKS=1\"\n",
    "    try:\n",
    "        openmrscursor.execute(sql1)\n",
    "        openmrscursor.execute(sql, tuple(row))\n",
    "        openmrscursor.execute(sql2)\n",
    "        \n",
    "    except MySQLdb.OperationalError:\n",
    "        continue\n",
    "\n",
    "    # the connection is not autocommitted by default, so we must commit to save our changes\n",
    "    conn.commit() "
   ]
  },
  {
   "cell_type": "code",
   "execution_count": null,
   "metadata": {},
   "outputs": [],
   "source": [
    "# Fourth 10 million "
   ]
  },
  {
   "cell_type": "code",
   "execution_count": null,
   "metadata": {},
   "outputs": [],
   "source": [
    "df_Obs_labevents_part4 = df_labevents_mimic_num_copy[30000000:40000000]"
   ]
  },
  {
   "cell_type": "code",
   "execution_count": null,
   "metadata": {},
   "outputs": [],
   "source": [
    "def split(x):\n",
    "    if '-' in x:\n",
    "        return x.split('-')[1]\n",
    "    else:\n",
    "        return x\n",
    "    \n",
    "df_Obs_labevents_part4.value_numeric = df_Obs_labevents_part4.value_numeric.apply(split)    "
   ]
  },
  {
   "cell_type": "code",
   "execution_count": null,
   "metadata": {},
   "outputs": [],
   "source": [
    "import re\n",
    "def remove_chars(x):\n",
    "    return re.sub(\"[^.0-9]+\", \"\", x)\n",
    "    \n",
    "df_Obs_labevents_part4.value_numeric = df_Obs_labevents_part4.value_numeric.apply(remove_chars)"
   ]
  },
  {
   "cell_type": "code",
   "execution_count": null,
   "metadata": {},
   "outputs": [],
   "source": [
    "df_Obs_labevents_part4['value_numeric'] = df_Obs_labevents_part4['value_numeric'].replace(r'^\\s*$', np.nan, regex=True)\n",
    "df_Obs_labevents_part4['value_numeric'] = df_Obs_labevents_part4['value_numeric'].fillna(0)"
   ]
  },
  {
   "cell_type": "code",
   "execution_count": null,
   "metadata": {},
   "outputs": [],
   "source": [
    "df_Obs_labevents_part4['value_numeric']=pd.to_numeric(df_Obs_labevents_part4.value_numeric, errors='coerce')"
   ]
  },
  {
   "cell_type": "code",
   "execution_count": null,
   "metadata": {},
   "outputs": [],
   "source": [
    "df_Obs_labevents_part4 = df_Obs_labevents_part4.replace({np.NAN: None})"
   ]
  },
  {
   "cell_type": "code",
   "execution_count": null,
   "metadata": {},
   "outputs": [],
   "source": [
    "# creating column list for insertion for person table\n",
    "cols = \"`,`\".join([str(i) for i in df_Obs_labevents_part4.columns.tolist()])\n",
    "\n",
    "# Insert DataFrame recrds one by one.\n",
    "for i,row in df_Obs_labevents_part4.iterrows():\n",
    "    sql1 = \"SET FOREIGN_KEY_CHECKS=0\"\n",
    "    sql = \"INSERT INTO `obs` (`\" +cols + \"`) VALUES (\" + \"%s,\"*(len(row)-1) + \"%s)\"\n",
    "    sql2 = \"SET FOREIGN_KEY_CHECKS=1\"\n",
    "    try:\n",
    "        openmrscursor.execute(sql1)\n",
    "        openmrscursor.execute(sql, tuple(row))\n",
    "        openmrscursor.execute(sql2)\n",
    "        \n",
    "    except MySQLdb.OperationalError:\n",
    "        continue\n",
    "\n",
    "    # the connection is not autocommitted by default, so we must commit to save our changes\n",
    "    conn.commit()"
   ]
  },
  {
   "cell_type": "code",
   "execution_count": null,
   "metadata": {},
   "outputs": [],
   "source": [
    "# last 10 million"
   ]
  },
  {
   "cell_type": "code",
   "execution_count": null,
   "metadata": {},
   "outputs": [],
   "source": [
    "df_Obs_labevents_part5 = df_labevents_mimic_num_copy[40000000:59215010]"
   ]
  },
  {
   "cell_type": "code",
   "execution_count": null,
   "metadata": {},
   "outputs": [],
   "source": [
    "def split(x):\n",
    "    if '-' in x:\n",
    "        return x.split('-')[1]\n",
    "    else:\n",
    "        return x\n",
    "    \n",
    "df_Obs_labevents_part5.value_numeric = df_Obs_labevents_part5.value_numeric.apply(split)    "
   ]
  },
  {
   "cell_type": "code",
   "execution_count": null,
   "metadata": {},
   "outputs": [],
   "source": [
    "import re\n",
    "def remove_chars(x):\n",
    "    return re.sub(\"[^.0-9]+\", \"\", x)\n",
    "    \n",
    "df_Obs_labevents_part5.value_numeric = df_Obs_labevents_part5.value_numeric.apply(remove_chars)"
   ]
  },
  {
   "cell_type": "code",
   "execution_count": null,
   "metadata": {},
   "outputs": [],
   "source": [
    "df_Obs_labevents_part5['value_numeric'] = df_Obs_labevents_part5['value_numeric'].replace(r'^\\s*$', np.nan, regex=True)\n",
    "df_Obs_labevents_part5['value_numeric'] = df_Obs_labevents_part5['value_numeric'].fillna(0)"
   ]
  },
  {
   "cell_type": "code",
   "execution_count": null,
   "metadata": {},
   "outputs": [],
   "source": [
    "df_Obs_labevents_part5['value_numeric']=pd.to_numeric(df_Obs_labevents_part5.value_numeric, errors='coerce')"
   ]
  },
  {
   "cell_type": "code",
   "execution_count": null,
   "metadata": {},
   "outputs": [],
   "source": [
    "df_Obs_labevents_part5 = df_Obs_labevents_part5.replace({np.NAN: None})"
   ]
  },
  {
   "cell_type": "code",
   "execution_count": null,
   "metadata": {},
   "outputs": [],
   "source": [
    "# creating column list for insertion for person table\n",
    "cols = \"`,`\".join([str(i) for i in df_Obs_labevents_part5.columns.tolist()])\n",
    "\n",
    "# Insert DataFrame recrds one by one.\n",
    "for i,row in df_Obs_labevents_part5.iterrows():\n",
    "    sql1 = \"SET FOREIGN_KEY_CHECKS=0\"\n",
    "    sql = \"INSERT INTO `obs` (`\" +cols + \"`) VALUES (\" + \"%s,\"*(len(row)-1) + \"%s)\"\n",
    "    sql2 = \"SET FOREIGN_KEY_CHECKS=1\"\n",
    "    try:\n",
    "        openmrscursor.execute(sql1)\n",
    "        openmrscursor.execute(sql, tuple(row))\n",
    "        openmrscursor.execute(sql2)\n",
    "        \n",
    "    except MySQLdb.OperationalError:\n",
    "        continue\n",
    "\n",
    "    # the connection is not autocommitted by default, so we must commit to save our changes\n",
    "    conn.commit()"
   ]
  },
  {
   "cell_type": "code",
   "execution_count": null,
   "metadata": {},
   "outputs": [],
   "source": [
    "df_Obs_labevents_part6 = df_labevents_mimic_num[50000000:60467496]\n",
    "df_Obs_labevents_part6"
   ]
  },
  {
   "cell_type": "code",
   "execution_count": null,
   "metadata": {},
   "outputs": [],
   "source": [
    "# creating column list for insertion for person table\n",
    "cols = \"`,`\".join([str(i) for i in df_Obs_labevents_part1.columns.tolist()])\n",
    "\n",
    "# Insert DataFrame recrds one by one.\n",
    "for i,row in df_Obs_labevents_part1.iterrows():\n",
    "    sql1 = \"SET FOREIGN_KEY_CHECKS=0\"\n",
    "    sql = \"INSERT INTO `obs` (`\" +cols + \"`) VALUES (\" + \"%s,\"*(len(row)-1) + \"%s)\"\n",
    "    sql2 = \"SET FOREIGN_KEY_CHECKS=1\"\n",
    "    try:\n",
    "        openmrscursor.execute(sql1)\n",
    "        openmrscursor.execute(sql, tuple(row))\n",
    "        openmrscursor.execute(sql2)\n",
    "        \n",
    "    except MySQLdb.OperationalError:\n",
    "        continue\n",
    "\n",
    "    # the connection is not autocommitted by default, so we must commit to save our changes\n",
    "    conn.commit() "
   ]
  },
  {
   "cell_type": "code",
   "execution_count": null,
   "metadata": {},
   "outputs": [],
   "source": []
  }
 ],
 "metadata": {
  "kernelspec": {
   "display_name": "Python 3 (ipykernel)",
   "language": "python",
   "name": "python3"
  },
  "language_info": {
   "codemirror_mode": {
    "name": "ipython",
    "version": 3
   },
   "file_extension": ".py",
   "mimetype": "text/x-python",
   "name": "python",
   "nbconvert_exporter": "python",
   "pygments_lexer": "ipython3",
   "version": "3.9.7"
  }
 },
 "nbformat": 4,
 "nbformat_minor": 4
}
