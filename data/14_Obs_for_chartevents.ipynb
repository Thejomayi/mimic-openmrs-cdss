{
 "cells": [
  {
   "cell_type": "markdown",
   "metadata": {},
   "source": [
    "# Importing chartevents into Obs table"
   ]
  },
  {
   "cell_type": "code",
   "execution_count": null,
   "metadata": {},
   "outputs": [],
   "source": [
    "import pandas as pd\n",
    "import numpy as np\n",
    "\n",
    "import MySQLdb\n",
    "from pandas.io import sql\n",
    "\n",
    "conn = MySQLdb.connect(host=\"localhost\", user=\"root\", passwd=\"MYSQLROOTPASSWORD\", db=\"openmrs\") \n",
    "openmrscursor = conn.cursor() "
   ]
  },
  {
   "cell_type": "code",
   "execution_count": null,
   "metadata": {},
   "outputs": [],
   "source": [
    "mimicconn = MySQLdb.connect(host=\"localhost\", user=\"root\", passwd=\"MYSQLROOTPASSWORD\", db=\"mimic4\") \n",
    "mimiccursor = mimicconn.cursor()"
   ]
  },
  {
   "cell_type": "code",
   "execution_count": null,
   "metadata": {},
   "outputs": [],
   "source": [
    "df_chartitems = pd.read_sql(\"SELECT itemid, label FROM mimic4.d_items where linksto = 'chartevents' and param_type!='Checkbox' and (category='Routine Vital Signs' or category='General') and itemid IS NOT NULL and label IS NOT NULL\", con = mimicconn)\n",
    "df_chartitems"
   ]
  },
  {
   "cell_type": "code",
   "execution_count": null,
   "metadata": {},
   "outputs": [],
   "source": [
    "df_chartitems['label'] = df_chartitems['label'].str.lower()\n",
    "df_chartitems"
   ]
  },
  {
   "cell_type": "code",
   "execution_count": null,
   "metadata": {},
   "outputs": [],
   "source": [
    "df_chartitems = df_chartitems.drop_duplicates(subset = 'label')\n",
    "df_chartitems"
   ]
  },
  {
   "cell_type": "code",
   "execution_count": null,
   "metadata": {},
   "outputs": [],
   "source": [
    "chartietms_dict = dict(zip(df_chartitems.itemid, df_chartitems.label))\n",
    "len(chartietms_dict)"
   ]
  },
  {
   "cell_type": "markdown",
   "metadata": {},
   "source": [
    "# Dealing with chartevents with numeric value"
   ]
  },
  {
   "cell_type": "code",
   "execution_count": null,
   "metadata": {},
   "outputs": [],
   "source": [
    "df_chartevents_mimic = pd.read_sql(\"SELECT subject_id, hadm_id, itemid, storetime, value from mimic4.chartevents where itemid IN (SELECT distinct itemid FROM mimic4.d_items where linksto = 'chartevents' and param_type!='Checkbox' and (category='Routine Vital Signs' or category='General') and hadm_id IS NOT NULL AND value IS NOT NULL AND value NOT regexp '[[:alpha:]]')\", con = mimicconn)\n",
    "df_chartevents_mimic"
   ]
  },
  {
   "cell_type": "code",
   "execution_count": null,
   "metadata": {},
   "outputs": [],
   "source": [
    "df_chartevents_mimic['label'] = df_chartevents_mimic['itemid'].map(chartietms_dict)\n",
    "df_chartevents_mimic"
   ]
  },
  {
   "cell_type": "code",
   "execution_count": null,
   "metadata": {},
   "outputs": [],
   "source": [
    "df_chartevents_mimic.isnull().sum()"
   ]
  },
  {
   "cell_type": "code",
   "execution_count": null,
   "metadata": {},
   "outputs": [],
   "source": [
    "df_concept = pd.read_sql('select  * from `concept`', con = conn)\n",
    "df_concept"
   ]
  },
  {
   "cell_type": "code",
   "execution_count": null,
   "metadata": {},
   "outputs": [],
   "source": [
    "chartevents_concept = df_concept[107149 : 107213]\n",
    "chartevents_concept"
   ]
  },
  {
   "cell_type": "code",
   "execution_count": null,
   "metadata": {},
   "outputs": [],
   "source": [
    "chartevents_concept_dict = dict(zip(chartevents_concept.description, chartevents_concept.concept_id))\n",
    "len(chartevents_concept_dict)"
   ]
  },
  {
   "cell_type": "code",
   "execution_count": null,
   "metadata": {},
   "outputs": [],
   "source": [
    "df_chartevents_mimic['concept_id'] = df_chartevents_mimic['label'].map(chartevents_concept_dict)\n",
    "df_chartevents_mimic"
   ]
  },
  {
   "cell_type": "code",
   "execution_count": null,
   "metadata": {},
   "outputs": [],
   "source": [
    "df_chartevents_mimic['date_created']= '2022-01-01'\n",
    "df_chartevents_mimic['creator'] = 1\n",
    "\n",
    "import uuid\n",
    "df_chartevents_mimic['uuid'] = [uuid.uuid4() for x in range(len(df_chartevents_mimic))]"
   ]
  },
  {
   "cell_type": "code",
   "execution_count": null,
   "metadata": {},
   "outputs": [],
   "source": [
    "# df_chartevents_mimic"
   ]
  },
  {
   "cell_type": "code",
   "execution_count": null,
   "metadata": {},
   "outputs": [],
   "source": [
    "df_chartevents_mimic = df_chartevents_mimic.rename({\"subject_id\": \"person_id\", \"hadm_id\": \"encounter_id\", \"storetime\": \"obs_datetime\", \"value\":\"value_numeric\" }, axis='columns')\n",
    "\n",
    "df_chartevents_mimic = df_chartevents_mimic.drop(columns=['itemid', 'label'])"
   ]
  },
  {
   "cell_type": "code",
   "execution_count": null,
   "metadata": {},
   "outputs": [],
   "source": [
    "# df_chartevents_mimic"
   ]
  },
  {
   "cell_type": "code",
   "execution_count": null,
   "metadata": {},
   "outputs": [],
   "source": [
    "column_names = ['person_id', 'concept_id', 'encounter_id', 'obs_datetime', 'value_numeric', 'creator', 'date_created', 'uuid']\n",
    "df_chartevents_mimic = df_chartevents_mimic.reindex(columns=column_names)\n"
   ]
  },
  {
   "cell_type": "code",
   "execution_count": null,
   "metadata": {},
   "outputs": [],
   "source": [
    "df_chartevents_mimic['value_numeric']=pd.to_numeric(df_chartevents_mimic.value_numeric, errors='coerce')"
   ]
  },
  {
   "cell_type": "code",
   "execution_count": null,
   "metadata": {},
   "outputs": [],
   "source": [
    "df_chartevents_mimic.isnull().sum()"
   ]
  },
  {
   "cell_type": "markdown",
   "metadata": {},
   "source": [
    "# Importing chartevents with numeric value to obs"
   ]
  },
  {
   "cell_type": "code",
   "execution_count": null,
   "metadata": {},
   "outputs": [],
   "source": [
    "# creating column list for insertion for person table\n",
    "cols = \"`,`\".join([str(i) for i in df_chartevents_mimic.columns.tolist()])\n",
    "\n",
    "# Insert DataFrame recrds one by one.\n",
    "for i,row in df_chartevents_mimic.iterrows():\n",
    "    sql1 = \"SET FOREIGN_KEY_CHECKS=0\"\n",
    "    sql = \"INSERT INTO `obs` (`\" +cols + \"`) VALUES (\" + \"%s,\"*(len(row)-1) + \"%s)\"\n",
    "    sql2 = \"SET FOREIGN_KEY_CHECKS=1\"\n",
    "    try:\n",
    "        openmrscursor.execute(sql1)\n",
    "        openmrscursor.execute(sql, tuple(row))\n",
    "        openmrscursor.execute(sql2)\n",
    "        \n",
    "    except MySQLdb.OperationalError:\n",
    "        continue\n",
    "\n",
    "    # the connection is not autocommitted by default, so we must commit to save our changes\n",
    "    conn.commit() "
   ]
  },
  {
   "cell_type": "markdown",
   "metadata": {},
   "source": [
    "# Dealing with chartevents with value Text"
   ]
  },
  {
   "cell_type": "code",
   "execution_count": null,
   "metadata": {},
   "outputs": [],
   "source": [
    "df_chartevents_mimic_text = pd.read_sql(\"SELECT subject_id, hadm_id, itemid, storetime, value from mimic4.chartevents where itemid IN (SELECT distinct itemid FROM mimic4.d_items where linksto = 'chartevents' and param_type!='Checkbox' and (category='Routine Vital Signs' or category='General') and hadm_id IS NOT NULL AND value IS NOT NULL AND value regexp '[[:alpha:]]')\", con = mimicconn)\n",
    "df_chartevents_mimic_text"
   ]
  },
  {
   "cell_type": "code",
   "execution_count": null,
   "metadata": {},
   "outputs": [],
   "source": [
    "df_chartevents_mimic_text['label'] = df_chartevents_mimic_text['itemid'].map(chartietms_dict)\n",
    "df_chartevents_mimic_text"
   ]
  },
  {
   "cell_type": "code",
   "execution_count": null,
   "metadata": {},
   "outputs": [],
   "source": [
    "df_chartevents_mimic_text['concept_id'] = df_chartevents_mimic_text['label'].map(chartevents_concept_dict)\n",
    "df_chartevents_mimic_text"
   ]
  },
  {
   "cell_type": "code",
   "execution_count": null,
   "metadata": {},
   "outputs": [],
   "source": [
    "df_chartevents_mimic_text['date_created']= '2022-01-01'\n",
    "df_chartevents_mimic_text['creator'] = 1\n",
    "\n",
    "import uuid\n",
    "df_chartevents_mimic_text['uuid'] = [uuid.uuid4() for x in range(len(df_chartevents_mimic_text))]"
   ]
  },
  {
   "cell_type": "code",
   "execution_count": null,
   "metadata": {},
   "outputs": [],
   "source": [
    "df_chartevents_mimic_text = df_chartevents_mimic_text.rename({\"subject_id\": \"person_id\", \"hadm_id\": \"encounter_id\", \"storetime\": \"obs_datetime\", \"value\":\"value_text\" }, axis='columns')\n",
    "df_chartevents_mimic_text = df_chartevents_mimic_text.drop(columns=['itemid', 'label'])"
   ]
  },
  {
   "cell_type": "code",
   "execution_count": null,
   "metadata": {},
   "outputs": [],
   "source": [
    "df_chartevents_mimic_text"
   ]
  },
  {
   "cell_type": "code",
   "execution_count": null,
   "metadata": {},
   "outputs": [],
   "source": [
    "column_names = ['person_id', 'concept_id', 'encounter_id', 'obs_datetime', 'value_text', 'creator', 'date_created', 'uuid']\n",
    "df_chartevents_mimic_text = df_chartevents_mimic_text.reindex(columns=column_names)"
   ]
  },
  {
   "cell_type": "code",
   "execution_count": null,
   "metadata": {},
   "outputs": [],
   "source": [
    "df_chartevents_mimic_text"
   ]
  },
  {
   "cell_type": "markdown",
   "metadata": {},
   "source": [
    "# Importing chartevents with value text to obs table"
   ]
  },
  {
   "cell_type": "code",
   "execution_count": null,
   "metadata": {},
   "outputs": [],
   "source": [
    "# creating column list for insertion for person table\n",
    "cols = \"`,`\".join([str(i) for i in df_chartevents_mimic_text.columns.tolist()])\n",
    "\n",
    "# Insert DataFrame recrds one by one.\n",
    "for i,row in df_chartevents_mimic_text.iterrows():\n",
    "    sql1 = \"SET FOREIGN_KEY_CHECKS=0\"\n",
    "    sql = \"INSERT INTO `obs` (`\" +cols + \"`) VALUES (\" + \"%s,\"*(len(row)-1) + \"%s)\"\n",
    "    sql2 = \"SET FOREIGN_KEY_CHECKS=1\"\n",
    "    try:\n",
    "        openmrscursor.execute(sql1)\n",
    "        openmrscursor.execute(sql, tuple(row))\n",
    "        openmrscursor.execute(sql2)\n",
    "        \n",
    "    except MySQLdb.OperationalError:\n",
    "        continue\n",
    "\n",
    "    # the connection is not autocommitted by default, so we must commit to save our changes\n",
    "    conn.commit() "
   ]
  }
 ],
 "metadata": {
  "kernelspec": {
   "display_name": "Python 3 (ipykernel)",
   "language": "python",
   "name": "python3"
  },
  "language_info": {
   "codemirror_mode": {
    "name": "ipython",
    "version": 3
   },
   "file_extension": ".py",
   "mimetype": "text/x-python",
   "name": "python",
   "nbconvert_exporter": "python",
   "pygments_lexer": "ipython3",
   "version": "3.9.7"
  }
 },
 "nbformat": 4,
 "nbformat_minor": 4
}
