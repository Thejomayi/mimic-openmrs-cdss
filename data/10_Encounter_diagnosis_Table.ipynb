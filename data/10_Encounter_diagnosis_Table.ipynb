{
 "cells": [
  {
   "cell_type": "code",
   "execution_count": null,
   "metadata": {},
   "outputs": [],
   "source": [
    "import MySQLdb\n",
    "from pandas.io import sql\n",
    "import pandas as pd\n",
    "import numpy as np\n",
    "conn = MySQLdb.connect(host=\"localhost\", user=\"root\", passwd=\"MYSQLROOTPASSWORD\", db=\"openmrs\") \n",
    "openmrscursor = conn.cursor()"
   ]
  },
  {
   "cell_type": "code",
   "execution_count": null,
   "metadata": {},
   "outputs": [],
   "source": [
    "df_encounter_diagnosis = pd.read_sql('select * from `encounter_diagnosis`', con = conn)\n",
    "df_encounter_diagnosis"
   ]
  },
  {
   "cell_type": "code",
   "execution_count": null,
   "metadata": {},
   "outputs": [],
   "source": [
    "mimicconn = MySQLdb.connect(host=\"localhost\", user=\"root\", passwd=\"MYSQLROOTPASSWORD\", db=\"mimic4\") \n",
    "mimiccursor = mimicconn.cursor()"
   ]
  },
  {
   "cell_type": "code",
   "execution_count": null,
   "metadata": {},
   "outputs": [],
   "source": [
    "# Diagnosis Observations"
   ]
  },
  {
   "cell_type": "code",
   "execution_count": null,
   "metadata": {},
   "outputs": [],
   "source": [
    "obs_dx_mimic = pd.read_sql('SELECT * FROM diagnoses_icd', con = mimicconn) \n",
    "obs_dx_mimic"
   ]
  },
  {
   "cell_type": "code",
   "execution_count": null,
   "metadata": {},
   "outputs": [],
   "source": [
    "diagnoses_mimic_ = obs_dx_mimic[obs_dx_mimic['seq_num'] == 1]\n",
    "diagnoses_mimic_"
   ]
  },
  {
   "cell_type": "code",
   "execution_count": null,
   "metadata": {},
   "outputs": [],
   "source": [
    "d_icd = pd.read_sql('select * from d_icd_diagnoses', con = mimicconn)\n",
    "d_icd"
   ]
  },
  {
   "cell_type": "code",
   "execution_count": null,
   "metadata": {},
   "outputs": [],
   "source": [
    "dict_ = dict(zip(d_icd.icd_code, d_icd.long_title))\n",
    "dict_"
   ]
  },
  {
   "cell_type": "code",
   "execution_count": null,
   "metadata": {},
   "outputs": [],
   "source": [
    "diagnoses_mimic_['long_title'] = diagnoses_mimic_['icd_code'].map(dict_)\n",
    "diagnoses_mimic_"
   ]
  },
  {
   "cell_type": "code",
   "execution_count": null,
   "metadata": {},
   "outputs": [],
   "source": [
    "diagnosis_concept = pd.read_sql('select * from `concept` where class_id = 4', con = conn) \n",
    "diagnosis_concept"
   ]
  },
  {
   "cell_type": "code",
   "execution_count": null,
   "metadata": {},
   "outputs": [],
   "source": [
    "dict_diag = dict(zip(diagnosis_concept.description, diagnosis_concept.concept_id))\n",
    "dict_diag"
   ]
  },
  {
   "cell_type": "code",
   "execution_count": null,
   "metadata": {},
   "outputs": [],
   "source": [
    "diagnoses_mimic_['concept_id'] = diagnoses_mimic_['long_title'].map(dict_diag)\n",
    "diagnoses_mimic_"
   ]
  },
  {
   "cell_type": "code",
   "execution_count": null,
   "metadata": {},
   "outputs": [],
   "source": [
    "diagnoses_mimic_.isnull().sum()"
   ]
  },
  {
   "cell_type": "code",
   "execution_count": null,
   "metadata": {},
   "outputs": [],
   "source": [
    "diagnoses_mimic_ = diagnoses_mimic_.rename({\"subject_id\": \"patient_id\", \"hadm_id\": \"encounter_id\", \"icd_code\":\"diagnosis_coded_name\", \"concept_id\":\"diagnosis_coded\"}, axis='columns')\n",
    "diagnoses_mimic_ = diagnoses_mimic_.drop(columns=['seq_num', 'icd_version', 'long_title'])\n",
    "diagnoses_mimic_['date_created']= '2022-01-01'\n",
    "import uuid\n",
    "diagnoses_mimic_['uuid'] = [uuid.uuid4() for x in range(len(diagnoses_mimic_))]\n",
    "diagnoses_mimic_['creator'] = 1\n"
   ]
  },
  {
   "cell_type": "code",
   "execution_count": null,
   "metadata": {},
   "outputs": [],
   "source": [
    "diagnoses_mimic_.isnull().sum()"
   ]
  },
  {
   "cell_type": "code",
   "execution_count": null,
   "metadata": {},
   "outputs": [],
   "source": [
    "column_names = ['diagnosis_coded','diagnosis_coded_name', 'encounter_id', 'patient_id', 'uuid', 'creator', 'date_created']\n",
    "\n",
    "diagnoses_mimic_ = diagnoses_mimic_.reindex(columns=column_names)\n",
    "diagnoses_mimic_['certainty'] = 'CONFIRMED'\n",
    "diagnoses_mimic_['diagnosis_coded']= diagnoses_mimic_['diagnosis_coded'].astype(int, errors='ignore')\n",
    "diagnoses_mimic_= diagnoses_mimic_.replace({np.NAN: None})\n",
    "diagnoses_mimic_\n"
   ]
  },
  {
   "cell_type": "code",
   "execution_count": null,
   "metadata": {},
   "outputs": [],
   "source": [
    "# Procedures observations"
   ]
  },
  {
   "cell_type": "code",
   "execution_count": null,
   "metadata": {},
   "outputs": [],
   "source": [
    "obs_proc_mimic = pd.read_sql('select * from procedures_icd', con = mimicconn) \n",
    "obs_proc_mimic"
   ]
  },
  {
   "cell_type": "code",
   "execution_count": null,
   "metadata": {},
   "outputs": [],
   "source": [
    "Procedures_mimic_ = obs_proc_mimic[obs_proc_mimic['seq_num'] == 1]\n",
    "Procedures_mimic_"
   ]
  },
  {
   "cell_type": "code",
   "execution_count": null,
   "metadata": {},
   "outputs": [],
   "source": [
    "d_proc = pd.read_sql('select * from d_icd_procedures', con = mimicconn)\n",
    "d_proc"
   ]
  },
  {
   "cell_type": "code",
   "execution_count": null,
   "metadata": {},
   "outputs": [],
   "source": [
    "dictPro_ = dict(zip(d_proc.icd_code, d_proc.long_title))\n",
    "dictPro_"
   ]
  },
  {
   "cell_type": "code",
   "execution_count": null,
   "metadata": {},
   "outputs": [],
   "source": [
    "Procedures_mimic_['long_title'] = Procedures_mimic_['icd_code'].map(dictPro_)\n",
    "Procedures_mimic_"
   ]
  },
  {
   "cell_type": "code",
   "execution_count": null,
   "metadata": {},
   "outputs": [],
   "source": [
    "procedure_concept = pd.read_sql('select * from `concept` where class_id = 2', con = conn) \n",
    "procedure_concept"
   ]
  },
  {
   "cell_type": "code",
   "execution_count": null,
   "metadata": {},
   "outputs": [],
   "source": [
    "dictproc_ = dict(zip(procedure_concept.description, procedure_concept.concept_id))\n",
    "dictproc_"
   ]
  },
  {
   "cell_type": "code",
   "execution_count": null,
   "metadata": {},
   "outputs": [],
   "source": [
    "Procedures_mimic_['concept_id'] = Procedures_mimic_['long_title'].map(dictproc_)\n",
    "Procedures_mimic_"
   ]
  },
  {
   "cell_type": "code",
   "execution_count": null,
   "metadata": {},
   "outputs": [],
   "source": [
    "Procedures_mimic_ = Procedures_mimic_.rename({\"subject_id\": \"patient_id\", \"hadm_id\": \"encounter_id\", \"icd_code\":\"diagnosis_coded_name\", \"concept_id\":\"diagnosis_coded\"}, axis='columns')\n",
    "Procedures_mimic_ = Procedures_mimic_.drop(columns=['seq_num', 'chartdate', 'icd_version', 'long_title'])\n",
    "Procedures_mimic_['date_created']= '2022-01-01'\n",
    "import uuid\n",
    "Procedures_mimic_['uuid'] = [uuid.uuid4() for x in range(len(Procedures_mimic_))]\n",
    "Procedures_mimic_['creator'] = 1\n",
    "Procedures_mimic_"
   ]
  },
  {
   "cell_type": "code",
   "execution_count": null,
   "metadata": {},
   "outputs": [],
   "source": [
    "column_names = ['diagnosis_coded','diagnosis_coded_name', 'encounter_id', 'patient_id', 'uuid', 'creator', 'date_created']\n",
    "\n",
    "Procedures_mimic_ = Procedures_mimic_.reindex(columns=column_names)\n",
    "Procedures_mimic_['certainty'] = 'CONFIRMED'\n",
    "Procedures_mimic_"
   ]
  },
  {
   "cell_type": "code",
   "execution_count": null,
   "metadata": {},
   "outputs": [],
   "source": [
    "encounter_diagnosis = diagnoses_mimic_.append(Procedures_mimic_)\n"
   ]
  },
  {
   "cell_type": "code",
   "execution_count": null,
   "metadata": {},
   "outputs": [],
   "source": [
    "encounter_diagnosis=encounter_diagnosis.drop(columns=['diagnosis_coded_name'])\n",
    "encounter_diagnosis"
   ]
  },
  {
   "cell_type": "code",
   "execution_count": null,
   "metadata": {},
   "outputs": [],
   "source": [
    "# creating column list for insertion into concept table\n",
    "cols = \"`,`\".join([str(i) for i in encounter_diagnosis.columns.tolist()])\n",
    "\n",
    "# Insert DataFrame recrds one by one.\n",
    "for i,row in encounter_diagnosis.iterrows():\n",
    "    sql1 = \"SET FOREIGN_KEY_CHECKS=0\"\n",
    "    sql = \"INSERT INTO `encounter_diagnosis` (`\" +cols + \"`) VALUES (\" + \"%s,\"*(len(row)-1) + \"%s)\"\n",
    "    sql2 = \"SET FOREIGN_KEY_CHECKS=1\"\n",
    "    try:\n",
    "        openmrscursor.execute(sql1)\n",
    "        openmrscursor.execute(sql, tuple(row))\n",
    "        openmrscursor.execute(sql2)\n",
    "        \n",
    "    except MySQLdb.OperationalError:\n",
    "        continue\n",
    "\n",
    "    # the connection is not autocommitted by default, so we must commit to save our changes\n",
    "    conn.commit()"
   ]
  },
  {
   "cell_type": "code",
   "execution_count": null,
   "metadata": {},
   "outputs": [],
   "source": [
    "# openmrscursor.execute('Delete from encounter_diagnosis')\n",
    "# conn.commit() "
   ]
  },
  {
   "cell_type": "code",
   "execution_count": null,
   "metadata": {},
   "outputs": [],
   "source": []
  }
 ],
 "metadata": {
  "kernelspec": {
   "display_name": "Python 3 (ipykernel)",
   "language": "python",
   "name": "python3"
  },
  "language_info": {
   "codemirror_mode": {
    "name": "ipython",
    "version": 3
   },
   "file_extension": ".py",
   "mimetype": "text/x-python",
   "name": "python",
   "nbconvert_exporter": "python",
   "pygments_lexer": "ipython3",
   "version": "3.9.7"
  }
 },
 "nbformat": 4,
 "nbformat_minor": 4
}
