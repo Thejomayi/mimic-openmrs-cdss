{
 "cells": [
  {
   "cell_type": "code",
   "execution_count": null,
   "metadata": {},
   "outputs": [],
   "source": [
    "import MySQLdb\n",
    "from pandas.io import sql\n",
    "\n",
    "conn = MySQLdb.connect(host=\"localhost\", user=\"root\", passwd=\"MYSQLROOTPASSWORD\", db=\"openmrs\") \n",
    "openmrscursor = conn.cursor() "
   ]
  },
  {
   "cell_type": "code",
   "execution_count": null,
   "metadata": {},
   "outputs": [],
   "source": [
    "import pandas as pd\n",
    "import numpy as np\n",
    "\n",
    "df_obs = pd.read_sql('select concept_id, location_id from `obs`', con = conn)\n",
    "df_obs"
   ]
  },
  {
   "cell_type": "code",
   "execution_count": null,
   "metadata": {},
   "outputs": [],
   "source": [
    "mimicconn = MySQLdb.connect(host=\"localhost\", user=\"root\", passwd=\"MYSQLROOTPASSWORD\", db=\"mimic4\") \n",
    "mimiccursor = mimicconn.cursor()"
   ]
  },
  {
   "cell_type": "code",
   "execution_count": null,
   "metadata": {},
   "outputs": [],
   "source": [
    "df_labevents_mimic_coded = pd.read_sql(\"SELECT subject_id, value, hadm_id, itemid, storetime from mimic4.labevents where hadm_id IS NOT NULL AND value IS NOT NULL AND value regexp '[[:alpha:]]'\", con = mimicconn)\n",
    "df_labevents_mimic_coded"
   ]
  },
  {
   "cell_type": "code",
   "execution_count": null,
   "metadata": {},
   "outputs": [],
   "source": [
    "df_labitems_mimic_ = pd.read_sql(\"SELECT itemid, label from mimic4.d_labitems where itemid IS NOT NULL AND label IS NOT NULL\", con = mimicconn)"
   ]
  },
  {
   "cell_type": "code",
   "execution_count": null,
   "metadata": {},
   "outputs": [],
   "source": [
    "df_labitems_mimic_"
   ]
  },
  {
   "cell_type": "code",
   "execution_count": null,
   "metadata": {},
   "outputs": [],
   "source": [
    "df_labitems_mimic_['label'] = df_labitems_mimic_['label'].str.lower()"
   ]
  },
  {
   "cell_type": "code",
   "execution_count": null,
   "metadata": {},
   "outputs": [],
   "source": [
    "dict_ = dict(zip(df_labitems_mimic_.itemid, df_labitems_mimic_.label))\n",
    "dict_"
   ]
  },
  {
   "cell_type": "code",
   "execution_count": null,
   "metadata": {},
   "outputs": [],
   "source": [
    "df_labevents_mimic_coded['label'] = df_labevents_mimic_coded['itemid'].map(dict_)\n",
    "df_labevents_mimic_coded"
   ]
  },
  {
   "cell_type": "code",
   "execution_count": null,
   "metadata": {},
   "outputs": [],
   "source": [
    "df_labevents_mimic_coded.dtypes"
   ]
  },
  {
   "cell_type": "code",
   "execution_count": null,
   "metadata": {},
   "outputs": [],
   "source": [
    "df_labevents_mimic_coded.isnull().sum()"
   ]
  },
  {
   "cell_type": "code",
   "execution_count": null,
   "metadata": {},
   "outputs": [],
   "source": [
    "_df_ = pd.read_csv('non-numeric-labevents_.csv')\n",
    "\n",
    "_df_= _df_[['value', 'value1']]\n",
    "_df_.dropna(inplace = True)\n",
    "_df_"
   ]
  },
  {
   "cell_type": "code",
   "execution_count": null,
   "metadata": {},
   "outputs": [],
   "source": [
    "_df_ = _df_.rename(columns={'value1':'value_text'})   \n",
    "_df_"
   ]
  },
  {
   "cell_type": "code",
   "execution_count": null,
   "metadata": {},
   "outputs": [],
   "source": [
    "_df_['value'] = _df_['value'].str.lower()\n",
    "_df_['value_text'] = _df_['value_text'].str.lower()\n",
    "\n",
    "_df_"
   ]
  },
  {
   "cell_type": "code",
   "execution_count": null,
   "metadata": {},
   "outputs": [],
   "source": [
    "df_labevents_mimic_coded['value'] = df_labevents_mimic_coded['value'].str.lower()\n",
    "df_labevents_mimic_coded"
   ]
  },
  {
   "cell_type": "code",
   "execution_count": null,
   "metadata": {},
   "outputs": [],
   "source": [
    "dict_values = dict(zip(_df_.value, _df_.value_text))\n",
    "dict_values"
   ]
  },
  {
   "cell_type": "code",
   "execution_count": null,
   "metadata": {},
   "outputs": [],
   "source": [
    "df_labevents_mimic_coded['value'] = df_labevents_mimic_coded['value'].map(dict_values)\n",
    "df_labevents_mimic_coded"
   ]
  },
  {
   "cell_type": "code",
   "execution_count": null,
   "metadata": {},
   "outputs": [],
   "source": [
    "concept_lab_coded = pd.read_sql('select * from concept where class_id = 1', con=conn)\n",
    "concept_lab_coded"
   ]
  },
  {
   "cell_type": "code",
   "execution_count": null,
   "metadata": {},
   "outputs": [],
   "source": [
    "dict_concept_coded = dict(zip(concept_lab_coded.description, concept_lab_coded.concept_id))\n",
    "len(dict_concept_coded)"
   ]
  },
  {
   "cell_type": "code",
   "execution_count": null,
   "metadata": {},
   "outputs": [],
   "source": [
    "df_labevents_mimic_coded['concept_id'] = df_labevents_mimic_coded['label'].map(dict_concept_coded)\n",
    "df_labevents_mimic_coded"
   ]
  },
  {
   "cell_type": "code",
   "execution_count": null,
   "metadata": {},
   "outputs": [],
   "source": [
    "df_labevents_mimic_coded = df_labevents_mimic_coded.rename({\"subject_id\": \"person_id\", \"hadm_id\": \"encounter_id\", \"storetime\": \"obs_datetime\", \"value\":\"value_text\" }, axis='columns')\n",
    "\n",
    "df_labevents_mimic_coded = df_labevents_mimic_coded.drop(columns=['itemid', 'label'])\n",
    "df_labevents_mimic_coded['date_created']= '2022-01-01'\n",
    "import uuid\n",
    "df_labevents_mimic_coded['uuid'] = [uuid.uuid4() for x in range(len(df_labevents_mimic_coded))]\n",
    "df_labevents_mimic_coded['creator'] = 1\n",
    "df_labevents_mimic_coded"
   ]
  },
  {
   "cell_type": "code",
   "execution_count": null,
   "metadata": {},
   "outputs": [],
   "source": [
    "df_labevents_mimic_coded.isnull().sum()"
   ]
  },
  {
   "cell_type": "code",
   "execution_count": null,
   "metadata": {},
   "outputs": [],
   "source": [
    "conceptid_answer = pd.read_sql('select * from concept where class_id = 11 and datatype_id=4', con=conn)\n",
    "conceptid_answer['description'] = conceptid_answer['description'].str.lower()"
   ]
  },
  {
   "cell_type": "code",
   "execution_count": null,
   "metadata": {},
   "outputs": [],
   "source": [
    "df_labevents_mimic_coded_copy = df_labevents_mimic_coded.copy()\n"
   ]
  },
  {
   "cell_type": "code",
   "execution_count": null,
   "metadata": {},
   "outputs": [],
   "source": [
    "dict_answer_conceptid = dict(zip(conceptid_answer.description, conceptid_answer.concept_id))\n",
    "len(dict_answer_conceptid)"
   ]
  },
  {
   "cell_type": "code",
   "execution_count": null,
   "metadata": {},
   "outputs": [],
   "source": [
    "df_labevents_mimic_coded['value_coded'] = df_labevents_mimic_coded['value_text'].map(dict_answer_conceptid)\n",
    "df_labevents_mimic_coded"
   ]
  },
  {
   "cell_type": "code",
   "execution_count": null,
   "metadata": {},
   "outputs": [],
   "source": [
    "df_labevents_mimic_coded.value_text = df_labevents_mimic_coded.value_text.str.replace('[^a-zA-Z]', '')"
   ]
  },
  {
   "cell_type": "code",
   "execution_count": null,
   "metadata": {},
   "outputs": [],
   "source": [
    "df_labevents_mimic_coded = df_labevents_mimic_coded[~df_labevents_mimic_coded['value_text'].str.isdigit()]"
   ]
  },
  {
   "cell_type": "code",
   "execution_count": null,
   "metadata": {},
   "outputs": [],
   "source": [
    "df_labevents_mimic_coded['value_text'] = df_labevents_mimic_coded.value_text.replace('',np.nan,regex = True)"
   ]
  },
  {
   "cell_type": "code",
   "execution_count": null,
   "metadata": {},
   "outputs": [],
   "source": [
    "df_labevents_mimic_coded=df_labevents_mimic_coded.dropna(subset=['value_text'])"
   ]
  },
  {
   "cell_type": "code",
   "execution_count": null,
   "metadata": {},
   "outputs": [],
   "source": [
    "df_labevents_mimic_coded['value_coded'] = df_labevents_mimic_coded['value_coded'].astype(int)"
   ]
  },
  {
   "cell_type": "code",
   "execution_count": null,
   "metadata": {},
   "outputs": [],
   "source": [
    "df_labevents_mimic_coded = df_labevents_mimic_coded.drop(columns= ['value_text'])"
   ]
  },
  {
   "cell_type": "code",
   "execution_count": null,
   "metadata": {},
   "outputs": [],
   "source": [
    "df_labevents_mimic_coded"
   ]
  },
  {
   "cell_type": "code",
   "execution_count": null,
   "metadata": {},
   "outputs": [],
   "source": [
    "df_labevents_mimic_coded = df_labevents_mimic_coded.replace({np.NAN: None})"
   ]
  },
  {
   "cell_type": "code",
   "execution_count": null,
   "metadata": {},
   "outputs": [],
   "source": [
    "column_names = ['person_id', 'concept_id', 'encounter_id', 'obs_datetime', 'value_coded', 'creator', 'date_created', 'uuid']\n",
    "df_labevents_mimic_coded = df_labevents_mimic_coded.reindex(columns=column_names)"
   ]
  },
  {
   "cell_type": "code",
   "execution_count": null,
   "metadata": {},
   "outputs": [],
   "source": [
    "# creating column list for insertion for person table\n",
    "cols = \"`,`\".join([str(i) for i in df_labevents_mimic_coded.columns.tolist()])\n",
    "\n",
    "# Insert DataFrame recrds one by one.\n",
    "for i,row in df_labevents_mimic_coded.iterrows():\n",
    "    sql1 = \"SET FOREIGN_KEY_CHECKS=0\"\n",
    "    sql = \"INSERT INTO `obs` (`\" +cols + \"`) VALUES (\" + \"%s,\"*(len(row)-1) + \"%s)\"\n",
    "    sql2 = \"SET FOREIGN_KEY_CHECKS=1\"\n",
    "    try:\n",
    "        openmrscursor.execute(sql1)\n",
    "        openmrscursor.execute(sql, tuple(row))\n",
    "        openmrscursor.execute(sql2)\n",
    "        \n",
    "    except MySQLdb.OperationalError:\n",
    "        continue\n",
    "\n",
    "    # the connection is not autocommitted by default, so we must commit to save our changes\n",
    "    conn.commit() "
   ]
  },
  {
   "cell_type": "code",
   "execution_count": null,
   "metadata": {},
   "outputs": [],
   "source": []
  }
 ],
 "metadata": {
  "kernelspec": {
   "display_name": "Python 3 (ipykernel)",
   "language": "python",
   "name": "python3"
  },
  "language_info": {
   "codemirror_mode": {
    "name": "ipython",
    "version": 3
   },
   "file_extension": ".py",
   "mimetype": "text/x-python",
   "name": "python",
   "nbconvert_exporter": "python",
   "pygments_lexer": "ipython3",
   "version": "3.9.7"
  }
 },
 "nbformat": 4,
 "nbformat_minor": 4
}
