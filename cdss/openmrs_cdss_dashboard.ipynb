{
 "cells": [
  {
   "cell_type": "code",
   "execution_count": 1161,
   "id": "f9dc1d4e",
   "metadata": {
    "extensions": {
     "jupyter_dashboards": {
      "version": 1,
      "views": {
       "grid_default": {},
       "report_default": {
        "hidden": false
       }
      }
     }
    }
   },
   "outputs": [
    {
     "data": {
      "application/javascript": [
       "IPython.OutputArea.auto_scroll_threshold = 9999;\n"
      ],
      "text/plain": [
       "<IPython.core.display.Javascript object>"
      ]
     },
     "metadata": {},
     "output_type": "display_data"
    }
   ],
   "source": [
    "%%javascript\n",
    "IPython.OutputArea.auto_scroll_threshold = 9999;"
   ]
  },
  {
   "cell_type": "markdown",
   "id": "079b6b10",
   "metadata": {
    "extensions": {
     "jupyter_dashboards": {
      "version": 1,
      "views": {
       "grid_default": {},
       "report_default": {
        "hidden": false
       }
      }
     }
    }
   },
   "source": [
    "<div class=\"alert\" style=\"background:#195734;color:#FFFFFF\">\n",
    "  <center><h1> <strong> Welcome to Clinical Decision Support System Powered by OpenMRS </strong> </h1> </center>\n",
    "</div>"
   ]
  },
  {
   "cell_type": "code",
   "execution_count": 1162,
   "id": "673832b4",
   "metadata": {
    "extensions": {
     "jupyter_dashboards": {
      "version": 1,
      "views": {
       "grid_default": {},
       "report_default": {
        "hidden": false
       }
      }
     }
    }
   },
   "outputs": [],
   "source": [
    "# from IPython.display import IFrame\n",
    "# IFrame(\"http://149.165.238.106:8081/notebooks/openmrs_cdss_dashboard.ipynb\", 900,500)"
   ]
  },
  {
   "cell_type": "code",
   "execution_count": 1163,
   "id": "cd1a5444",
   "metadata": {
    "extensions": {
     "jupyter_dashboards": {
      "version": 1,
      "views": {
       "grid_default": {},
       "report_default": {
        "hidden": false
       }
      }
     }
    }
   },
   "outputs": [],
   "source": [
    "# %javascript\n",
    "# // // Send this back as a python variable (this just executes python statements)\n",
    "# // IPython.notebook.kernel.execute('patientId=\"' + new URL(window.location.href).searchParams.get(\"patientId\") + '\";');"
   ]
  },
  {
   "cell_type": "code",
   "execution_count": 1164,
   "id": "d066e92a",
   "metadata": {
    "extensions": {
     "jupyter_dashboards": {
      "version": 1,
      "views": {
       "grid_default": {},
       "report_default": {
        "hidden": true
       }
      }
     }
    }
   },
   "outputs": [],
   "source": [
    "# import sys\n",
    "# !{sys.executable} -m pip install --user seaborn\n",
    "# !{sys.executable} -m pip install --user ipywidgets\n",
    "# !{sys.executable} -m pip install --user pandas\n",
    "# !{sys.executable} -m pip install --user matplotlib\n",
    "# !{sys.executable} -m pip install --user scipy\n",
    "# !{sys.executable} -m pip install --user sklearn\n",
    "# !{sys.executable} -m pip install --user fastkml\n",
    "# !{sys.executable} -m pip install --user folium\n",
    "# !{sys.executable} -m pip install --user tabulate\n",
    "\n",
    "from IPython.display import display, clear_output\n",
    "from IPython.display import Markdown\n",
    "\n",
    "import IPython.display\n",
    "import pandas as pd\n",
    "import numpy as np\n",
    "import fastai\n",
    "from fastai.tabular.all import *\n",
    "\n",
    "import ipywidgets as widgets\n",
    "from ipywidgets import Button, Layout\n",
    "from __future__ import print_function\n",
    "from ipywidgets import interact, interactive, fixed, interact_manual\n",
    "from ipywidgets import Box\n",
    "\n",
    "\n",
    "import warnings\n",
    "warnings.filterwarnings('ignore', category = FutureWarning)\n",
    "\n",
    "\n",
    "from os import listdir\n",
    "from os.path import isfile, join\n",
    "\n",
    "import matplotlib.pyplot as plt\n",
    "from pandas.plotting import table\n",
    "\n",
    "from scipy import stats\n",
    "from pingouin import ttest\n",
    "import seaborn as sns\n",
    "import zipfile\n",
    "from fastkml.kml import KML\n",
    "import folium\n",
    "import datetime\n",
    "from datetime import date\n",
    "import sklearn as sklearn\n",
    "import scikitplot as skplt\n",
    "\n",
    "from sklearn.model_selection import train_test_split\n",
    "# from imblearn.over_sampling import SMOTE\n",
    "from sklearn.preprocessing import RobustScaler,MinMaxScaler,StandardScaler\n",
    "\n",
    "\n",
    "\n",
    "from sklearn.ensemble import RandomForestClassifier\n",
    "import lightgbm as lgb \n",
    "from sklearn.feature_selection import chi2\n",
    "from sklearn.metrics import accuracy_score\n",
    "from sklearn.metrics import confusion_matrix\n",
    "from sklearn.metrics import precision_score, recall_score\n",
    "from sklearn.metrics import f1_score\n",
    "from sklearn.metrics import classification_report\n",
    "from sklearn.model_selection import cross_val_score\n",
    "from sklearn.model_selection import GridSearchCV\n",
    "from sklearn.metrics import roc_curve, auc\n",
    "from sklearn.metrics import roc_auc_score\n",
    "\n",
    "from collections import Counter\n",
    "from imblearn.over_sampling import SMOTE\n",
    "from imblearn.under_sampling import RandomUnderSampler\n",
    "from imblearn.pipeline import Pipeline\n",
    "\n",
    "import MySQLdb\n",
    "from pandas.io import sql \n",
    "\n",
    "from simple_colors import *"
   ]
  },
  {
   "cell_type": "code",
   "execution_count": 1165,
   "id": "71b667e1",
   "metadata": {
    "extensions": {
     "jupyter_dashboards": {
      "version": 1,
      "views": {
       "grid_default": {},
       "report_default": {
        "hidden": true
       }
      }
     }
    }
   },
   "outputs": [],
   "source": [
    "# Setting up the database connection\n",
    "\n",
    "conn = MySQLdb.connect(host=\"localhost\", user=\"root\", passwd=\"Regina\", db=\"openmrs\") \n",
    "openmrscursor = conn.cursor()  "
   ]
  },
  {
   "cell_type": "code",
   "execution_count": 1166,
   "id": "7a7db7fb",
   "metadata": {
    "extensions": {
     "jupyter_dashboards": {
      "version": 1,
      "views": {
       "grid_default": {},
       "report_default": {
        "hidden": true
       }
      }
     }
    }
   },
   "outputs": [],
   "source": [
    "# selecting the diagnosis"
   ]
  },
  {
   "cell_type": "code",
   "execution_count": 1167,
   "id": "78d3436b",
   "metadata": {
    "extensions": {
     "jupyter_dashboards": {
      "version": 1,
      "views": {
       "grid_default": {},
       "report_default": {
        "hidden": true
       }
      }
     }
    }
   },
   "outputs": [],
   "source": [
    "## Patient Attributes\n",
    "## 12576264, 10152346\n",
    "## Patient Attributes\n",
    "patient_id = 10152346\n",
    "values_mapx = {}\n",
    "values_mapx['patient_id'] = patient_id \n"
   ]
  },
  {
   "cell_type": "code",
   "execution_count": 1168,
   "id": "ee173771",
   "metadata": {
    "extensions": {
     "jupyter_dashboards": {
      "version": 1,
      "views": {
       "grid_default": {},
       "report_default": {
        "hidden": true
       }
      }
     }
    }
   },
   "outputs": [],
   "source": [
    "# creating cohort\n",
    "def on_1button_clicked(selected_diag):\n",
    "    print(selected_diag)\n",
    "    diag_con = selected_diag\n",
    "    diag_con = list(filter(None,diag_con))\n",
    "    values_mapx['diag_con'] = diag_con\n",
    "    patient_cohort   = (\"\"\" select p.person_id from person p, mimic_openmrs_cdss cdss where p.person_id\n",
    "                            IN (select patient_id from encounter_diagnosis where diagnosis_coded \n",
    "                            IN (select concept_id from concept where description \n",
    "                            IN {diag_con}))\n",
    "                            AND cdss.person_id=p.person_id \n",
    "                            AND p.gender= (select p.gender from person where person_id = {patient_id}) \n",
    "                            AND age_group_code=(select age_group_code from mimic_openmrs_cdss where person_id = {patient_id})\"\"\")\n",
    "    patient_cohort = patient_cohort.format(**values_mapx).replace('[', '(').replace(']',')')\n",
    "    patient_cohort = pd.read_sql(patient_cohort, con=conn)\n",
    "    print(str(patient_cohort.shape[0]) + \" Similar Patients For This Diagnosis\")\n",
    "    #display(\"Found \" + str(patient_cohort.shape[0]) + \" similar patients\")\n",
    "    #dropdown_diagconcept_eventhandler(on_1button_clicked)"
   ]
  },
  {
   "cell_type": "markdown",
   "id": "957c6225",
   "metadata": {
    "extensions": {
     "jupyter_dashboards": {
      "version": 1,
      "views": {
       "grid_default": {},
       "report_default": {
        "hidden": false
       }
      }
     }
    }
   },
   "source": [
    "\n",
    " <div class=\"card\" style=\"box-shadow: 0 4px 8px 0 rgba(0, 0, 0, 0.2);max-width: 100%; margin: auto;padding:10px; font-family: arial; background:#D9D9D9\">\n",
    "    <p>Please choose <b style=\"color:#195734\">ONE DIAGNOSIS</b> to run the analysis:</p>\n",
    " </div>"
   ]
  },
  {
   "cell_type": "code",
   "execution_count": 1169,
   "id": "c79666eb",
   "metadata": {
    "extensions": {
     "jupyter_dashboards": {
      "version": 1,
      "views": {
       "grid_default": {},
       "report_default": {
        "hidden": false
       }
      }
     }
    }
   },
   "outputs": [],
   "source": [
    "# from IPython.display import display,Markdown\n",
    "\n",
    "# display(Markdown('<div class=\"card\" style=\"box-shadow: 0 4px 8px 0 rgba(0, 0, 0, 0.2);max-width: 100%; margin: auto;padding:10px; font-family: arial;\"><p>Please choose <b style=\"color:#009384\">ONE DIAGNOSIS</b> to run the analysis:</p>'print(5)'</div>'))\n"
   ]
  },
  {
   "cell_type": "code",
   "execution_count": 1170,
   "id": "83d75922",
   "metadata": {
    "extensions": {
     "jupyter_dashboards": {
      "version": 1,
      "views": {
       "grid_default": {},
       "report_default": {
        "hidden": false
       }
      }
     }
    }
   },
   "outputs": [
    {
     "name": "stderr",
     "output_type": "stream",
     "text": [
      "/tmp/ipykernel_45791/3097201369.py:5: UserWarning: pandas only supports SQLAlchemy connectable (engine/connection) or database string URI or sqlite3 DBAPI2 connection. Other DBAPI2 objects are not tested. Please consider using SQLAlchemy.\n",
      "  diagnames_pat_id = pd.read_sql(diagnames_pat_id, con=conn)\n"
     ]
    },
    {
     "data": {
      "application/vnd.jupyter.widget-view+json": {
       "model_id": "67f3a46a72f9440cb7049dd8e38dc659",
       "version_major": 2,
       "version_minor": 0
      },
      "text/plain": [
       "SelectMultiple(layout=Layout(width='440px'), options=('Pneumonia, unspecified organism', 'Viral intestinal inf…"
      ]
     },
     "metadata": {},
     "output_type": "display_data"
    },
    {
     "name": "stdout",
     "output_type": "stream",
     "text": [
      "('Pneumonia, unspecified organism',)\n"
     ]
    },
    {
     "name": "stderr",
     "output_type": "stream",
     "text": [
      "/tmp/ipykernel_45791/4176199392.py:15: UserWarning: pandas only supports SQLAlchemy connectable (engine/connection) or database string URI or sqlite3 DBAPI2 connection. Other DBAPI2 objects are not tested. Please consider using SQLAlchemy.\n",
      "  patient_cohort = pd.read_sql(patient_cohort, con=conn)\n"
     ]
    },
    {
     "ename": "DatabaseError",
     "evalue": "Execution failed on sql:  select p.person_id from person p, mimic_openmrs_cdss cdss where p.person_id\n                            IN (select patient_id from encounter_diagnosis where diagnosis_coded \n                            IN (select concept_id from concept where description \n                            IN ('Pneumonia, unspecified organism')))\n                            AND cdss.person_id=p.person_id \n                            AND p.gender= (select p.gender from person where person_id = 10152346) \n                            AND age_group_code=(select age_group_code from mimic_openmrs_cdss where person_id = 10152346)\n(4031, 'The client was disconnected by the server because of inactivity. See wait_timeout and interactive_timeout for configuring this behavior.')\nunable to rollback",
     "output_type": "error",
     "traceback": [
      "\u001b[0;31m---------------------------------------------------------------------------\u001b[0m",
      "\u001b[0;31mOperationalError\u001b[0m                          Traceback (most recent call last)",
      "File \u001b[0;32m~/.local/lib/python3.8/site-packages/pandas/io/sql.py:2018\u001b[0m, in \u001b[0;36mSQLiteDatabase.execute\u001b[0;34m(self, *args, **kwargs)\u001b[0m\n\u001b[1;32m   2017\u001b[0m \u001b[38;5;28;01mtry\u001b[39;00m:\n\u001b[0;32m-> 2018\u001b[0m     \u001b[43mcur\u001b[49m\u001b[38;5;241;43m.\u001b[39;49m\u001b[43mexecute\u001b[49m\u001b[43m(\u001b[49m\u001b[38;5;241;43m*\u001b[39;49m\u001b[43margs\u001b[49m\u001b[43m,\u001b[49m\u001b[43m \u001b[49m\u001b[38;5;241;43m*\u001b[39;49m\u001b[38;5;241;43m*\u001b[39;49m\u001b[43mkwargs\u001b[49m\u001b[43m)\u001b[49m\n\u001b[1;32m   2019\u001b[0m     \u001b[38;5;28;01mreturn\u001b[39;00m cur\n",
      "File \u001b[0;32m~/.local/lib/python3.8/site-packages/MySQLdb/cursors.py:206\u001b[0m, in \u001b[0;36mBaseCursor.execute\u001b[0;34m(self, query, args)\u001b[0m\n\u001b[1;32m    205\u001b[0m \u001b[38;5;28;01massert\u001b[39;00m \u001b[38;5;28misinstance\u001b[39m(query, (\u001b[38;5;28mbytes\u001b[39m, \u001b[38;5;28mbytearray\u001b[39m))\n\u001b[0;32m--> 206\u001b[0m res \u001b[38;5;241m=\u001b[39m \u001b[38;5;28;43mself\u001b[39;49m\u001b[38;5;241;43m.\u001b[39;49m\u001b[43m_query\u001b[49m\u001b[43m(\u001b[49m\u001b[43mquery\u001b[49m\u001b[43m)\u001b[49m\n\u001b[1;32m    207\u001b[0m \u001b[38;5;28;01mreturn\u001b[39;00m res\n",
      "File \u001b[0;32m~/.local/lib/python3.8/site-packages/MySQLdb/cursors.py:319\u001b[0m, in \u001b[0;36mBaseCursor._query\u001b[0;34m(self, q)\u001b[0m\n\u001b[1;32m    318\u001b[0m \u001b[38;5;28mself\u001b[39m\u001b[38;5;241m.\u001b[39m_result \u001b[38;5;241m=\u001b[39m \u001b[38;5;28;01mNone\u001b[39;00m\n\u001b[0;32m--> 319\u001b[0m \u001b[43mdb\u001b[49m\u001b[38;5;241;43m.\u001b[39;49m\u001b[43mquery\u001b[49m\u001b[43m(\u001b[49m\u001b[43mq\u001b[49m\u001b[43m)\u001b[49m\n\u001b[1;32m    320\u001b[0m \u001b[38;5;28mself\u001b[39m\u001b[38;5;241m.\u001b[39m_do_get_result(db)\n",
      "File \u001b[0;32m~/.local/lib/python3.8/site-packages/MySQLdb/connections.py:254\u001b[0m, in \u001b[0;36mConnection.query\u001b[0;34m(self, query)\u001b[0m\n\u001b[1;32m    253\u001b[0m     query \u001b[38;5;241m=\u001b[39m \u001b[38;5;28mbytes\u001b[39m(query)\n\u001b[0;32m--> 254\u001b[0m \u001b[43m_mysql\u001b[49m\u001b[38;5;241;43m.\u001b[39;49m\u001b[43mconnection\u001b[49m\u001b[38;5;241;43m.\u001b[39;49m\u001b[43mquery\u001b[49m\u001b[43m(\u001b[49m\u001b[38;5;28;43mself\u001b[39;49m\u001b[43m,\u001b[49m\u001b[43m \u001b[49m\u001b[43mquery\u001b[49m\u001b[43m)\u001b[49m\n",
      "\u001b[0;31mOperationalError\u001b[0m: (4031, 'The client was disconnected by the server because of inactivity. See wait_timeout and interactive_timeout for configuring this behavior.')",
      "\nDuring handling of the above exception, another exception occurred:\n",
      "\u001b[0;31mOperationalError\u001b[0m                          Traceback (most recent call last)",
      "File \u001b[0;32m~/.local/lib/python3.8/site-packages/pandas/io/sql.py:2022\u001b[0m, in \u001b[0;36mSQLiteDatabase.execute\u001b[0;34m(self, *args, **kwargs)\u001b[0m\n\u001b[1;32m   2021\u001b[0m \u001b[38;5;28;01mtry\u001b[39;00m:\n\u001b[0;32m-> 2022\u001b[0m     \u001b[38;5;28;43mself\u001b[39;49m\u001b[38;5;241;43m.\u001b[39;49m\u001b[43mcon\u001b[49m\u001b[38;5;241;43m.\u001b[39;49m\u001b[43mrollback\u001b[49m\u001b[43m(\u001b[49m\u001b[43m)\u001b[49m\n\u001b[1;32m   2023\u001b[0m \u001b[38;5;28;01mexcept\u001b[39;00m \u001b[38;5;167;01mException\u001b[39;00m \u001b[38;5;28;01mas\u001b[39;00m inner_exc:  \u001b[38;5;66;03m# pragma: no cover\u001b[39;00m\n",
      "\u001b[0;31mOperationalError\u001b[0m: (2013, 'Lost connection to MySQL server during query')",
      "\nThe above exception was the direct cause of the following exception:\n",
      "\u001b[0;31mDatabaseError\u001b[0m                             Traceback (most recent call last)",
      "File \u001b[0;32m/usr/local/lib/python3.8/dist-packages/ipywidgets/widgets/widget.py:707\u001b[0m, in \u001b[0;36mWidget._handle_msg\u001b[0;34m(self, msg)\u001b[0m\n\u001b[1;32m    705\u001b[0m         \u001b[38;5;28;01mif\u001b[39;00m \u001b[38;5;124m'\u001b[39m\u001b[38;5;124mbuffer_paths\u001b[39m\u001b[38;5;124m'\u001b[39m \u001b[38;5;129;01min\u001b[39;00m data:\n\u001b[1;32m    706\u001b[0m             _put_buffers(state, data[\u001b[38;5;124m'\u001b[39m\u001b[38;5;124mbuffer_paths\u001b[39m\u001b[38;5;124m'\u001b[39m], msg[\u001b[38;5;124m'\u001b[39m\u001b[38;5;124mbuffers\u001b[39m\u001b[38;5;124m'\u001b[39m])\n\u001b[0;32m--> 707\u001b[0m         \u001b[38;5;28;43mself\u001b[39;49m\u001b[38;5;241;43m.\u001b[39;49m\u001b[43mset_state\u001b[49m\u001b[43m(\u001b[49m\u001b[43mstate\u001b[49m\u001b[43m)\u001b[49m\n\u001b[1;32m    709\u001b[0m \u001b[38;5;66;03m# Handle a state request.\u001b[39;00m\n\u001b[1;32m    710\u001b[0m \u001b[38;5;28;01melif\u001b[39;00m method \u001b[38;5;241m==\u001b[39m \u001b[38;5;124m'\u001b[39m\u001b[38;5;124mrequest_state\u001b[39m\u001b[38;5;124m'\u001b[39m:\n",
      "File \u001b[0;32m/usr/local/lib/python3.8/dist-packages/ipywidgets/widgets/widget.py:589\u001b[0m, in \u001b[0;36mWidget.set_state\u001b[0;34m(self, sync_data)\u001b[0m\n\u001b[1;32m    586\u001b[0m \u001b[38;5;28;01mif\u001b[39;00m name \u001b[38;5;129;01min\u001b[39;00m \u001b[38;5;28mself\u001b[39m\u001b[38;5;241m.\u001b[39mkeys:\n\u001b[1;32m    587\u001b[0m     from_json \u001b[38;5;241m=\u001b[39m \u001b[38;5;28mself\u001b[39m\u001b[38;5;241m.\u001b[39mtrait_metadata(name, \u001b[38;5;124m'\u001b[39m\u001b[38;5;124mfrom_json\u001b[39m\u001b[38;5;124m'\u001b[39m,\n\u001b[1;32m    588\u001b[0m                                     \u001b[38;5;28mself\u001b[39m\u001b[38;5;241m.\u001b[39m_trait_from_json)\n\u001b[0;32m--> 589\u001b[0m     \u001b[38;5;28mself\u001b[39m\u001b[38;5;241m.\u001b[39mset_trait(name, from_json(sync_data[name], \u001b[38;5;28mself\u001b[39m))\n",
      "File \u001b[0;32m/usr/lib/python3.8/contextlib.py:120\u001b[0m, in \u001b[0;36m_GeneratorContextManager.__exit__\u001b[0;34m(self, type, value, traceback)\u001b[0m\n\u001b[1;32m    118\u001b[0m \u001b[38;5;28;01mif\u001b[39;00m \u001b[38;5;28mtype\u001b[39m \u001b[38;5;129;01mis\u001b[39;00m \u001b[38;5;28;01mNone\u001b[39;00m:\n\u001b[1;32m    119\u001b[0m     \u001b[38;5;28;01mtry\u001b[39;00m:\n\u001b[0;32m--> 120\u001b[0m         \u001b[38;5;28;43mnext\u001b[39;49m\u001b[43m(\u001b[49m\u001b[38;5;28;43mself\u001b[39;49m\u001b[38;5;241;43m.\u001b[39;49m\u001b[43mgen\u001b[49m\u001b[43m)\u001b[49m\n\u001b[1;32m    121\u001b[0m     \u001b[38;5;28;01mexcept\u001b[39;00m \u001b[38;5;167;01mStopIteration\u001b[39;00m:\n\u001b[1;32m    122\u001b[0m         \u001b[38;5;28;01mreturn\u001b[39;00m \u001b[38;5;28;01mFalse\u001b[39;00m\n",
      "File \u001b[0;32m/usr/local/lib/python3.8/dist-packages/traitlets/traitlets.py:1371\u001b[0m, in \u001b[0;36mHasTraits.hold_trait_notifications\u001b[0;34m(self)\u001b[0m\n\u001b[1;32m   1369\u001b[0m \u001b[38;5;28;01mfor\u001b[39;00m changes \u001b[38;5;129;01min\u001b[39;00m cache\u001b[38;5;241m.\u001b[39mvalues():\n\u001b[1;32m   1370\u001b[0m     \u001b[38;5;28;01mfor\u001b[39;00m change \u001b[38;5;129;01min\u001b[39;00m changes:\n\u001b[0;32m-> 1371\u001b[0m         \u001b[38;5;28;43mself\u001b[39;49m\u001b[38;5;241;43m.\u001b[39;49m\u001b[43mnotify_change\u001b[49m\u001b[43m(\u001b[49m\u001b[43mchange\u001b[49m\u001b[43m)\u001b[49m\n",
      "File \u001b[0;32m/usr/local/lib/python3.8/dist-packages/ipywidgets/widgets/widget.py:635\u001b[0m, in \u001b[0;36mWidget.notify_change\u001b[0;34m(self, change)\u001b[0m\n\u001b[1;32m    632\u001b[0m     \u001b[38;5;28;01mif\u001b[39;00m name \u001b[38;5;129;01min\u001b[39;00m \u001b[38;5;28mself\u001b[39m\u001b[38;5;241m.\u001b[39mkeys \u001b[38;5;129;01mand\u001b[39;00m \u001b[38;5;28mself\u001b[39m\u001b[38;5;241m.\u001b[39m_should_send_property(name, \u001b[38;5;28mgetattr\u001b[39m(\u001b[38;5;28mself\u001b[39m, name)):\n\u001b[1;32m    633\u001b[0m         \u001b[38;5;66;03m# Send new state to front-end\u001b[39;00m\n\u001b[1;32m    634\u001b[0m         \u001b[38;5;28mself\u001b[39m\u001b[38;5;241m.\u001b[39msend_state(key\u001b[38;5;241m=\u001b[39mname)\n\u001b[0;32m--> 635\u001b[0m \u001b[38;5;28;43msuper\u001b[39;49m\u001b[43m(\u001b[49m\u001b[43m)\u001b[49m\u001b[38;5;241;43m.\u001b[39;49m\u001b[43mnotify_change\u001b[49m\u001b[43m(\u001b[49m\u001b[43mchange\u001b[49m\u001b[43m)\u001b[49m\n",
      "File \u001b[0;32m/usr/local/lib/python3.8/dist-packages/traitlets/traitlets.py:1386\u001b[0m, in \u001b[0;36mHasTraits.notify_change\u001b[0;34m(self, change)\u001b[0m\n\u001b[1;32m   1384\u001b[0m \u001b[38;5;28;01mdef\u001b[39;00m \u001b[38;5;21mnotify_change\u001b[39m(\u001b[38;5;28mself\u001b[39m, change):\n\u001b[1;32m   1385\u001b[0m     \u001b[38;5;124;03m\"\"\"Notify observers of a change event\"\"\"\u001b[39;00m\n\u001b[0;32m-> 1386\u001b[0m     \u001b[38;5;28;01mreturn\u001b[39;00m \u001b[38;5;28;43mself\u001b[39;49m\u001b[38;5;241;43m.\u001b[39;49m\u001b[43m_notify_observers\u001b[49m\u001b[43m(\u001b[49m\u001b[43mchange\u001b[49m\u001b[43m)\u001b[49m\n",
      "File \u001b[0;32m/usr/local/lib/python3.8/dist-packages/traitlets/traitlets.py:1431\u001b[0m, in \u001b[0;36mHasTraits._notify_observers\u001b[0;34m(self, event)\u001b[0m\n\u001b[1;32m   1428\u001b[0m \u001b[38;5;28;01melif\u001b[39;00m \u001b[38;5;28misinstance\u001b[39m(c, EventHandler) \u001b[38;5;129;01mand\u001b[39;00m c\u001b[38;5;241m.\u001b[39mname \u001b[38;5;129;01mis\u001b[39;00m \u001b[38;5;129;01mnot\u001b[39;00m \u001b[38;5;28;01mNone\u001b[39;00m:\n\u001b[1;32m   1429\u001b[0m     c \u001b[38;5;241m=\u001b[39m \u001b[38;5;28mgetattr\u001b[39m(\u001b[38;5;28mself\u001b[39m, c\u001b[38;5;241m.\u001b[39mname)\n\u001b[0;32m-> 1431\u001b[0m \u001b[43mc\u001b[49m\u001b[43m(\u001b[49m\u001b[43mevent\u001b[49m\u001b[43m)\u001b[49m\n",
      "File \u001b[0;32m/usr/local/lib/python3.8/dist-packages/ipywidgets/widgets/widget_selection.py:362\u001b[0m, in \u001b[0;36m_MultipleSelection._propagate_index\u001b[0;34m(self, change)\u001b[0m\n\u001b[1;32m    360\u001b[0m     \u001b[38;5;28mself\u001b[39m\u001b[38;5;241m.\u001b[39mlabel \u001b[38;5;241m=\u001b[39m label\n\u001b[1;32m    361\u001b[0m \u001b[38;5;28;01mif\u001b[39;00m \u001b[38;5;28mself\u001b[39m\u001b[38;5;241m.\u001b[39mvalue \u001b[38;5;241m!=\u001b[39m value:\n\u001b[0;32m--> 362\u001b[0m     \u001b[38;5;28;43mself\u001b[39;49m\u001b[38;5;241;43m.\u001b[39;49m\u001b[43mvalue\u001b[49m \u001b[38;5;241m=\u001b[39m value\n",
      "File \u001b[0;32m/usr/local/lib/python3.8/dist-packages/traitlets/traitlets.py:715\u001b[0m, in \u001b[0;36mTraitType.__set__\u001b[0;34m(self, obj, value)\u001b[0m\n\u001b[1;32m    713\u001b[0m     \u001b[38;5;28;01mraise\u001b[39;00m TraitError(\u001b[38;5;124m'\u001b[39m\u001b[38;5;124mThe \u001b[39m\u001b[38;5;124m\"\u001b[39m\u001b[38;5;132;01m%s\u001b[39;00m\u001b[38;5;124m\"\u001b[39m\u001b[38;5;124m trait is read-only.\u001b[39m\u001b[38;5;124m'\u001b[39m \u001b[38;5;241m%\u001b[39m \u001b[38;5;28mself\u001b[39m\u001b[38;5;241m.\u001b[39mname)\n\u001b[1;32m    714\u001b[0m \u001b[38;5;28;01melse\u001b[39;00m:\n\u001b[0;32m--> 715\u001b[0m     \u001b[38;5;28;43mself\u001b[39;49m\u001b[38;5;241;43m.\u001b[39;49m\u001b[43mset\u001b[49m\u001b[43m(\u001b[49m\u001b[43mobj\u001b[49m\u001b[43m,\u001b[49m\u001b[43m \u001b[49m\u001b[43mvalue\u001b[49m\u001b[43m)\u001b[49m\n",
      "File \u001b[0;32m/usr/local/lib/python3.8/dist-packages/traitlets/traitlets.py:704\u001b[0m, in \u001b[0;36mTraitType.set\u001b[0;34m(self, obj, value)\u001b[0m\n\u001b[1;32m    700\u001b[0m     silent \u001b[38;5;241m=\u001b[39m \u001b[38;5;28;01mFalse\u001b[39;00m\n\u001b[1;32m    701\u001b[0m \u001b[38;5;28;01mif\u001b[39;00m silent \u001b[38;5;129;01mis\u001b[39;00m \u001b[38;5;129;01mnot\u001b[39;00m \u001b[38;5;28;01mTrue\u001b[39;00m:\n\u001b[1;32m    702\u001b[0m     \u001b[38;5;66;03m# we explicitly compare silent to True just in case the equality\u001b[39;00m\n\u001b[1;32m    703\u001b[0m     \u001b[38;5;66;03m# comparison above returns something other than True/False\u001b[39;00m\n\u001b[0;32m--> 704\u001b[0m     \u001b[43mobj\u001b[49m\u001b[38;5;241;43m.\u001b[39;49m\u001b[43m_notify_trait\u001b[49m\u001b[43m(\u001b[49m\u001b[38;5;28;43mself\u001b[39;49m\u001b[38;5;241;43m.\u001b[39;49m\u001b[43mname\u001b[49m\u001b[43m,\u001b[49m\u001b[43m \u001b[49m\u001b[43mold_value\u001b[49m\u001b[43m,\u001b[49m\u001b[43m \u001b[49m\u001b[43mnew_value\u001b[49m\u001b[43m)\u001b[49m\n",
      "File \u001b[0;32m/usr/local/lib/python3.8/dist-packages/traitlets/traitlets.py:1374\u001b[0m, in \u001b[0;36mHasTraits._notify_trait\u001b[0;34m(self, name, old_value, new_value)\u001b[0m\n\u001b[1;32m   1373\u001b[0m \u001b[38;5;28;01mdef\u001b[39;00m \u001b[38;5;21m_notify_trait\u001b[39m(\u001b[38;5;28mself\u001b[39m, name, old_value, new_value):\n\u001b[0;32m-> 1374\u001b[0m     \u001b[38;5;28;43mself\u001b[39;49m\u001b[38;5;241;43m.\u001b[39;49m\u001b[43mnotify_change\u001b[49m\u001b[43m(\u001b[49m\n\u001b[1;32m   1375\u001b[0m \u001b[43m        \u001b[49m\u001b[43mBunch\u001b[49m\u001b[43m(\u001b[49m\n\u001b[1;32m   1376\u001b[0m \u001b[43m            \u001b[49m\u001b[43mname\u001b[49m\u001b[38;5;241;43m=\u001b[39;49m\u001b[43mname\u001b[49m\u001b[43m,\u001b[49m\n\u001b[1;32m   1377\u001b[0m \u001b[43m            \u001b[49m\u001b[43mold\u001b[49m\u001b[38;5;241;43m=\u001b[39;49m\u001b[43mold_value\u001b[49m\u001b[43m,\u001b[49m\n\u001b[1;32m   1378\u001b[0m \u001b[43m            \u001b[49m\u001b[43mnew\u001b[49m\u001b[38;5;241;43m=\u001b[39;49m\u001b[43mnew_value\u001b[49m\u001b[43m,\u001b[49m\n\u001b[1;32m   1379\u001b[0m \u001b[43m            \u001b[49m\u001b[43mowner\u001b[49m\u001b[38;5;241;43m=\u001b[39;49m\u001b[38;5;28;43mself\u001b[39;49m\u001b[43m,\u001b[49m\n\u001b[1;32m   1380\u001b[0m \u001b[43m            \u001b[49m\u001b[38;5;28;43mtype\u001b[39;49m\u001b[38;5;241;43m=\u001b[39;49m\u001b[38;5;124;43m\"\u001b[39;49m\u001b[38;5;124;43mchange\u001b[39;49m\u001b[38;5;124;43m\"\u001b[39;49m\u001b[43m,\u001b[49m\n\u001b[1;32m   1381\u001b[0m \u001b[43m        \u001b[49m\u001b[43m)\u001b[49m\n\u001b[1;32m   1382\u001b[0m \u001b[43m    \u001b[49m\u001b[43m)\u001b[49m\n",
      "File \u001b[0;32m/usr/local/lib/python3.8/dist-packages/ipywidgets/widgets/widget.py:635\u001b[0m, in \u001b[0;36mWidget.notify_change\u001b[0;34m(self, change)\u001b[0m\n\u001b[1;32m    632\u001b[0m     \u001b[38;5;28;01mif\u001b[39;00m name \u001b[38;5;129;01min\u001b[39;00m \u001b[38;5;28mself\u001b[39m\u001b[38;5;241m.\u001b[39mkeys \u001b[38;5;129;01mand\u001b[39;00m \u001b[38;5;28mself\u001b[39m\u001b[38;5;241m.\u001b[39m_should_send_property(name, \u001b[38;5;28mgetattr\u001b[39m(\u001b[38;5;28mself\u001b[39m, name)):\n\u001b[1;32m    633\u001b[0m         \u001b[38;5;66;03m# Send new state to front-end\u001b[39;00m\n\u001b[1;32m    634\u001b[0m         \u001b[38;5;28mself\u001b[39m\u001b[38;5;241m.\u001b[39msend_state(key\u001b[38;5;241m=\u001b[39mname)\n\u001b[0;32m--> 635\u001b[0m \u001b[38;5;28;43msuper\u001b[39;49m\u001b[43m(\u001b[49m\u001b[43m)\u001b[49m\u001b[38;5;241;43m.\u001b[39;49m\u001b[43mnotify_change\u001b[49m\u001b[43m(\u001b[49m\u001b[43mchange\u001b[49m\u001b[43m)\u001b[49m\n",
      "File \u001b[0;32m/usr/local/lib/python3.8/dist-packages/traitlets/traitlets.py:1386\u001b[0m, in \u001b[0;36mHasTraits.notify_change\u001b[0;34m(self, change)\u001b[0m\n\u001b[1;32m   1384\u001b[0m \u001b[38;5;28;01mdef\u001b[39;00m \u001b[38;5;21mnotify_change\u001b[39m(\u001b[38;5;28mself\u001b[39m, change):\n\u001b[1;32m   1385\u001b[0m     \u001b[38;5;124;03m\"\"\"Notify observers of a change event\"\"\"\u001b[39;00m\n\u001b[0;32m-> 1386\u001b[0m     \u001b[38;5;28;01mreturn\u001b[39;00m \u001b[38;5;28;43mself\u001b[39;49m\u001b[38;5;241;43m.\u001b[39;49m\u001b[43m_notify_observers\u001b[49m\u001b[43m(\u001b[49m\u001b[43mchange\u001b[49m\u001b[43m)\u001b[49m\n",
      "File \u001b[0;32m/usr/local/lib/python3.8/dist-packages/traitlets/traitlets.py:1431\u001b[0m, in \u001b[0;36mHasTraits._notify_observers\u001b[0;34m(self, event)\u001b[0m\n\u001b[1;32m   1428\u001b[0m \u001b[38;5;28;01melif\u001b[39;00m \u001b[38;5;28misinstance\u001b[39m(c, EventHandler) \u001b[38;5;129;01mand\u001b[39;00m c\u001b[38;5;241m.\u001b[39mname \u001b[38;5;129;01mis\u001b[39;00m \u001b[38;5;129;01mnot\u001b[39;00m \u001b[38;5;28;01mNone\u001b[39;00m:\n\u001b[1;32m   1429\u001b[0m     c \u001b[38;5;241m=\u001b[39m \u001b[38;5;28mgetattr\u001b[39m(\u001b[38;5;28mself\u001b[39m, c\u001b[38;5;241m.\u001b[39mname)\n\u001b[0;32m-> 1431\u001b[0m \u001b[43mc\u001b[49m\u001b[43m(\u001b[49m\u001b[43mevent\u001b[49m\u001b[43m)\u001b[49m\n",
      "Cell \u001b[0;32mIn [1170], line 15\u001b[0m, in \u001b[0;36mdropdown_diagconcept_eventhandler\u001b[0;34m(change)\u001b[0m\n\u001b[1;32m     13\u001b[0m \u001b[38;5;28;01mwith\u001b[39;00m output_diagnames_pat_id:\n\u001b[1;32m     14\u001b[0m     display(diagnames_pat_id[diagnames_pat_id[\u001b[38;5;124m'\u001b[39m\u001b[38;5;124mdescription\u001b[39m\u001b[38;5;124m'\u001b[39m] \u001b[38;5;241m==\u001b[39m change\u001b[38;5;241m.\u001b[39mnew])\n\u001b[0;32m---> 15\u001b[0m \u001b[43mon_1button_clicked\u001b[49m\u001b[43m(\u001b[49m\u001b[43mdropdown_diagnames_pat_id\u001b[49m\u001b[38;5;241;43m.\u001b[39;49m\u001b[43mvalue\u001b[49m\u001b[43m)\u001b[49m\n",
      "Cell \u001b[0;32mIn [1168], line 15\u001b[0m, in \u001b[0;36mon_1button_clicked\u001b[0;34m(selected_diag)\u001b[0m\n\u001b[1;32m      7\u001b[0m patient_cohort   \u001b[38;5;241m=\u001b[39m (\u001b[38;5;124m\"\"\"\u001b[39m\u001b[38;5;124m select p.person_id from person p, mimic_openmrs_cdss cdss where p.person_id\u001b[39m\n\u001b[1;32m      8\u001b[0m \u001b[38;5;124m                        IN (select patient_id from encounter_diagnosis where diagnosis_coded \u001b[39m\n\u001b[1;32m      9\u001b[0m \u001b[38;5;124m                        IN (select concept_id from concept where description \u001b[39m\n\u001b[0;32m   (...)\u001b[0m\n\u001b[1;32m     12\u001b[0m \u001b[38;5;124m                        AND p.gender= (select p.gender from person where person_id = \u001b[39m\u001b[38;5;132;01m{patient_id}\u001b[39;00m\u001b[38;5;124m) \u001b[39m\n\u001b[1;32m     13\u001b[0m \u001b[38;5;124m                        AND age_group_code=(select age_group_code from mimic_openmrs_cdss where person_id = \u001b[39m\u001b[38;5;132;01m{patient_id}\u001b[39;00m\u001b[38;5;124m)\u001b[39m\u001b[38;5;124m\"\"\"\u001b[39m)\n\u001b[1;32m     14\u001b[0m patient_cohort \u001b[38;5;241m=\u001b[39m patient_cohort\u001b[38;5;241m.\u001b[39mformat(\u001b[38;5;241m*\u001b[39m\u001b[38;5;241m*\u001b[39mvalues_mapx)\u001b[38;5;241m.\u001b[39mreplace(\u001b[38;5;124m'\u001b[39m\u001b[38;5;124m[\u001b[39m\u001b[38;5;124m'\u001b[39m, \u001b[38;5;124m'\u001b[39m\u001b[38;5;124m(\u001b[39m\u001b[38;5;124m'\u001b[39m)\u001b[38;5;241m.\u001b[39mreplace(\u001b[38;5;124m'\u001b[39m\u001b[38;5;124m]\u001b[39m\u001b[38;5;124m'\u001b[39m,\u001b[38;5;124m'\u001b[39m\u001b[38;5;124m)\u001b[39m\u001b[38;5;124m'\u001b[39m)\n\u001b[0;32m---> 15\u001b[0m patient_cohort \u001b[38;5;241m=\u001b[39m \u001b[43mpd\u001b[49m\u001b[38;5;241;43m.\u001b[39;49m\u001b[43mread_sql\u001b[49m\u001b[43m(\u001b[49m\u001b[43mpatient_cohort\u001b[49m\u001b[43m,\u001b[49m\u001b[43m \u001b[49m\u001b[43mcon\u001b[49m\u001b[38;5;241;43m=\u001b[39;49m\u001b[43mconn\u001b[49m\u001b[43m)\u001b[49m\n\u001b[1;32m     16\u001b[0m \u001b[38;5;28mprint\u001b[39m(\u001b[38;5;28mstr\u001b[39m(patient_cohort\u001b[38;5;241m.\u001b[39mshape[\u001b[38;5;241m0\u001b[39m]) \u001b[38;5;241m+\u001b[39m \u001b[38;5;124m\"\u001b[39m\u001b[38;5;124m Similar Patients For This Diagnosis\u001b[39m\u001b[38;5;124m\"\u001b[39m)\n",
      "File \u001b[0;32m~/.local/lib/python3.8/site-packages/pandas/io/sql.py:564\u001b[0m, in \u001b[0;36mread_sql\u001b[0;34m(sql, con, index_col, coerce_float, params, parse_dates, columns, chunksize)\u001b[0m\n\u001b[1;32m    561\u001b[0m pandas_sql \u001b[38;5;241m=\u001b[39m pandasSQL_builder(con)\n\u001b[1;32m    563\u001b[0m \u001b[38;5;28;01mif\u001b[39;00m \u001b[38;5;28misinstance\u001b[39m(pandas_sql, SQLiteDatabase):\n\u001b[0;32m--> 564\u001b[0m     \u001b[38;5;28;01mreturn\u001b[39;00m \u001b[43mpandas_sql\u001b[49m\u001b[38;5;241;43m.\u001b[39;49m\u001b[43mread_query\u001b[49m\u001b[43m(\u001b[49m\n\u001b[1;32m    565\u001b[0m \u001b[43m        \u001b[49m\u001b[43msql\u001b[49m\u001b[43m,\u001b[49m\n\u001b[1;32m    566\u001b[0m \u001b[43m        \u001b[49m\u001b[43mindex_col\u001b[49m\u001b[38;5;241;43m=\u001b[39;49m\u001b[43mindex_col\u001b[49m\u001b[43m,\u001b[49m\n\u001b[1;32m    567\u001b[0m \u001b[43m        \u001b[49m\u001b[43mparams\u001b[49m\u001b[38;5;241;43m=\u001b[39;49m\u001b[43mparams\u001b[49m\u001b[43m,\u001b[49m\n\u001b[1;32m    568\u001b[0m \u001b[43m        \u001b[49m\u001b[43mcoerce_float\u001b[49m\u001b[38;5;241;43m=\u001b[39;49m\u001b[43mcoerce_float\u001b[49m\u001b[43m,\u001b[49m\n\u001b[1;32m    569\u001b[0m \u001b[43m        \u001b[49m\u001b[43mparse_dates\u001b[49m\u001b[38;5;241;43m=\u001b[39;49m\u001b[43mparse_dates\u001b[49m\u001b[43m,\u001b[49m\n\u001b[1;32m    570\u001b[0m \u001b[43m        \u001b[49m\u001b[43mchunksize\u001b[49m\u001b[38;5;241;43m=\u001b[39;49m\u001b[43mchunksize\u001b[49m\u001b[43m,\u001b[49m\n\u001b[1;32m    571\u001b[0m \u001b[43m    \u001b[49m\u001b[43m)\u001b[49m\n\u001b[1;32m    573\u001b[0m \u001b[38;5;28;01mtry\u001b[39;00m:\n\u001b[1;32m    574\u001b[0m     _is_table_name \u001b[38;5;241m=\u001b[39m pandas_sql\u001b[38;5;241m.\u001b[39mhas_table(sql)\n",
      "File \u001b[0;32m~/.local/lib/python3.8/site-packages/pandas/io/sql.py:2078\u001b[0m, in \u001b[0;36mSQLiteDatabase.read_query\u001b[0;34m(self, sql, index_col, coerce_float, params, parse_dates, chunksize, dtype)\u001b[0m\n\u001b[1;32m   2066\u001b[0m \u001b[38;5;28;01mdef\u001b[39;00m \u001b[38;5;21mread_query\u001b[39m(\n\u001b[1;32m   2067\u001b[0m     \u001b[38;5;28mself\u001b[39m,\n\u001b[1;32m   2068\u001b[0m     sql,\n\u001b[0;32m   (...)\u001b[0m\n\u001b[1;32m   2074\u001b[0m     dtype: DtypeArg \u001b[38;5;241m|\u001b[39m \u001b[38;5;28;01mNone\u001b[39;00m \u001b[38;5;241m=\u001b[39m \u001b[38;5;28;01mNone\u001b[39;00m,\n\u001b[1;32m   2075\u001b[0m ) \u001b[38;5;241m-\u001b[39m\u001b[38;5;241m>\u001b[39m DataFrame \u001b[38;5;241m|\u001b[39m Iterator[DataFrame]:\n\u001b[1;32m   2077\u001b[0m     args \u001b[38;5;241m=\u001b[39m _convert_params(sql, params)\n\u001b[0;32m-> 2078\u001b[0m     cursor \u001b[38;5;241m=\u001b[39m \u001b[38;5;28;43mself\u001b[39;49m\u001b[38;5;241;43m.\u001b[39;49m\u001b[43mexecute\u001b[49m\u001b[43m(\u001b[49m\u001b[38;5;241;43m*\u001b[39;49m\u001b[43margs\u001b[49m\u001b[43m)\u001b[49m\n\u001b[1;32m   2079\u001b[0m     columns \u001b[38;5;241m=\u001b[39m [col_desc[\u001b[38;5;241m0\u001b[39m] \u001b[38;5;28;01mfor\u001b[39;00m col_desc \u001b[38;5;129;01min\u001b[39;00m cursor\u001b[38;5;241m.\u001b[39mdescription]\n\u001b[1;32m   2081\u001b[0m     \u001b[38;5;28;01mif\u001b[39;00m chunksize \u001b[38;5;129;01mis\u001b[39;00m \u001b[38;5;129;01mnot\u001b[39;00m \u001b[38;5;28;01mNone\u001b[39;00m:\n",
      "File \u001b[0;32m~/.local/lib/python3.8/site-packages/pandas/io/sql.py:2027\u001b[0m, in \u001b[0;36mSQLiteDatabase.execute\u001b[0;34m(self, *args, **kwargs)\u001b[0m\n\u001b[1;32m   2023\u001b[0m \u001b[38;5;28;01mexcept\u001b[39;00m \u001b[38;5;167;01mException\u001b[39;00m \u001b[38;5;28;01mas\u001b[39;00m inner_exc:  \u001b[38;5;66;03m# pragma: no cover\u001b[39;00m\n\u001b[1;32m   2024\u001b[0m     ex \u001b[38;5;241m=\u001b[39m DatabaseError(\n\u001b[1;32m   2025\u001b[0m         \u001b[38;5;124mf\u001b[39m\u001b[38;5;124m\"\u001b[39m\u001b[38;5;124mExecution failed on sql: \u001b[39m\u001b[38;5;132;01m{\u001b[39;00margs[\u001b[38;5;241m0\u001b[39m]\u001b[38;5;132;01m}\u001b[39;00m\u001b[38;5;130;01m\\n\u001b[39;00m\u001b[38;5;132;01m{\u001b[39;00mexc\u001b[38;5;132;01m}\u001b[39;00m\u001b[38;5;130;01m\\n\u001b[39;00m\u001b[38;5;124munable to rollback\u001b[39m\u001b[38;5;124m\"\u001b[39m\n\u001b[1;32m   2026\u001b[0m     )\n\u001b[0;32m-> 2027\u001b[0m     \u001b[38;5;28;01mraise\u001b[39;00m ex \u001b[38;5;28;01mfrom\u001b[39;00m \u001b[38;5;21;01minner_exc\u001b[39;00m\n\u001b[1;32m   2029\u001b[0m ex \u001b[38;5;241m=\u001b[39m DatabaseError(\u001b[38;5;124mf\u001b[39m\u001b[38;5;124m\"\u001b[39m\u001b[38;5;124mExecution failed on sql \u001b[39m\u001b[38;5;124m'\u001b[39m\u001b[38;5;132;01m{\u001b[39;00margs[\u001b[38;5;241m0\u001b[39m]\u001b[38;5;132;01m}\u001b[39;00m\u001b[38;5;124m'\u001b[39m\u001b[38;5;124m: \u001b[39m\u001b[38;5;132;01m{\u001b[39;00mexc\u001b[38;5;132;01m}\u001b[39;00m\u001b[38;5;124m\"\u001b[39m)\n\u001b[1;32m   2030\u001b[0m \u001b[38;5;28;01mraise\u001b[39;00m ex \u001b[38;5;28;01mfrom\u001b[39;00m \u001b[38;5;21;01mexc\u001b[39;00m\n",
      "\u001b[0;31mDatabaseError\u001b[0m: Execution failed on sql:  select p.person_id from person p, mimic_openmrs_cdss cdss where p.person_id\n                            IN (select patient_id from encounter_diagnosis where diagnosis_coded \n                            IN (select concept_id from concept where description \n                            IN ('Pneumonia, unspecified organism')))\n                            AND cdss.person_id=p.person_id \n                            AND p.gender= (select p.gender from person where person_id = 10152346) \n                            AND age_group_code=(select age_group_code from mimic_openmrs_cdss where person_id = 10152346)\n(4031, 'The client was disconnected by the server because of inactivity. See wait_timeout and interactive_timeout for configuring this behavior.')\nunable to rollback"
     ]
    }
   ],
   "source": [
    "# selecting the diagnosis\n",
    "style = {'description_width': 'initial'}\n",
    "diagnames_pat_id = \"SELECT description from concept where concept_id IN (SELECT * FROM(SELECT diagnosis_coded FROM encounter_diagnosis WHERE patient_id = {patient_id}) as xyz)\" \n",
    "diagnames_pat_id = diagnames_pat_id.format(**values_mapx)\n",
    "diagnames_pat_id = pd.read_sql(diagnames_pat_id, con=conn)\n",
    "diagnames_value = diagnames_pat_id['description']\n",
    "\n",
    "output_diagnames_pat_id = widgets.Output()\n",
    "dropdown_diagnames_pat_id = widgets.SelectMultiple(options= diagnames_pat_id['description'].unique(), style= style,disabled=False, rows = 2, size = 10, layout=Layout(width = '440px'))\n",
    "\n",
    "def dropdown_diagconcept_eventhandler(change):\n",
    "    output_diagnames_pat_id.clear_output()\n",
    "    with output_diagnames_pat_id:\n",
    "        display(diagnames_pat_id[diagnames_pat_id['description'] == change.new])\n",
    "    on_1button_clicked(dropdown_diagnames_pat_id.value)\n",
    "     \n",
    "dropdown_diagnames_pat_id.observe(dropdown_diagconcept_eventhandler, names='value')\n",
    "display(dropdown_diagnames_pat_id)"
   ]
  },
  {
   "cell_type": "code",
   "execution_count": 1171,
   "id": "331d802e",
   "metadata": {
    "extensions": {
     "jupyter_dashboards": {
      "version": 1,
      "views": {
       "grid_default": {},
       "report_default": {
        "hidden": true
       }
      }
     }
    }
   },
   "outputs": [
    {
     "name": "stderr",
     "output_type": "stream",
     "text": [
      "/tmp/ipykernel_45791/3557023205.py:1: UserWarning: pandas only supports SQLAlchemy connectable (engine/connection) or database string URI or sqlite3 DBAPI2 connection. Other DBAPI2 objects are not tested. Please consider using SQLAlchemy.\n",
      "  patient_attribute_df = pd.read_sql(\"\"\"select p.gender, m.age_group_code, c.concept_id, o.concept_id, cn.name,  c.description,\n"
     ]
    }
   ],
   "source": [
    "patient_attribute_df = pd.read_sql(\"\"\"select p.gender, m.age_group_code, c.concept_id, o.concept_id, cn.name,  c.description, \n",
    "                                e.diagnosis_coded from person as p LEFT JOIN mimic_openmrs_cdss as m ON p.person_id = m.person_id \n",
    "                                LEFT JOIN obs as o ON o.person_id = p.person_id  LEFT JOIN concept_name as cn ON cn.concept_id = o.concept_id \n",
    "                                LEFT JOIN encounter_diagnosis as e ON e.patient_id = p.person_id LEFT JOIN concept as c ON \n",
    "                                c.concept_id = e.diagnosis_coded WHERE  p.person_id = {}\"\"\".format(patient_id), con = conn)"
   ]
  },
  {
   "cell_type": "code",
   "execution_count": 1172,
   "id": "111d8e2e",
   "metadata": {
    "extensions": {
     "jupyter_dashboards": {
      "version": 1,
      "views": {
       "grid_default": {},
       "report_default": {
        "hidden": false
       }
      }
     }
    },
    "scrolled": true
   },
   "outputs": [],
   "source": [
    "def on_3button_clicked(b):\n",
    "    output_count = widgets.Output()\n",
    "    concept_name = dropdown_concept_name.value\n",
    "    concept_name = list(concept_name)\n",
    "\n",
    "# concept_name = ['creatinine', 'albumin']\n",
    "    values_map = {}\n",
    "\n",
    "    a = 0\n",
    "    final_patient_ind_value_numeric = pd.DataFrame(columns = ['person_id'])\n",
    "    final_patient_ind_value_numeric['person_id'] = final_patient_ind_value_numeric['person_id'].astype(int)\n",
    "\n",
    "    dfss = []\n",
    "\n",
    "    for i in concept_name:\n",
    "        values_map['concept_name'] = concept_name[a]\n",
    "        values_map['patient_id'] = patient_id \n",
    "        a = a+1\n",
    "\n",
    "        patient_value_numeric = (\"\"\" select o.person_id, o.value_numeric from obs as o where o.concept_id IN (SELECT c.concept_id FROM concept as c WHERE c.description = '{concept_name}') AND o.person_id = {patient_id}\"\"\")\n",
    "        patient_value_numeric = patient_value_numeric.format(**values_map)\n",
    "\n",
    "        patient_ind_value_numeric = pd.read_sql(patient_value_numeric, con = conn)\n",
    "    \n",
    "        patient_ind_value_numeric.columns = [*patient_ind_value_numeric.columns[:-1], i]\n",
    "    \n",
    "        name = \"patient_ind_value_numeric\" + i\n",
    "     \n",
    "        locals()[name] = patient_ind_value_numeric.copy()\n",
    "\n",
    "        dfss.append(locals()[name])\n",
    "\n",
    "    ls = [df.set_index('person_id') for df in dfss]\n",
    "\n",
    "# pd.DataFrame.join accepts a list of dataframes as 'other'\n",
    "    final_patient_ind_value_numeric = ls[0].append(ls[1:])\n",
    "# final_patient_ind_value_numeric = ls[0].join(ls[1:], how = 'inner')\n",
    "    final_patient_ind_value_numeric = final_patient_ind_value_numeric.reset_index(drop = False)\n",
    "\n",
    "    for column in final_patient_ind_value_numeric.columns:\n",
    "        final_patient_ind_value_numeric[column] = final_patient_ind_value_numeric[column].fillna(final_patient_ind_value_numeric[column].mean())\n",
    "\n",
    "    def individual_patient_value():\n",
    "        display(final_patient_ind_value_numeric)\n",
    "    individual_patient_value() "
   ]
  },
  {
   "cell_type": "code",
   "execution_count": 1173,
   "id": "8cd6fef9",
   "metadata": {
    "extensions": {
     "jupyter_dashboards": {
      "version": 1,
      "views": {
       "grid_default": {},
       "report_default": {
        "hidden": false
       }
      }
     }
    },
    "scrolled": true
   },
   "outputs": [],
   "source": [
    "def patient_cohort_concept_():\n",
    "    output_count = widgets.Output()\n",
    "\n",
    "    concept_name = dropdown_concept_name.value\n",
    "    concept_name = list(concept_name)\n",
    "    concept_name\n",
    "\n",
    "# concept_name = ['creatinine', 'albumin']\n",
    "    values_map = {}\n",
    "    a = 0\n",
    "# final_patient_cohort_concept = pd.DataFrame(columns = ['person_id'])\n",
    "# final_patient_cohort_concept['person_id'] = final_patient_cohort_concept['person_id'].astype(int)\n",
    "\n",
    "    dfs = []\n",
    "\n",
    "    for i in concept_name:\n",
    "        values_map['concept_name'] = concept_name[a]\n",
    "        values_map['patient_id'] = patient_id \n",
    "        a = a+1\n",
    "    \n",
    "        sql_query = (\"\"\"select person_id, value_numeric from obs where person_id IN (select p.person_id from person p, \n",
    "                mimic_openmrs_cdss cdss where p.person_id IN (select patient_id from encounter_diagnosis where \n",
    "                diagnosis_coded IN (select c.concept_id from concept c where c.description LIKE \n",
    "                ('Pneumonia, unspecified organism')) AND cdss.person_id=p.person_id AND p.gender='M' \n",
    "                AND cdss.age_group_code=7)) AND concept_id = (select c.concept_id from concept c where c.description = '{concept_name}')\"\"\")\n",
    "\n",
    "        sql_query = sql_query.format(**values_map)\n",
    "\n",
    "        patient_cohort_concept = pd.read_sql(sql_query, con = conn)\n",
    "        patient_cohort_concept.columns = [*patient_cohort_concept.columns[:-1], i]\n",
    "    \n",
    "        name = \"patient_cohort_concept\" + i\n",
    "    \n",
    " \n",
    "        locals()[name] = patient_cohort_concept.copy()\n",
    "\n",
    "        dfs.append(locals()[name])\n",
    "    \n",
    "    \n",
    "   \n",
    "#     final_patient_cohort_concept.merge(patient_cohort_concept, on = 'person_id', how = 'outer')\n",
    "\n",
    "#    final_patient_cohort_concept = pd.merge(patient_cohort_concept, final_patient_cohort_concept, on='person_id', how='inner')\n",
    "\n",
    "#  l = [df.set_index('person_id') for df in dfs] \n",
    "\n",
    "    l = [df for df in dfs] \n",
    "\n",
    "# pd.DataFrame.join accepts a list of dataframes as 'other' \n",
    "    final_patient_cohort_concept = l[0].append(l[1:])\n",
    "\n",
    "\n",
    "# final_patient_cohort_concept = l[0].append(l[1:])\n",
    "\n",
    "# final_patient_cohort_concept = final_patient_cohort_concept.reset_index(drop = False)\n",
    "\n",
    "    for column in final_patient_cohort_concept.columns:\n",
    "        final_patient_cohort_concept[column] = final_patient_cohort_concept[column].fillna(final_patient_cohort_concept[column].mean())\n",
    "\n",
    "        out = widgets.Output()\n",
    "        with out:\n",
    "            display(final_patient_cohort_concept)\n",
    "        return out\n",
    "\n",
    "# # Getting total count of the patient cohort as text widget\n",
    "\n",
    "    total_count_cohort = len(final_patient_cohort_concept)\n",
    "    text_patient_cohort_count = widgets.IntText(value = total_count_cohort , description= 'Total count:')\n",
    "    display(text_patient_cohort_count)\n",
    "    patient_cohort_concept_() "
   ]
  },
  {
   "cell_type": "code",
   "execution_count": 1174,
   "id": "8256b8eb",
   "metadata": {
    "extensions": {
     "jupyter_dashboards": {
      "version": 1,
      "views": {
       "grid_default": {},
       "report_default": {
        "hidden": true
       }
      }
     }
    }
   },
   "outputs": [],
   "source": [
    "# getting the dropdown for concept_name"
   ]
  },
  {
   "cell_type": "markdown",
   "id": "bbc0f2ad",
   "metadata": {
    "extensions": {
     "jupyter_dashboards": {
      "version": 1,
      "views": {
       "grid_default": {},
       "report_default": {
        "hidden": false
       }
      }
     }
    }
   },
   "source": [
    "<div class=\"card\" style=\"box-shadow: 0 4px 8px 0 rgba(0, 0, 0, 0.2);max-width: 100%; margin: auto;padding:10px; font-family: arial;background:#D9D9D9\">\n",
    "    <p>Please choose one or multiple <b style=\"color:#195734\">CONCEPT NAMES</b> to run your analysis on.For choosing multiple options,press CTRL:</p>\n",
    " </div>"
   ]
  },
  {
   "cell_type": "code",
   "execution_count": 1175,
   "id": "2f61ccd7",
   "metadata": {
    "extensions": {
     "jupyter_dashboards": {
      "version": 1,
      "views": {
       "grid_default": {},
       "report_default": {
        "hidden": false
       }
      }
     }
    }
   },
   "outputs": [
    {
     "data": {
      "application/vnd.jupyter.widget-view+json": {
       "model_id": "f3c31d884476428bba5739ab7647bab2",
       "version_major": 2,
       "version_minor": 0
      },
      "text/plain": [
       "SelectMultiple(options=('mcv', 'monos', 'sodium, urine', 'white blood cells', 'cholesterol, pleural', 'chlorid…"
      ]
     },
     "metadata": {},
     "output_type": "display_data"
    },
    {
     "data": {
      "application/vnd.jupyter.widget-view+json": {
       "model_id": "1c78485a91394321bcb0dc1802686b75",
       "version_major": 2,
       "version_minor": 0
      },
      "text/plain": [
       "Button(description='Click after multiple selection!', style=ButtonStyle())"
      ]
     },
     "metadata": {},
     "output_type": "display_data"
    },
    {
     "data": {
      "application/vnd.jupyter.widget-view+json": {
       "model_id": "3bd43db7363d4ecaa116d0f14d03d295",
       "version_major": 2,
       "version_minor": 0
      },
      "text/plain": [
       "Output()"
      ]
     },
     "metadata": {},
     "output_type": "display_data"
    },
    {
     "name": "stderr",
     "output_type": "stream",
     "text": [
      "/tmp/ipykernel_45791/1020584946.py:29: UserWarning: pandas only supports SQLAlchemy connectable (engine/connection) or database string URI or sqlite3 DBAPI2 connection. Other DBAPI2 objects are not tested. Please consider using SQLAlchemy.\n",
      "  patient_cohort_concept = pd.read_sql(sql_query, con = conn)\n"
     ]
    },
    {
     "ename": "DatabaseError",
     "evalue": "Execution failed on sql: select person_id, value_numeric from obs where person_id IN (select p.person_id from person p, \n                mimic_openmrs_cdss cdss where p.person_id IN (select patient_id from encounter_diagnosis where \n                diagnosis_coded IN (select c.concept_id from concept c where c.description LIKE \n                ('Pneumonia, unspecified organism')) AND cdss.person_id=p.person_id AND p.gender='M' \n                AND cdss.age_group_code=7)) AND concept_id = (select c.concept_id from concept c where c.description = 'mcv')\n(2013, 'Lost connection to MySQL server during query')\nunable to rollback",
     "output_type": "error",
     "traceback": [
      "\u001b[0;31m---------------------------------------------------------------------------\u001b[0m",
      "\u001b[0;31mOperationalError\u001b[0m                          Traceback (most recent call last)",
      "File \u001b[0;32m~/.local/lib/python3.8/site-packages/pandas/io/sql.py:2018\u001b[0m, in \u001b[0;36mSQLiteDatabase.execute\u001b[0;34m(self, *args, **kwargs)\u001b[0m\n\u001b[1;32m   2017\u001b[0m \u001b[38;5;28;01mtry\u001b[39;00m:\n\u001b[0;32m-> 2018\u001b[0m     \u001b[43mcur\u001b[49m\u001b[38;5;241;43m.\u001b[39;49m\u001b[43mexecute\u001b[49m\u001b[43m(\u001b[49m\u001b[38;5;241;43m*\u001b[39;49m\u001b[43margs\u001b[49m\u001b[43m,\u001b[49m\u001b[43m \u001b[49m\u001b[38;5;241;43m*\u001b[39;49m\u001b[38;5;241;43m*\u001b[39;49m\u001b[43mkwargs\u001b[49m\u001b[43m)\u001b[49m\n\u001b[1;32m   2019\u001b[0m     \u001b[38;5;28;01mreturn\u001b[39;00m cur\n",
      "File \u001b[0;32m~/.local/lib/python3.8/site-packages/MySQLdb/cursors.py:206\u001b[0m, in \u001b[0;36mBaseCursor.execute\u001b[0;34m(self, query, args)\u001b[0m\n\u001b[1;32m    205\u001b[0m \u001b[38;5;28;01massert\u001b[39;00m \u001b[38;5;28misinstance\u001b[39m(query, (\u001b[38;5;28mbytes\u001b[39m, \u001b[38;5;28mbytearray\u001b[39m))\n\u001b[0;32m--> 206\u001b[0m res \u001b[38;5;241m=\u001b[39m \u001b[38;5;28;43mself\u001b[39;49m\u001b[38;5;241;43m.\u001b[39;49m\u001b[43m_query\u001b[49m\u001b[43m(\u001b[49m\u001b[43mquery\u001b[49m\u001b[43m)\u001b[49m\n\u001b[1;32m    207\u001b[0m \u001b[38;5;28;01mreturn\u001b[39;00m res\n",
      "File \u001b[0;32m~/.local/lib/python3.8/site-packages/MySQLdb/cursors.py:319\u001b[0m, in \u001b[0;36mBaseCursor._query\u001b[0;34m(self, q)\u001b[0m\n\u001b[1;32m    318\u001b[0m \u001b[38;5;28mself\u001b[39m\u001b[38;5;241m.\u001b[39m_result \u001b[38;5;241m=\u001b[39m \u001b[38;5;28;01mNone\u001b[39;00m\n\u001b[0;32m--> 319\u001b[0m \u001b[43mdb\u001b[49m\u001b[38;5;241;43m.\u001b[39;49m\u001b[43mquery\u001b[49m\u001b[43m(\u001b[49m\u001b[43mq\u001b[49m\u001b[43m)\u001b[49m\n\u001b[1;32m    320\u001b[0m \u001b[38;5;28mself\u001b[39m\u001b[38;5;241m.\u001b[39m_do_get_result(db)\n",
      "File \u001b[0;32m~/.local/lib/python3.8/site-packages/MySQLdb/connections.py:254\u001b[0m, in \u001b[0;36mConnection.query\u001b[0;34m(self, query)\u001b[0m\n\u001b[1;32m    253\u001b[0m     query \u001b[38;5;241m=\u001b[39m \u001b[38;5;28mbytes\u001b[39m(query)\n\u001b[0;32m--> 254\u001b[0m \u001b[43m_mysql\u001b[49m\u001b[38;5;241;43m.\u001b[39;49m\u001b[43mconnection\u001b[49m\u001b[38;5;241;43m.\u001b[39;49m\u001b[43mquery\u001b[49m\u001b[43m(\u001b[49m\u001b[38;5;28;43mself\u001b[39;49m\u001b[43m,\u001b[49m\u001b[43m \u001b[49m\u001b[43mquery\u001b[49m\u001b[43m)\u001b[49m\n",
      "\u001b[0;31mOperationalError\u001b[0m: (2013, 'Lost connection to MySQL server during query')",
      "\nDuring handling of the above exception, another exception occurred:\n",
      "\u001b[0;31mOperationalError\u001b[0m                          Traceback (most recent call last)",
      "File \u001b[0;32m~/.local/lib/python3.8/site-packages/pandas/io/sql.py:2022\u001b[0m, in \u001b[0;36mSQLiteDatabase.execute\u001b[0;34m(self, *args, **kwargs)\u001b[0m\n\u001b[1;32m   2021\u001b[0m \u001b[38;5;28;01mtry\u001b[39;00m:\n\u001b[0;32m-> 2022\u001b[0m     \u001b[38;5;28;43mself\u001b[39;49m\u001b[38;5;241;43m.\u001b[39;49m\u001b[43mcon\u001b[49m\u001b[38;5;241;43m.\u001b[39;49m\u001b[43mrollback\u001b[49m\u001b[43m(\u001b[49m\u001b[43m)\u001b[49m\n\u001b[1;32m   2023\u001b[0m \u001b[38;5;28;01mexcept\u001b[39;00m \u001b[38;5;167;01mException\u001b[39;00m \u001b[38;5;28;01mas\u001b[39;00m inner_exc:  \u001b[38;5;66;03m# pragma: no cover\u001b[39;00m\n",
      "\u001b[0;31mOperationalError\u001b[0m: (2013, 'Lost connection to MySQL server during query')",
      "\nThe above exception was the direct cause of the following exception:\n",
      "\u001b[0;31mDatabaseError\u001b[0m                             Traceback (most recent call last)",
      "Cell \u001b[0;32mIn [1175], line 11\u001b[0m, in \u001b[0;36mdropdown_concept_name_eventhandler\u001b[0;34m(change)\u001b[0m\n\u001b[1;32m      9\u001b[0m \u001b[38;5;28;01mwith\u001b[39;00m output_concept_name:\n\u001b[1;32m     10\u001b[0m     display(patient_attribute_df[patient_attribute_df[\u001b[38;5;124m\"\u001b[39m\u001b[38;5;124mname\u001b[39m\u001b[38;5;124m\"\u001b[39m] \u001b[38;5;241m==\u001b[39m change\u001b[38;5;241m.\u001b[39mnew])\n\u001b[0;32m---> 11\u001b[0m \u001b[43mpatient_cohort_concept_\u001b[49m\u001b[43m(\u001b[49m\u001b[43m)\u001b[49m\n\u001b[1;32m     12\u001b[0m on_3button_clicked(dropdown_concept_name\u001b[38;5;241m.\u001b[39mvalue)\n",
      "Cell \u001b[0;32mIn [1173], line 29\u001b[0m, in \u001b[0;36mpatient_cohort_concept_\u001b[0;34m()\u001b[0m\n\u001b[1;32m     21\u001b[0m sql_query \u001b[38;5;241m=\u001b[39m (\u001b[38;5;124m\"\"\"\u001b[39m\u001b[38;5;124mselect person_id, value_numeric from obs where person_id IN (select p.person_id from person p, \u001b[39m\n\u001b[1;32m     22\u001b[0m \u001b[38;5;124m        mimic_openmrs_cdss cdss where p.person_id IN (select patient_id from encounter_diagnosis where \u001b[39m\n\u001b[1;32m     23\u001b[0m \u001b[38;5;124m        diagnosis_coded IN (select c.concept_id from concept c where c.description LIKE \u001b[39m\n\u001b[1;32m     24\u001b[0m \u001b[38;5;124m        (\u001b[39m\u001b[38;5;124m'\u001b[39m\u001b[38;5;124mPneumonia, unspecified organism\u001b[39m\u001b[38;5;124m'\u001b[39m\u001b[38;5;124m)) AND cdss.person_id=p.person_id AND p.gender=\u001b[39m\u001b[38;5;124m'\u001b[39m\u001b[38;5;124mM\u001b[39m\u001b[38;5;124m'\u001b[39m\u001b[38;5;124m \u001b[39m\n\u001b[1;32m     25\u001b[0m \u001b[38;5;124m        AND cdss.age_group_code=7)) AND concept_id = (select c.concept_id from concept c where c.description = \u001b[39m\u001b[38;5;124m'\u001b[39m\u001b[38;5;132;01m{concept_name}\u001b[39;00m\u001b[38;5;124m'\u001b[39m\u001b[38;5;124m)\u001b[39m\u001b[38;5;124m\"\"\"\u001b[39m)\n\u001b[1;32m     27\u001b[0m sql_query \u001b[38;5;241m=\u001b[39m sql_query\u001b[38;5;241m.\u001b[39mformat(\u001b[38;5;241m*\u001b[39m\u001b[38;5;241m*\u001b[39mvalues_map)\n\u001b[0;32m---> 29\u001b[0m patient_cohort_concept \u001b[38;5;241m=\u001b[39m \u001b[43mpd\u001b[49m\u001b[38;5;241;43m.\u001b[39;49m\u001b[43mread_sql\u001b[49m\u001b[43m(\u001b[49m\u001b[43msql_query\u001b[49m\u001b[43m,\u001b[49m\u001b[43m \u001b[49m\u001b[43mcon\u001b[49m\u001b[43m \u001b[49m\u001b[38;5;241;43m=\u001b[39;49m\u001b[43m \u001b[49m\u001b[43mconn\u001b[49m\u001b[43m)\u001b[49m\n\u001b[1;32m     30\u001b[0m patient_cohort_concept\u001b[38;5;241m.\u001b[39mcolumns \u001b[38;5;241m=\u001b[39m [\u001b[38;5;241m*\u001b[39mpatient_cohort_concept\u001b[38;5;241m.\u001b[39mcolumns[:\u001b[38;5;241m-\u001b[39m\u001b[38;5;241m1\u001b[39m], i]\n\u001b[1;32m     32\u001b[0m name \u001b[38;5;241m=\u001b[39m \u001b[38;5;124m\"\u001b[39m\u001b[38;5;124mpatient_cohort_concept\u001b[39m\u001b[38;5;124m\"\u001b[39m \u001b[38;5;241m+\u001b[39m i\n",
      "File \u001b[0;32m~/.local/lib/python3.8/site-packages/pandas/io/sql.py:564\u001b[0m, in \u001b[0;36mread_sql\u001b[0;34m(sql, con, index_col, coerce_float, params, parse_dates, columns, chunksize)\u001b[0m\n\u001b[1;32m    561\u001b[0m pandas_sql \u001b[38;5;241m=\u001b[39m pandasSQL_builder(con)\n\u001b[1;32m    563\u001b[0m \u001b[38;5;28;01mif\u001b[39;00m \u001b[38;5;28misinstance\u001b[39m(pandas_sql, SQLiteDatabase):\n\u001b[0;32m--> 564\u001b[0m     \u001b[38;5;28;01mreturn\u001b[39;00m \u001b[43mpandas_sql\u001b[49m\u001b[38;5;241;43m.\u001b[39;49m\u001b[43mread_query\u001b[49m\u001b[43m(\u001b[49m\n\u001b[1;32m    565\u001b[0m \u001b[43m        \u001b[49m\u001b[43msql\u001b[49m\u001b[43m,\u001b[49m\n\u001b[1;32m    566\u001b[0m \u001b[43m        \u001b[49m\u001b[43mindex_col\u001b[49m\u001b[38;5;241;43m=\u001b[39;49m\u001b[43mindex_col\u001b[49m\u001b[43m,\u001b[49m\n\u001b[1;32m    567\u001b[0m \u001b[43m        \u001b[49m\u001b[43mparams\u001b[49m\u001b[38;5;241;43m=\u001b[39;49m\u001b[43mparams\u001b[49m\u001b[43m,\u001b[49m\n\u001b[1;32m    568\u001b[0m \u001b[43m        \u001b[49m\u001b[43mcoerce_float\u001b[49m\u001b[38;5;241;43m=\u001b[39;49m\u001b[43mcoerce_float\u001b[49m\u001b[43m,\u001b[49m\n\u001b[1;32m    569\u001b[0m \u001b[43m        \u001b[49m\u001b[43mparse_dates\u001b[49m\u001b[38;5;241;43m=\u001b[39;49m\u001b[43mparse_dates\u001b[49m\u001b[43m,\u001b[49m\n\u001b[1;32m    570\u001b[0m \u001b[43m        \u001b[49m\u001b[43mchunksize\u001b[49m\u001b[38;5;241;43m=\u001b[39;49m\u001b[43mchunksize\u001b[49m\u001b[43m,\u001b[49m\n\u001b[1;32m    571\u001b[0m \u001b[43m    \u001b[49m\u001b[43m)\u001b[49m\n\u001b[1;32m    573\u001b[0m \u001b[38;5;28;01mtry\u001b[39;00m:\n\u001b[1;32m    574\u001b[0m     _is_table_name \u001b[38;5;241m=\u001b[39m pandas_sql\u001b[38;5;241m.\u001b[39mhas_table(sql)\n",
      "File \u001b[0;32m~/.local/lib/python3.8/site-packages/pandas/io/sql.py:2078\u001b[0m, in \u001b[0;36mSQLiteDatabase.read_query\u001b[0;34m(self, sql, index_col, coerce_float, params, parse_dates, chunksize, dtype)\u001b[0m\n\u001b[1;32m   2066\u001b[0m \u001b[38;5;28;01mdef\u001b[39;00m \u001b[38;5;21mread_query\u001b[39m(\n\u001b[1;32m   2067\u001b[0m     \u001b[38;5;28mself\u001b[39m,\n\u001b[1;32m   2068\u001b[0m     sql,\n\u001b[0;32m   (...)\u001b[0m\n\u001b[1;32m   2074\u001b[0m     dtype: DtypeArg \u001b[38;5;241m|\u001b[39m \u001b[38;5;28;01mNone\u001b[39;00m \u001b[38;5;241m=\u001b[39m \u001b[38;5;28;01mNone\u001b[39;00m,\n\u001b[1;32m   2075\u001b[0m ) \u001b[38;5;241m-\u001b[39m\u001b[38;5;241m>\u001b[39m DataFrame \u001b[38;5;241m|\u001b[39m Iterator[DataFrame]:\n\u001b[1;32m   2077\u001b[0m     args \u001b[38;5;241m=\u001b[39m _convert_params(sql, params)\n\u001b[0;32m-> 2078\u001b[0m     cursor \u001b[38;5;241m=\u001b[39m \u001b[38;5;28;43mself\u001b[39;49m\u001b[38;5;241;43m.\u001b[39;49m\u001b[43mexecute\u001b[49m\u001b[43m(\u001b[49m\u001b[38;5;241;43m*\u001b[39;49m\u001b[43margs\u001b[49m\u001b[43m)\u001b[49m\n\u001b[1;32m   2079\u001b[0m     columns \u001b[38;5;241m=\u001b[39m [col_desc[\u001b[38;5;241m0\u001b[39m] \u001b[38;5;28;01mfor\u001b[39;00m col_desc \u001b[38;5;129;01min\u001b[39;00m cursor\u001b[38;5;241m.\u001b[39mdescription]\n\u001b[1;32m   2081\u001b[0m     \u001b[38;5;28;01mif\u001b[39;00m chunksize \u001b[38;5;129;01mis\u001b[39;00m \u001b[38;5;129;01mnot\u001b[39;00m \u001b[38;5;28;01mNone\u001b[39;00m:\n",
      "File \u001b[0;32m~/.local/lib/python3.8/site-packages/pandas/io/sql.py:2027\u001b[0m, in \u001b[0;36mSQLiteDatabase.execute\u001b[0;34m(self, *args, **kwargs)\u001b[0m\n\u001b[1;32m   2023\u001b[0m \u001b[38;5;28;01mexcept\u001b[39;00m \u001b[38;5;167;01mException\u001b[39;00m \u001b[38;5;28;01mas\u001b[39;00m inner_exc:  \u001b[38;5;66;03m# pragma: no cover\u001b[39;00m\n\u001b[1;32m   2024\u001b[0m     ex \u001b[38;5;241m=\u001b[39m DatabaseError(\n\u001b[1;32m   2025\u001b[0m         \u001b[38;5;124mf\u001b[39m\u001b[38;5;124m\"\u001b[39m\u001b[38;5;124mExecution failed on sql: \u001b[39m\u001b[38;5;132;01m{\u001b[39;00margs[\u001b[38;5;241m0\u001b[39m]\u001b[38;5;132;01m}\u001b[39;00m\u001b[38;5;130;01m\\n\u001b[39;00m\u001b[38;5;132;01m{\u001b[39;00mexc\u001b[38;5;132;01m}\u001b[39;00m\u001b[38;5;130;01m\\n\u001b[39;00m\u001b[38;5;124munable to rollback\u001b[39m\u001b[38;5;124m\"\u001b[39m\n\u001b[1;32m   2026\u001b[0m     )\n\u001b[0;32m-> 2027\u001b[0m     \u001b[38;5;28;01mraise\u001b[39;00m ex \u001b[38;5;28;01mfrom\u001b[39;00m \u001b[38;5;21;01minner_exc\u001b[39;00m\n\u001b[1;32m   2029\u001b[0m ex \u001b[38;5;241m=\u001b[39m DatabaseError(\u001b[38;5;124mf\u001b[39m\u001b[38;5;124m\"\u001b[39m\u001b[38;5;124mExecution failed on sql \u001b[39m\u001b[38;5;124m'\u001b[39m\u001b[38;5;132;01m{\u001b[39;00margs[\u001b[38;5;241m0\u001b[39m]\u001b[38;5;132;01m}\u001b[39;00m\u001b[38;5;124m'\u001b[39m\u001b[38;5;124m: \u001b[39m\u001b[38;5;132;01m{\u001b[39;00mexc\u001b[38;5;132;01m}\u001b[39;00m\u001b[38;5;124m\"\u001b[39m)\n\u001b[1;32m   2030\u001b[0m \u001b[38;5;28;01mraise\u001b[39;00m ex \u001b[38;5;28;01mfrom\u001b[39;00m \u001b[38;5;21;01mexc\u001b[39;00m\n",
      "\u001b[0;31mDatabaseError\u001b[0m: Execution failed on sql: select person_id, value_numeric from obs where person_id IN (select p.person_id from person p, \n                mimic_openmrs_cdss cdss where p.person_id IN (select patient_id from encounter_diagnosis where \n                diagnosis_coded IN (select c.concept_id from concept c where c.description LIKE \n                ('Pneumonia, unspecified organism')) AND cdss.person_id=p.person_id AND p.gender='M' \n                AND cdss.age_group_code=7)) AND concept_id = (select c.concept_id from concept c where c.description = 'mcv')\n(2013, 'Lost connection to MySQL server during query')\nunable to rollback"
     ]
    },
    {
     "name": "stderr",
     "output_type": "stream",
     "text": [
      "/tmp/ipykernel_45791/1020584946.py:29: UserWarning: pandas only supports SQLAlchemy connectable (engine/connection) or database string URI or sqlite3 DBAPI2 connection. Other DBAPI2 objects are not tested. Please consider using SQLAlchemy.\n",
      "  patient_cohort_concept = pd.read_sql(sql_query, con = conn)\n"
     ]
    },
    {
     "ename": "DatabaseError",
     "evalue": "Execution failed on sql: select person_id, value_numeric from obs where person_id IN (select p.person_id from person p, \n                mimic_openmrs_cdss cdss where p.person_id IN (select patient_id from encounter_diagnosis where \n                diagnosis_coded IN (select c.concept_id from concept c where c.description LIKE \n                ('Pneumonia, unspecified organism')) AND cdss.person_id=p.person_id AND p.gender='M' \n                AND cdss.age_group_code=7)) AND concept_id = (select c.concept_id from concept c where c.description = 'mcv')\n(2013, 'Lost connection to MySQL server during query')\nunable to rollback",
     "output_type": "error",
     "traceback": [
      "\u001b[0;31m---------------------------------------------------------------------------\u001b[0m",
      "\u001b[0;31mOperationalError\u001b[0m                          Traceback (most recent call last)",
      "File \u001b[0;32m~/.local/lib/python3.8/site-packages/pandas/io/sql.py:2018\u001b[0m, in \u001b[0;36mSQLiteDatabase.execute\u001b[0;34m(self, *args, **kwargs)\u001b[0m\n\u001b[1;32m   2017\u001b[0m \u001b[38;5;28;01mtry\u001b[39;00m:\n\u001b[0;32m-> 2018\u001b[0m     \u001b[43mcur\u001b[49m\u001b[38;5;241;43m.\u001b[39;49m\u001b[43mexecute\u001b[49m\u001b[43m(\u001b[49m\u001b[38;5;241;43m*\u001b[39;49m\u001b[43margs\u001b[49m\u001b[43m,\u001b[49m\u001b[43m \u001b[49m\u001b[38;5;241;43m*\u001b[39;49m\u001b[38;5;241;43m*\u001b[39;49m\u001b[43mkwargs\u001b[49m\u001b[43m)\u001b[49m\n\u001b[1;32m   2019\u001b[0m     \u001b[38;5;28;01mreturn\u001b[39;00m cur\n",
      "File \u001b[0;32m~/.local/lib/python3.8/site-packages/MySQLdb/cursors.py:206\u001b[0m, in \u001b[0;36mBaseCursor.execute\u001b[0;34m(self, query, args)\u001b[0m\n\u001b[1;32m    205\u001b[0m \u001b[38;5;28;01massert\u001b[39;00m \u001b[38;5;28misinstance\u001b[39m(query, (\u001b[38;5;28mbytes\u001b[39m, \u001b[38;5;28mbytearray\u001b[39m))\n\u001b[0;32m--> 206\u001b[0m res \u001b[38;5;241m=\u001b[39m \u001b[38;5;28;43mself\u001b[39;49m\u001b[38;5;241;43m.\u001b[39;49m\u001b[43m_query\u001b[49m\u001b[43m(\u001b[49m\u001b[43mquery\u001b[49m\u001b[43m)\u001b[49m\n\u001b[1;32m    207\u001b[0m \u001b[38;5;28;01mreturn\u001b[39;00m res\n",
      "File \u001b[0;32m~/.local/lib/python3.8/site-packages/MySQLdb/cursors.py:319\u001b[0m, in \u001b[0;36mBaseCursor._query\u001b[0;34m(self, q)\u001b[0m\n\u001b[1;32m    318\u001b[0m \u001b[38;5;28mself\u001b[39m\u001b[38;5;241m.\u001b[39m_result \u001b[38;5;241m=\u001b[39m \u001b[38;5;28;01mNone\u001b[39;00m\n\u001b[0;32m--> 319\u001b[0m \u001b[43mdb\u001b[49m\u001b[38;5;241;43m.\u001b[39;49m\u001b[43mquery\u001b[49m\u001b[43m(\u001b[49m\u001b[43mq\u001b[49m\u001b[43m)\u001b[49m\n\u001b[1;32m    320\u001b[0m \u001b[38;5;28mself\u001b[39m\u001b[38;5;241m.\u001b[39m_do_get_result(db)\n",
      "File \u001b[0;32m~/.local/lib/python3.8/site-packages/MySQLdb/connections.py:254\u001b[0m, in \u001b[0;36mConnection.query\u001b[0;34m(self, query)\u001b[0m\n\u001b[1;32m    253\u001b[0m     query \u001b[38;5;241m=\u001b[39m \u001b[38;5;28mbytes\u001b[39m(query)\n\u001b[0;32m--> 254\u001b[0m \u001b[43m_mysql\u001b[49m\u001b[38;5;241;43m.\u001b[39;49m\u001b[43mconnection\u001b[49m\u001b[38;5;241;43m.\u001b[39;49m\u001b[43mquery\u001b[49m\u001b[43m(\u001b[49m\u001b[38;5;28;43mself\u001b[39;49m\u001b[43m,\u001b[49m\u001b[43m \u001b[49m\u001b[43mquery\u001b[49m\u001b[43m)\u001b[49m\n",
      "\u001b[0;31mOperationalError\u001b[0m: (2013, 'Lost connection to MySQL server during query')",
      "\nDuring handling of the above exception, another exception occurred:\n",
      "\u001b[0;31mOperationalError\u001b[0m                          Traceback (most recent call last)",
      "File \u001b[0;32m~/.local/lib/python3.8/site-packages/pandas/io/sql.py:2022\u001b[0m, in \u001b[0;36mSQLiteDatabase.execute\u001b[0;34m(self, *args, **kwargs)\u001b[0m\n\u001b[1;32m   2021\u001b[0m \u001b[38;5;28;01mtry\u001b[39;00m:\n\u001b[0;32m-> 2022\u001b[0m     \u001b[38;5;28;43mself\u001b[39;49m\u001b[38;5;241;43m.\u001b[39;49m\u001b[43mcon\u001b[49m\u001b[38;5;241;43m.\u001b[39;49m\u001b[43mrollback\u001b[49m\u001b[43m(\u001b[49m\u001b[43m)\u001b[49m\n\u001b[1;32m   2023\u001b[0m \u001b[38;5;28;01mexcept\u001b[39;00m \u001b[38;5;167;01mException\u001b[39;00m \u001b[38;5;28;01mas\u001b[39;00m inner_exc:  \u001b[38;5;66;03m# pragma: no cover\u001b[39;00m\n",
      "\u001b[0;31mOperationalError\u001b[0m: (2013, 'Lost connection to MySQL server during query')",
      "\nThe above exception was the direct cause of the following exception:\n",
      "\u001b[0;31mDatabaseError\u001b[0m                             Traceback (most recent call last)",
      "Cell \u001b[0;32mIn [1175], line 11\u001b[0m, in \u001b[0;36mdropdown_concept_name_eventhandler\u001b[0;34m(change)\u001b[0m\n\u001b[1;32m      9\u001b[0m \u001b[38;5;28;01mwith\u001b[39;00m output_concept_name:\n\u001b[1;32m     10\u001b[0m     display(patient_attribute_df[patient_attribute_df[\u001b[38;5;124m\"\u001b[39m\u001b[38;5;124mname\u001b[39m\u001b[38;5;124m\"\u001b[39m] \u001b[38;5;241m==\u001b[39m change\u001b[38;5;241m.\u001b[39mnew])\n\u001b[0;32m---> 11\u001b[0m \u001b[43mpatient_cohort_concept_\u001b[49m\u001b[43m(\u001b[49m\u001b[43m)\u001b[49m\n\u001b[1;32m     12\u001b[0m on_3button_clicked(dropdown_concept_name\u001b[38;5;241m.\u001b[39mvalue)\n",
      "Cell \u001b[0;32mIn [1173], line 29\u001b[0m, in \u001b[0;36mpatient_cohort_concept_\u001b[0;34m()\u001b[0m\n\u001b[1;32m     21\u001b[0m sql_query \u001b[38;5;241m=\u001b[39m (\u001b[38;5;124m\"\"\"\u001b[39m\u001b[38;5;124mselect person_id, value_numeric from obs where person_id IN (select p.person_id from person p, \u001b[39m\n\u001b[1;32m     22\u001b[0m \u001b[38;5;124m        mimic_openmrs_cdss cdss where p.person_id IN (select patient_id from encounter_diagnosis where \u001b[39m\n\u001b[1;32m     23\u001b[0m \u001b[38;5;124m        diagnosis_coded IN (select c.concept_id from concept c where c.description LIKE \u001b[39m\n\u001b[1;32m     24\u001b[0m \u001b[38;5;124m        (\u001b[39m\u001b[38;5;124m'\u001b[39m\u001b[38;5;124mPneumonia, unspecified organism\u001b[39m\u001b[38;5;124m'\u001b[39m\u001b[38;5;124m)) AND cdss.person_id=p.person_id AND p.gender=\u001b[39m\u001b[38;5;124m'\u001b[39m\u001b[38;5;124mM\u001b[39m\u001b[38;5;124m'\u001b[39m\u001b[38;5;124m \u001b[39m\n\u001b[1;32m     25\u001b[0m \u001b[38;5;124m        AND cdss.age_group_code=7)) AND concept_id = (select c.concept_id from concept c where c.description = \u001b[39m\u001b[38;5;124m'\u001b[39m\u001b[38;5;132;01m{concept_name}\u001b[39;00m\u001b[38;5;124m'\u001b[39m\u001b[38;5;124m)\u001b[39m\u001b[38;5;124m\"\"\"\u001b[39m)\n\u001b[1;32m     27\u001b[0m sql_query \u001b[38;5;241m=\u001b[39m sql_query\u001b[38;5;241m.\u001b[39mformat(\u001b[38;5;241m*\u001b[39m\u001b[38;5;241m*\u001b[39mvalues_map)\n\u001b[0;32m---> 29\u001b[0m patient_cohort_concept \u001b[38;5;241m=\u001b[39m \u001b[43mpd\u001b[49m\u001b[38;5;241;43m.\u001b[39;49m\u001b[43mread_sql\u001b[49m\u001b[43m(\u001b[49m\u001b[43msql_query\u001b[49m\u001b[43m,\u001b[49m\u001b[43m \u001b[49m\u001b[43mcon\u001b[49m\u001b[43m \u001b[49m\u001b[38;5;241;43m=\u001b[39;49m\u001b[43m \u001b[49m\u001b[43mconn\u001b[49m\u001b[43m)\u001b[49m\n\u001b[1;32m     30\u001b[0m patient_cohort_concept\u001b[38;5;241m.\u001b[39mcolumns \u001b[38;5;241m=\u001b[39m [\u001b[38;5;241m*\u001b[39mpatient_cohort_concept\u001b[38;5;241m.\u001b[39mcolumns[:\u001b[38;5;241m-\u001b[39m\u001b[38;5;241m1\u001b[39m], i]\n\u001b[1;32m     32\u001b[0m name \u001b[38;5;241m=\u001b[39m \u001b[38;5;124m\"\u001b[39m\u001b[38;5;124mpatient_cohort_concept\u001b[39m\u001b[38;5;124m\"\u001b[39m \u001b[38;5;241m+\u001b[39m i\n",
      "File \u001b[0;32m~/.local/lib/python3.8/site-packages/pandas/io/sql.py:564\u001b[0m, in \u001b[0;36mread_sql\u001b[0;34m(sql, con, index_col, coerce_float, params, parse_dates, columns, chunksize)\u001b[0m\n\u001b[1;32m    561\u001b[0m pandas_sql \u001b[38;5;241m=\u001b[39m pandasSQL_builder(con)\n\u001b[1;32m    563\u001b[0m \u001b[38;5;28;01mif\u001b[39;00m \u001b[38;5;28misinstance\u001b[39m(pandas_sql, SQLiteDatabase):\n\u001b[0;32m--> 564\u001b[0m     \u001b[38;5;28;01mreturn\u001b[39;00m \u001b[43mpandas_sql\u001b[49m\u001b[38;5;241;43m.\u001b[39;49m\u001b[43mread_query\u001b[49m\u001b[43m(\u001b[49m\n\u001b[1;32m    565\u001b[0m \u001b[43m        \u001b[49m\u001b[43msql\u001b[49m\u001b[43m,\u001b[49m\n\u001b[1;32m    566\u001b[0m \u001b[43m        \u001b[49m\u001b[43mindex_col\u001b[49m\u001b[38;5;241;43m=\u001b[39;49m\u001b[43mindex_col\u001b[49m\u001b[43m,\u001b[49m\n\u001b[1;32m    567\u001b[0m \u001b[43m        \u001b[49m\u001b[43mparams\u001b[49m\u001b[38;5;241;43m=\u001b[39;49m\u001b[43mparams\u001b[49m\u001b[43m,\u001b[49m\n\u001b[1;32m    568\u001b[0m \u001b[43m        \u001b[49m\u001b[43mcoerce_float\u001b[49m\u001b[38;5;241;43m=\u001b[39;49m\u001b[43mcoerce_float\u001b[49m\u001b[43m,\u001b[49m\n\u001b[1;32m    569\u001b[0m \u001b[43m        \u001b[49m\u001b[43mparse_dates\u001b[49m\u001b[38;5;241;43m=\u001b[39;49m\u001b[43mparse_dates\u001b[49m\u001b[43m,\u001b[49m\n\u001b[1;32m    570\u001b[0m \u001b[43m        \u001b[49m\u001b[43mchunksize\u001b[49m\u001b[38;5;241;43m=\u001b[39;49m\u001b[43mchunksize\u001b[49m\u001b[43m,\u001b[49m\n\u001b[1;32m    571\u001b[0m \u001b[43m    \u001b[49m\u001b[43m)\u001b[49m\n\u001b[1;32m    573\u001b[0m \u001b[38;5;28;01mtry\u001b[39;00m:\n\u001b[1;32m    574\u001b[0m     _is_table_name \u001b[38;5;241m=\u001b[39m pandas_sql\u001b[38;5;241m.\u001b[39mhas_table(sql)\n",
      "File \u001b[0;32m~/.local/lib/python3.8/site-packages/pandas/io/sql.py:2078\u001b[0m, in \u001b[0;36mSQLiteDatabase.read_query\u001b[0;34m(self, sql, index_col, coerce_float, params, parse_dates, chunksize, dtype)\u001b[0m\n\u001b[1;32m   2066\u001b[0m \u001b[38;5;28;01mdef\u001b[39;00m \u001b[38;5;21mread_query\u001b[39m(\n\u001b[1;32m   2067\u001b[0m     \u001b[38;5;28mself\u001b[39m,\n\u001b[1;32m   2068\u001b[0m     sql,\n\u001b[0;32m   (...)\u001b[0m\n\u001b[1;32m   2074\u001b[0m     dtype: DtypeArg \u001b[38;5;241m|\u001b[39m \u001b[38;5;28;01mNone\u001b[39;00m \u001b[38;5;241m=\u001b[39m \u001b[38;5;28;01mNone\u001b[39;00m,\n\u001b[1;32m   2075\u001b[0m ) \u001b[38;5;241m-\u001b[39m\u001b[38;5;241m>\u001b[39m DataFrame \u001b[38;5;241m|\u001b[39m Iterator[DataFrame]:\n\u001b[1;32m   2077\u001b[0m     args \u001b[38;5;241m=\u001b[39m _convert_params(sql, params)\n\u001b[0;32m-> 2078\u001b[0m     cursor \u001b[38;5;241m=\u001b[39m \u001b[38;5;28;43mself\u001b[39;49m\u001b[38;5;241;43m.\u001b[39;49m\u001b[43mexecute\u001b[49m\u001b[43m(\u001b[49m\u001b[38;5;241;43m*\u001b[39;49m\u001b[43margs\u001b[49m\u001b[43m)\u001b[49m\n\u001b[1;32m   2079\u001b[0m     columns \u001b[38;5;241m=\u001b[39m [col_desc[\u001b[38;5;241m0\u001b[39m] \u001b[38;5;28;01mfor\u001b[39;00m col_desc \u001b[38;5;129;01min\u001b[39;00m cursor\u001b[38;5;241m.\u001b[39mdescription]\n\u001b[1;32m   2081\u001b[0m     \u001b[38;5;28;01mif\u001b[39;00m chunksize \u001b[38;5;129;01mis\u001b[39;00m \u001b[38;5;129;01mnot\u001b[39;00m \u001b[38;5;28;01mNone\u001b[39;00m:\n",
      "File \u001b[0;32m~/.local/lib/python3.8/site-packages/pandas/io/sql.py:2027\u001b[0m, in \u001b[0;36mSQLiteDatabase.execute\u001b[0;34m(self, *args, **kwargs)\u001b[0m\n\u001b[1;32m   2023\u001b[0m \u001b[38;5;28;01mexcept\u001b[39;00m \u001b[38;5;167;01mException\u001b[39;00m \u001b[38;5;28;01mas\u001b[39;00m inner_exc:  \u001b[38;5;66;03m# pragma: no cover\u001b[39;00m\n\u001b[1;32m   2024\u001b[0m     ex \u001b[38;5;241m=\u001b[39m DatabaseError(\n\u001b[1;32m   2025\u001b[0m         \u001b[38;5;124mf\u001b[39m\u001b[38;5;124m\"\u001b[39m\u001b[38;5;124mExecution failed on sql: \u001b[39m\u001b[38;5;132;01m{\u001b[39;00margs[\u001b[38;5;241m0\u001b[39m]\u001b[38;5;132;01m}\u001b[39;00m\u001b[38;5;130;01m\\n\u001b[39;00m\u001b[38;5;132;01m{\u001b[39;00mexc\u001b[38;5;132;01m}\u001b[39;00m\u001b[38;5;130;01m\\n\u001b[39;00m\u001b[38;5;124munable to rollback\u001b[39m\u001b[38;5;124m\"\u001b[39m\n\u001b[1;32m   2026\u001b[0m     )\n\u001b[0;32m-> 2027\u001b[0m     \u001b[38;5;28;01mraise\u001b[39;00m ex \u001b[38;5;28;01mfrom\u001b[39;00m \u001b[38;5;21;01minner_exc\u001b[39;00m\n\u001b[1;32m   2029\u001b[0m ex \u001b[38;5;241m=\u001b[39m DatabaseError(\u001b[38;5;124mf\u001b[39m\u001b[38;5;124m\"\u001b[39m\u001b[38;5;124mExecution failed on sql \u001b[39m\u001b[38;5;124m'\u001b[39m\u001b[38;5;132;01m{\u001b[39;00margs[\u001b[38;5;241m0\u001b[39m]\u001b[38;5;132;01m}\u001b[39;00m\u001b[38;5;124m'\u001b[39m\u001b[38;5;124m: \u001b[39m\u001b[38;5;132;01m{\u001b[39;00mexc\u001b[38;5;132;01m}\u001b[39;00m\u001b[38;5;124m\"\u001b[39m)\n\u001b[1;32m   2030\u001b[0m \u001b[38;5;28;01mraise\u001b[39;00m ex \u001b[38;5;28;01mfrom\u001b[39;00m \u001b[38;5;21;01mexc\u001b[39;00m\n",
      "\u001b[0;31mDatabaseError\u001b[0m: Execution failed on sql: select person_id, value_numeric from obs where person_id IN (select p.person_id from person p, \n                mimic_openmrs_cdss cdss where p.person_id IN (select patient_id from encounter_diagnosis where \n                diagnosis_coded IN (select c.concept_id from concept c where c.description LIKE \n                ('Pneumonia, unspecified organism')) AND cdss.person_id=p.person_id AND p.gender='M' \n                AND cdss.age_group_code=7)) AND concept_id = (select c.concept_id from concept c where c.description = 'mcv')\n(2013, 'Lost connection to MySQL server during query')\nunable to rollback"
     ]
    }
   ],
   "source": [
    "output_concept_name = widgets.Output()\n",
    "# dropdown_concept_name = widgets.Dropdown(options = patient_attribute_df['description'].unique(), description = '<b>Concept Name:</b>')\n",
    "\n",
    "dropdown_concept_name = widgets.SelectMultiple(options= patient_attribute_df['name'].unique(), style =style,disabled=False, rows = 10, size = 10)\n",
    "\n",
    "\n",
    "def dropdown_concept_name_eventhandler(change):\n",
    "    output_concept_name.clear_output()\n",
    "    with output_concept_name:\n",
    "        display(patient_attribute_df[patient_attribute_df[\"name\"] == change.new])\n",
    "    patient_cohort_concept_()\n",
    "    on_3button_clicked(dropdown_concept_name.value)\n",
    "    \n",
    "def dropdown_concept_name_eventhandler1(change):\n",
    "    output_concept_name.clear_output()\n",
    "    with output_concept_name:\n",
    "        display(patient_attribute_df[patient_attribute_df[\"name\"] == change.new])\n",
    "\n",
    "    \n",
    "dropdown_concept_name.observe(dropdown_concept_name_eventhandler1, names='value')\n",
    "\n",
    "\n",
    "# Button = widgets.Button(description='Choose Diagnosis', button_style='success', \n",
    "#                                    layout=Layout(width='200px'), tooltip='Choose Diagnosis', icon='check')\n",
    "# display(Button.on_click(x))\n",
    "\n",
    "display(dropdown_concept_name) \n",
    "# widgets.Button(description = 'Click after choosing Concept Name')\n",
    "\n",
    "\n",
    "output = widgets.Output()\n",
    "button =widgets.Button(description=\"Click after multiple selection!\")\n",
    "display(button, output)\n",
    "\n",
    "button.on_click(dropdown_concept_name_eventhandler)\n"
   ]
  },
  {
   "cell_type": "code",
   "execution_count": 1176,
   "id": "150b6141",
   "metadata": {
    "extensions": {
     "jupyter_dashboards": {
      "version": 1,
      "views": {
       "grid_default": {},
       "report_default": {
        "hidden": true
       }
      }
     }
    }
   },
   "outputs": [],
   "source": [
    "# getting values of the concept name of the cohort"
   ]
  },
  {
   "cell_type": "code",
   "execution_count": 1177,
   "id": "c8eb8816",
   "metadata": {
    "extensions": {
     "jupyter_dashboards": {
      "version": 1,
      "views": {
       "grid_default": {},
       "report_default": {
        "hidden": true
       }
      }
     }
    }
   },
   "outputs": [],
   "source": [
    "def conc():\n",
    "    output_count = widgets.Output()\n",
    "    concept_name = dropdown_concept_name.value\n",
    "    concept_name = list(concept_name)\n",
    "    concept_name\n",
    "\n",
    "# concept_name = ['creatinine', 'albumin']\n",
    "    values_map = {}\n",
    "    a = 0\n",
    "# final_patient_cohort_concept = pd.DataFrame(columns = ['person_id'])\n",
    "# final_patient_cohort_concept['person_id'] = final_patient_cohort_concept['person_id'].astype(int)\n",
    "\n",
    "    dfs = []\n",
    "\n",
    "    for i in concept_name:\n",
    "        values_map['concept_name'] = concept_name[a]\n",
    "        values_map['patient_id'] = patient_id \n",
    "        a = a+1\n",
    "    \n",
    "        sql_query = (\"\"\"select person_id, value_numeric from obs where person_id IN (select p.person_id from person p, \n",
    "                mimic_openmrs_cdss cdss where p.person_id IN (select patient_id from encounter_diagnosis where \n",
    "                diagnosis_coded IN (select c.concept_id from concept c where c.description LIKE \n",
    "                ('Pneumonia, unspecified organism')) AND cdss.person_id=p.person_id AND p.gender='M' \n",
    "                AND cdss.age_group_code=7)) AND concept_id = (select c.concept_id from concept c where c.description = '{concept_name}')\"\"\")\n",
    "\n",
    "        sql_query = sql_query.format(**values_map)\n",
    "\n",
    "        patient_cohort_concept = pd.read_sql(sql_query, con = conn)\n",
    "        patient_cohort_concept.columns = [*patient_cohort_concept.columns[:-1], i]\n",
    "    \n",
    "        name = \"patient_cohort_concept\" + i\n",
    "    \n",
    "        locals()[name] = patient_cohort_concept.copy()\n",
    "\n",
    "        dfs.append(locals()[name])\n",
    "    \n",
    "    \n",
    "   \n",
    "#     final_patient_cohort_concept.merge(patient_cohort_concept, on = 'person_id', how = 'outer')\n",
    "\n",
    "#    final_patient_cohort_concept = pd.merge(patient_cohort_concept, final_patient_cohort_concept, on='person_id', how='inner')\n",
    "\n",
    "#  l = [df.set_index('person_id') for df in dfs] \n",
    "\n",
    "    l = [df for df in dfs] \n",
    "\n",
    "# pd.DataFrame.join accepts a list of dataframes as 'other' \n",
    "    final_patient_cohort_concept = l[0].append(l[1:])\n",
    "\n",
    "\n",
    "# final_patient_cohort_concept = l[0].append(l[1:])\n",
    "\n",
    "# final_patient_cohort_concept = final_patient_cohort_concept.reset_index(drop = False)\n",
    "\n",
    "    for column in final_patient_cohort_concept.columns:\n",
    "        final_patient_cohort_concept[column] = final_patient_cohort_concept[column].fillna(final_patient_cohort_concept[column].mean())\n",
    "\n",
    "    def patient_cohort_concept_():\n",
    "        out = widgets.Output()\n",
    "        with out:\n",
    "            display(final_patient_cohort_concept)\n",
    "        return out\n",
    "    return final_patient_cohort_concept"
   ]
  },
  {
   "cell_type": "code",
   "execution_count": 1178,
   "id": "d0e74383",
   "metadata": {
    "extensions": {
     "jupyter_dashboards": {
      "version": 1,
      "views": {
       "grid_default": {},
       "report_default": {
        "hidden": true
       }
      }
     }
    }
   },
   "outputs": [],
   "source": [
    "## write a function to append each concepts and its values"
   ]
  },
  {
   "cell_type": "code",
   "execution_count": 1179,
   "id": "4b7af133",
   "metadata": {
    "extensions": {
     "jupyter_dashboards": {
      "version": 1,
      "views": {
       "grid_default": {},
       "report_default": {
        "hidden": true
       }
      }
     }
    }
   },
   "outputs": [],
   "source": [
    "# get individual patient value"
   ]
  },
  {
   "cell_type": "code",
   "execution_count": 1180,
   "id": "9ff4e5d0",
   "metadata": {
    "extensions": {
     "jupyter_dashboards": {
      "version": 1,
      "views": {
       "grid_default": {},
       "report_default": {
        "hidden": true
       }
      }
     }
    }
   },
   "outputs": [],
   "source": [
    "def con():\n",
    "    \n",
    "    output_count = widgets.Output()\n",
    "\n",
    "    concept_name = dropdown_concept_name.value\n",
    "    concept_name = list(concept_name)\n",
    "\n",
    "    # concept_name = ['creatinine', 'albumin']\n",
    "    values_map = {}\n",
    "\n",
    "    a = 0\n",
    "    final_patient_ind_value_numeric = pd.DataFrame(columns = ['person_id'])\n",
    "    final_patient_ind_value_numeric['person_id'] = final_patient_ind_value_numeric['person_id'].astype(int)\n",
    "\n",
    "    dfss = []\n",
    "\n",
    "    for i in concept_name:\n",
    "        values_map['concept_name'] = concept_name[a]\n",
    "        values_map['patient_id'] = patient_id \n",
    "        a = a+1\n",
    "\n",
    "        patient_value_numeric = (\"\"\" select o.person_id, o.value_numeric from obs as o where o.concept_id IN (SELECT concept_id FROM concept WHERE description = '{concept_name}') AND o.person_id = {patient_id}\"\"\")\n",
    "        patient_value_numeric = patient_value_numeric.format(**values_map)\n",
    "\n",
    "        patient_ind_value_numeric = pd.read_sql(patient_value_numeric, con = conn)\n",
    "\n",
    "        patient_ind_value_numeric.columns = [*patient_ind_value_numeric.columns[:-1], i]\n",
    "\n",
    "        name = \"patient_ind_value_numeric\" + i\n",
    "\n",
    "        locals()[name] = patient_ind_value_numeric.copy()\n",
    "\n",
    "        dfss.append(locals()[name])\n",
    "\n",
    "    ls = [df.set_index('person_id') for df in dfss]\n",
    "\n",
    "    # pd.DataFrame.join accepts a list of dataframes as 'other'\n",
    "    final_patient_ind_value_numeric = ls[0].append(ls[1:])\n",
    "    # final_patient_ind_value_numeric = ls[0].join(ls[1:], how = 'inner')\n",
    "    final_patient_ind_value_numeric = final_patient_ind_value_numeric.reset_index(drop = False)\n",
    "\n",
    "    for column in final_patient_ind_value_numeric.columns:\n",
    "        final_patient_ind_value_numeric[column] = final_patient_ind_value_numeric[column].fillna(final_patient_ind_value_numeric[column].mean())\n",
    "\n",
    "\n",
    "\n",
    "#     def individual_patient_value():\n",
    "#         display(final_patient_ind_value_numeric)\n",
    "\n",
    "\n",
    "#     individual_patient_value() \n",
    "\n",
    "    return final_patient_ind_value_numeric"
   ]
  },
  {
   "cell_type": "code",
   "execution_count": 1181,
   "id": "e8ff8af9",
   "metadata": {
    "extensions": {
     "jupyter_dashboards": {
      "version": 1,
      "views": {
       "grid_default": {},
       "report_default": {
        "hidden": false
       }
      }
     }
    }
   },
   "outputs": [],
   "source": [
    "#final_patient_ind_value_numeric"
   ]
  },
  {
   "cell_type": "code",
   "execution_count": 1182,
   "id": "f570b811",
   "metadata": {
    "extensions": {
     "jupyter_dashboards": {
      "version": 1,
      "views": {
       "grid_default": {},
       "report_default": {
        "hidden": false
       }
      }
     }
    }
   },
   "outputs": [
    {
     "data": {
      "text/html": [
       " <style>\n",
       ".output_png {\n",
       "    display: table-cell;\n",
       "    text-align: center;\n",
       "    vertical-align: middle;\n",
       "    border-radius: 16px;\n",
       "}\n",
       "</style> "
      ],
      "text/plain": [
       "<IPython.core.display.HTML object>"
      ]
     },
     "execution_count": 1182,
     "metadata": {},
     "output_type": "execute_result"
    }
   ],
   "source": [
    "from IPython.core.display import HTML as Center\n",
    "\n",
    "Center(\"\"\" <style>\n",
    ".output_png {\n",
    "    display: table-cell;\n",
    "    text-align: center;\n",
    "    vertical-align: middle;\n",
    "    border-radius: 16px;\n",
    "}\n",
    "</style> \"\"\")"
   ]
  },
  {
   "cell_type": "code",
   "execution_count": 1183,
   "id": "f06d8392",
   "metadata": {
    "extensions": {
     "jupyter_dashboards": {
      "version": 1,
      "views": {
       "grid_default": {},
       "report_default": {
        "hidden": true
       }
      }
     }
    }
   },
   "outputs": [],
   "source": [
    "# the plot for distribution"
   ]
  },
  {
   "cell_type": "code",
   "execution_count": 1184,
   "id": "9362c39b",
   "metadata": {
    "extensions": {
     "jupyter_dashboards": {
      "version": 1,
      "views": {
       "grid_default": {},
       "report_default": {
        "hidden": false
       }
      }
     }
    }
   },
   "outputs": [],
   "source": [
    "def showplot():\n",
    "    final_patient_ind_value_numeric=con()\n",
    "    final_patient_cohort_concept=conc()\n",
    "    concept_name = dropdown_concept_name.value\n",
    "    plot_output = widgets.Output()\n",
    "    plot_output.clear_output()\n",
    "    concept_name = list(concept_name)\n",
    "    with plot_output:\n",
    "        for column in concept_name:\n",
    "#         with plot_output:\n",
    "            fig, ax = plt.subplots(figsize=(3, 2))\n",
    "            sns.kdeplot(data=final_patient_cohort_concept[column],\n",
    "                color='blue', label='cohort', fill=True, ax=ax)\n",
    "            sns.kdeplot(data=final_patient_ind_value_numeric[column],\n",
    "                color='yellow', label='patient', fill=True, ax=ax)\n",
    "            ax.legend()\n",
    "            plt.title(\"Normality Distribution\")\n",
    "            plt.tight_layout()\n",
    "            plt.show()\n",
    "\n",
    "    display(plot_output)\n",
    "    #return plot_output\n",
    "    return\n",
    "    showplot()"
   ]
  },
  {
   "cell_type": "code",
   "execution_count": 1185,
   "id": "84037cab",
   "metadata": {
    "extensions": {
     "jupyter_dashboards": {
      "version": 1,
      "views": {
       "grid_default": {},
       "report_default": {
        "hidden": true
       }
      }
     }
    }
   },
   "outputs": [],
   "source": [
    "# Statistical test\n",
    "# Shapiro-Wilk Test Statistic"
   ]
  },
  {
   "cell_type": "code",
   "execution_count": 1186,
   "id": "9ea54069",
   "metadata": {
    "extensions": {
     "jupyter_dashboards": {
      "version": 1,
      "views": {
       "grid_default": {},
       "report_default": {
        "hidden": false
       }
      }
     }
    }
   },
   "outputs": [],
   "source": [
    "def shapiro_test():\n",
    "    final_patient_ind_value_numeric=con()\n",
    "    final_patient_cohort_concept=conc()\n",
    "    concept_name = dropdown_concept_name.value\n",
    "    shapiro_output = widgets.Output()\n",
    "    shapiro_output.clear_output()\n",
    "    #with shapiro_output:\n",
    "    cohort = final_patient_cohort_concept\n",
    "    patient = final_patient_ind_value_numeric\n",
    "    rowLabels = concept_name #substitue with concept name\n",
    "    colLabels = ['Shapiro-Wilk Test Statistic', 'p-value']\n",
    "    rowLabels_ttest = concept_name\n",
    "    colLabels_ttest = ['T-statistic', 'p-value']\n",
    "\n",
    "    plt.figure()\n",
    "\n",
    "    cell_text = []\n",
    "    results_ttest =[]\n",
    "    for j in concept_name:\n",
    "        shapiro = stats.shapiro(cohort[j])\n",
    "        cell_text.append(shapiro)\n",
    "        if shapiro[1] < 0.05:\n",
    "            mann_u = stats.mannwhitneyu(cohort[j], patient[j], alternative='two-sided')\n",
    "            results_ttest.append(mann_u)\n",
    "        else:\n",
    "            t_test = stats.ttest_ind((cohort.loc[:,j]), (patient.loc[:,j]), equal_var = False)\n",
    "            results_ttest.append(t_test)\n",
    "        #print(cohort.loc[:,j])\n",
    "            \n",
    "\n",
    "    fig, ax = plt.subplots(2,1, figsize=(14, 22))\n",
    "    #     figure, axis = plt.subplots(2, 2)\n",
    "    a = ax[0].table(rowLabels=rowLabels, colLabels=colLabels, cellText=cell_text, cellLoc= 'center', loc='center')\n",
    "    a.set_fontsize(12)\n",
    "    a.scale(1, 2)\n",
    "    ax[0].axis('off')\n",
    "\n",
    "    b = ax[1].table(rowLabels=rowLabels_ttest, colLabels=colLabels_ttest, cellText=results_ttest, cellLoc= 'center', loc='center')\n",
    "    b.set_fontsize(12)\n",
    "    b.scale(1, 2)\n",
    "    ax[1].axis('off')\n",
    "\n",
    "    ax[0].set_title('Shapiro Wilk Test')\n",
    "    ax[1].set_title('Statistical Test')\n",
    "    \n",
    "    with shapiro_output:\n",
    "        plt.show()\n",
    "        \n",
    "    return shapiro_output      \n",
    "    shapiro_test()"
   ]
  },
  {
   "cell_type": "code",
   "execution_count": 1187,
   "id": "c351f058",
   "metadata": {
    "extensions": {
     "jupyter_dashboards": {
      "version": 1,
      "views": {
       "grid_default": {},
       "report_default": {
        "hidden": true
       }
      }
     }
    }
   },
   "outputs": [],
   "source": [
    "## checking mean of diagnosis for each patient"
   ]
  },
  {
   "cell_type": "code",
   "execution_count": 1188,
   "id": "5766bb4a",
   "metadata": {
    "extensions": {
     "jupyter_dashboards": {
      "version": 1,
      "views": {
       "grid_default": {},
       "report_default": {
        "hidden": true
       }
      }
     }
    }
   },
   "outputs": [
    {
     "name": "stderr",
     "output_type": "stream",
     "text": [
      "/tmp/ipykernel_45791/1660638309.py:1: UserWarning: pandas only supports SQLAlchemy connectable (engine/connection) or database string URI or sqlite3 DBAPI2 connection. Other DBAPI2 objects are not tested. Please consider using SQLAlchemy.\n",
      "  encounter_diagnosis = pd.read_sql('select patient_id, diagnosis_coded from encounter_diagnosis', con=conn)\n"
     ]
    }
   ],
   "source": [
    "encounter_diagnosis = pd.read_sql('select patient_id, diagnosis_coded from encounter_diagnosis', con=conn)\n",
    "encounter_diagnosis_count = encounter_diagnosis.groupby(\"patient_id\")[\"diagnosis_coded\"].count()"
   ]
  },
  {
   "cell_type": "code",
   "execution_count": 1189,
   "id": "08a2f3a6",
   "metadata": {
    "extensions": {
     "jupyter_dashboards": {
      "version": 1,
      "views": {
       "grid_default": {},
       "report_default": {
        "hidden": false
       }
      }
     }
    }
   },
   "outputs": [],
   "source": [
    "top_20_diag = pd.DataFrame(encounter_diagnosis['diagnosis_coded'].value_counts().sort_index(ascending=False).sort_values(ascending=False).head(25))\n",
    "top_20_diag = top_20_diag.reset_index()\n",
    "list_top_20_diag = list(top_20_diag['index'])\n",
    "#list_top_20_diag"
   ]
  },
  {
   "cell_type": "code",
   "execution_count": 1190,
   "id": "59a7b3ac",
   "metadata": {
    "extensions": {
     "jupyter_dashboards": {
      "version": 1,
      "views": {
       "grid_default": {},
       "report_default": {
        "hidden": true
       }
      }
     }
    }
   },
   "outputs": [],
   "source": [
    "## Obtaining class labels ##"
   ]
  },
  {
   "cell_type": "code",
   "execution_count": 1191,
   "id": "b4e64076",
   "metadata": {
    "extensions": {
     "jupyter_dashboards": {
      "version": 1,
      "views": {
       "grid_default": {},
       "report_default": {
        "hidden": false
       }
      }
     }
    }
   },
   "outputs": [
    {
     "name": "stderr",
     "output_type": "stream",
     "text": [
      "/tmp/ipykernel_45791/1148437002.py:1: UserWarning: pandas only supports SQLAlchemy connectable (engine/connection) or database string URI or sqlite3 DBAPI2 connection. Other DBAPI2 objects are not tested. Please consider using SQLAlchemy.\n",
      "  class_labels = pd.read_sql(\"SELECT description from concept where concept_id IN (SELECT * FROM(SELECT diagnosis_coded FROM encounter_diagnosis GROUP BY diagnosis_coded ORDER BY COUNT(*) DESC LIMIT 25) as xyz)\", con=conn)\n"
     ]
    }
   ],
   "source": [
    "class_labels = pd.read_sql(\"SELECT description from concept where concept_id IN (SELECT * FROM(SELECT diagnosis_coded FROM encounter_diagnosis GROUP BY diagnosis_coded ORDER BY COUNT(*) DESC LIMIT 25) as xyz)\", con=conn) \n",
    "#class_labels                      "
   ]
  },
  {
   "cell_type": "code",
   "execution_count": 1192,
   "id": "2ddae7f4",
   "metadata": {
    "extensions": {
     "jupyter_dashboards": {
      "version": 1,
      "views": {
       "grid_default": {},
       "report_default": {
        "hidden": true
       }
      }
     }
    }
   },
   "outputs": [],
   "source": [
    "old_diagnosis_name = None\n",
    "#run this cell only when we restart the kernel"
   ]
  },
  {
   "cell_type": "markdown",
   "id": "5f830722",
   "metadata": {
    "extensions": {
     "jupyter_dashboards": {
      "version": 1,
      "views": {
       "grid_default": {},
       "report_default": {
        "hidden": false
       }
      }
     }
    }
   },
   "source": [
    "\n",
    "<div class=\"card\" style=\"box-shadow: 0 4px 8px 0 rgba(0, 0, 0, 0.2);max-width: 100%; margin: auto;padding:10px; font-family: arial; background:#D9D9D9\">\n",
    "    <p>The Following Dropdown asks you for the input of risks from the available risks you want to give for running analysis on any <b style=\"color:#195734\"> ONE DIAGNOSIS</b>: </p>\n",
    " </div>"
   ]
  },
  {
   "cell_type": "code",
   "execution_count": 1193,
   "id": "e13a4661",
   "metadata": {
    "extensions": {
     "jupyter_dashboards": {
      "version": 1,
      "views": {
       "grid_default": {},
       "report_default": {
        "hidden": false
       }
      }
     }
    }
   },
   "outputs": [
    {
     "data": {
      "application/vnd.jupyter.widget-view+json": {
       "model_id": "c4e49c0d7f754af5ae1bfcf130095087",
       "version_major": 2,
       "version_minor": 0
      },
      "text/plain": [
       "Dropdown(description='Risk of diagnosis for the patient:', layout=Layout(width='450px'), options=('Single live…"
      ]
     },
     "metadata": {},
     "output_type": "display_data"
    }
   ],
   "source": [
    "output_diag_name = widgets.Output()\n",
    "\n",
    "dropdown_diagnosis_name = widgets.Dropdown(options= class_labels['description'].unique(), style = style, description='Risk of diagnosis for the patient:',disabled=False, rows = 15, size = 10, layout=Layout(width = '450px'))\n",
    "\n",
    "def dropdown_diagnosis_name_eventhandler(change):\n",
    "    output_diag_name.clear_output()\n",
    "    with output_diag_name:\n",
    "        display(class_labels[class_labels[\"description\"] == change.new])\n",
    "        diagnosis_name = dropdown_diagnosis_name.value\n",
    "    print(diagnosis_name)    \n",
    "    dashboard(dropdown_diagnosis_name.value)\n",
    "    \n",
    "    \n",
    "     \n",
    "dropdown_diagnosis_name.observe(dropdown_diagnosis_name_eventhandler, names='value')\n",
    "    \n",
    "display(dropdown_diagnosis_name) \n"
   ]
  },
  {
   "cell_type": "code",
   "execution_count": 1194,
   "id": "8bbf3d99",
   "metadata": {
    "extensions": {
     "jupyter_dashboards": {
      "version": 1,
      "views": {
       "grid_default": {},
       "report_default": {
        "hidden": false
       }
      }
     }
    }
   },
   "outputs": [
    {
     "name": "stderr",
     "output_type": "stream",
     "text": [
      "/tmp/ipykernel_45791/1255386782.py:7: UserWarning: pandas only supports SQLAlchemy connectable (engine/connection) or database string URI or sqlite3 DBAPI2 connection. Other DBAPI2 objects are not tested. Please consider using SQLAlchemy.\n",
      "  get_patient_id = pd.read_sql(get_patient_id, con=conn)\n"
     ]
    }
   ],
   "source": [
    "diagnosis_name = dropdown_diagnosis_name.value\n",
    "values_map3 = {}\n",
    "values_map3['diagnosis_name'] = diagnosis_name\n",
    "values_map3\n",
    "get_patient_id = (\"\"\"select patient_id from encounter_diagnosis where diagnosis_coded IN (select * from (select concept_id from concept where description = \"{diagnosis_name}\") as pqr )\"\"\") \n",
    "get_patient_id = get_patient_id.format(**values_map3) \n",
    "get_patient_id = pd.read_sql(get_patient_id, con=conn)  \n",
    "#get_patient_id"
   ]
  },
  {
   "cell_type": "code",
   "execution_count": 1195,
   "id": "36cc750b",
   "metadata": {
    "extensions": {
     "jupyter_dashboards": {
      "version": 1,
      "views": {
       "grid_default": {},
       "report_default": {
        "hidden": false
       }
      }
     }
    }
   },
   "outputs": [],
   "source": [
    "#diagnosis_name"
   ]
  },
  {
   "cell_type": "code",
   "execution_count": 1196,
   "id": "3c5ebe3a",
   "metadata": {
    "extensions": {
     "jupyter_dashboards": {
      "version": 1,
      "views": {
       "grid_default": {},
       "report_default": {
        "hidden": false
       }
      }
     }
    }
   },
   "outputs": [],
   "source": [
    "## Adding class labels to cohort dataframe\n",
    "\n",
    "#final_patient_cohort_concept[diagnosis_name] = ''\n",
    "def final_patient_cohort_concept_1(diagnosis_name):\n",
    "    diagnosis_name = dropdown_diagnosis_name.value\n",
    "    values_map3 = {}\n",
    "    values_map3['diagnosis_name'] = diagnosis_name\n",
    "    values_map3\n",
    "    get_patient_id = (\"\"\"select patient_id from encounter_diagnosis where diagnosis_coded IN (select * from (select concept_id from concept where description = \"{diagnosis_name}\") as pqr )\"\"\") \n",
    "    get_patient_id = get_patient_id.format(**values_map3) \n",
    "    get_patient_id = pd.read_sql(get_patient_id, con=conn)  \n",
    "    #get_patient_id\n",
    "    \n",
    "    diagnosis_name = dropdown_diagnosis_name.value\n",
    "    final_patient_cohort_concept=conc()\n",
    "\n",
    "    for i, row in final_patient_cohort_concept.iterrows():\n",
    "        if row['person_id'] in get_patient_id['patient_id'].tolist():\n",
    "\n",
    "            final_patient_cohort_concept.loc[i, [diagnosis_name]] = 1\n",
    "        else:\n",
    "            final_patient_cohort_concept.loc[i, [diagnosis_name]] = 0\n",
    "\n",
    "\n",
    "    return final_patient_cohort_concept    "
   ]
  },
  {
   "cell_type": "code",
   "execution_count": 1197,
   "id": "f0cea33f",
   "metadata": {
    "extensions": {
     "jupyter_dashboards": {
      "version": 1,
      "views": {
       "grid_default": {},
       "report_default": {
        "hidden": false
       }
      }
     }
    }
   },
   "outputs": [
    {
     "name": "stderr",
     "output_type": "stream",
     "text": [
      "/tmp/ipykernel_45791/1197646972.py:11: UserWarning: pandas only supports SQLAlchemy connectable (engine/connection) or database string URI or sqlite3 DBAPI2 connection. Other DBAPI2 objects are not tested. Please consider using SQLAlchemy.\n",
      "  get_patient_id = pd.read_sql(get_patient_id, con=conn)\n"
     ]
    }
   ],
   "source": [
    "diagnosis_name = dropdown_diagnosis_name.value\n",
    "if old_diagnosis_name != diagnosis_name:\n",
    "    try:\n",
    "        final_patient_cohort_concept=final_patient_cohort_concept_1(diagnosis_name)\n",
    "        final_patient_cohort_concept.drop([old_diagnosis_name], axis =1, inplace=True)\n",
    "    except Exception as ex:\n",
    "        #print(ex)\n",
    "        pass\n",
    "    old_diagnosis_name = diagnosis_name"
   ]
  },
  {
   "cell_type": "code",
   "execution_count": 1198,
   "id": "68030631",
   "metadata": {
    "extensions": {
     "jupyter_dashboards": {
      "version": 1,
      "views": {
       "grid_default": {},
       "report_default": {
        "hidden": true
       }
      }
     }
    }
   },
   "outputs": [],
   "source": [
    "#final_patient_cohort_concept_feat = final_patient_cohort_concept.drop(columns = ['person_id'])\n",
    "# final_patient_cohort_concept=final_patient_cohort_concept_1(diagnosis_name)\n",
    "# #final_patient_cohort_concept_feat"
   ]
  },
  {
   "cell_type": "code",
   "execution_count": 1199,
   "id": "6ca99e98",
   "metadata": {
    "extensions": {
     "jupyter_dashboards": {
      "version": 1,
      "views": {
       "grid_default": {},
       "report_default": {
        "hidden": true
       }
      }
     }
    }
   },
   "outputs": [],
   "source": [
    "## correlation "
   ]
  },
  {
   "cell_type": "code",
   "execution_count": 1200,
   "id": "6fed48d2",
   "metadata": {
    "extensions": {
     "jupyter_dashboards": {
      "version": 1,
      "views": {
       "grid_default": {},
       "report_default": {
        "hidden": true
       }
      }
     }
    }
   },
   "outputs": [],
   "source": [
    "diagnosis_name = dropdown_diagnosis_name.value\n",
    "#diagnosis_name"
   ]
  },
  {
   "cell_type": "code",
   "execution_count": 1201,
   "id": "36cf7fd5",
   "metadata": {
    "extensions": {
     "jupyter_dashboards": {
      "version": 1,
      "views": {
       "grid_default": {},
       "report_default": {
        "hidden": false
       }
      }
     }
    }
   },
   "outputs": [],
   "source": [
    "def on_corrButton_clicked(diagnosis_name):\n",
    "    diagnosis_name = dropdown_diagnosis_name.value\n",
    "    final_patient_cohort_concept=conc()\n",
    "    concept_name = dropdown_concept_name.value\n",
    "    for i, row in final_patient_cohort_concept.iterrows():\n",
    "        if row['person_id'] in get_patient_id['patient_id'].tolist():\n",
    "      \n",
    "            final_patient_cohort_concept.loc[i, [diagnosis_name]] = 1\n",
    "        else:\n",
    "            final_patient_cohort_concept.loc[i, [diagnosis_name]] = 0\n",
    "    \n",
    "    final_patient_cohort_concept_feat = final_patient_cohort_concept.drop(columns = ['person_id'])\n",
    "    corr_output=widgets.Output()\n",
    "    \n",
    "    with corr_output:\n",
    "\n",
    "        plt.figure(figsize = (20,15))\n",
    "        corr = final_patient_cohort_concept_feat.corr(method='spearman')\n",
    "\n",
    "\n",
    "        ax = sns.heatmap(corr, annot=True, fmt ='.1g', vmin=-1, vmax=1, center= 0, cmap= 'coolwarm')\n",
    "            \n",
    "        \n",
    "        plt.show(ax)\n",
    "    return corr_output\n",
    "    \n",
    "corrButton = widgets.Button(description='Show Correlation', button_style='danger',layout=Layout(width='200px'), tooltip='Show Correlation', icon='check')\n"
   ]
  },
  {
   "cell_type": "code",
   "execution_count": 1202,
   "id": "1c407e5f",
   "metadata": {
    "extensions": {
     "jupyter_dashboards": {
      "version": 1,
      "views": {
       "grid_default": {},
       "report_default": {
        "hidden": true
       }
      }
     }
    }
   },
   "outputs": [],
   "source": [
    "diagnosis_name = dropdown_diagnosis_name.value\n",
    "#diagnosis_name"
   ]
  },
  {
   "cell_type": "code",
   "execution_count": 1203,
   "id": "e4c4a952",
   "metadata": {
    "extensions": {
     "jupyter_dashboards": {
      "version": 1,
      "views": {
       "grid_default": {},
       "report_default": {
        "hidden": false
       }
      }
     }
    },
    "scrolled": true
   },
   "outputs": [],
   "source": [
    "def on_assocButton_clicked(diagnosis_name):\n",
    "    diagnosis_name = dropdown_diagnosis_name.value\n",
    "    final_patient_cohort_concept=conc()\n",
    "    concept_name = dropdown_concept_name.value\n",
    "    for i, row in final_patient_cohort_concept.iterrows():\n",
    "        if row['person_id'] in get_patient_id['patient_id'].tolist():\n",
    "      \n",
    "            final_patient_cohort_concept.loc[i, [diagnosis_name]] = 1\n",
    "        else:\n",
    "            final_patient_cohort_concept.loc[i, [diagnosis_name]] = 0\n",
    "    concept_name = dropdown_concept_name.value\n",
    "    \n",
    "    final_patient_cohort_concept_feat = final_patient_cohort_concept.drop(columns = ['person_id'])\n",
    "    feature_columns = list(final_patient_cohort_concept.columns[:-1])\n",
    "    target_columns = final_patient_cohort_concept[diagnosis_name]\n",
    "    assoc_output = widgets.Output()\n",
    "    assoc_output.clear_output()\n",
    "    with assoc_output:\n",
    "        colLabels = ['Statistic','p-value']\n",
    "        rowLabels = feature_columns\n",
    "        plt.figure() \n",
    "        cell_Text = []\n",
    "        for j in feature_columns:\n",
    "            kruskaltest = stats.kruskal(target_columns, final_patient_cohort_concept[j])\n",
    "            cell_Text.append(kruskaltest)\n",
    "        table = plt.table(rowLabels=rowLabels, colLabels=colLabels, cellText=cell_Text, cellLoc= 'center', loc='center')\n",
    "        table.auto_set_font_size(False)\n",
    "        table.set_fontsize(10)\n",
    "        #table.scale(2, 2)\n",
    "#         table.set_title('Kruskal-wallis Test')\n",
    "        plt.axis('off')\n",
    "        for (row, col), cell in table.get_celld().items():\n",
    "            try:\n",
    "                if col==1 and row>=1 and float(cell.get_text()) < 0.05:\n",
    "                    cell.set_text_props(fontproperties=FontProperties(weight='bold'))\n",
    "            except:\n",
    "                pass\n",
    "        \n",
    "        plt.show()\n",
    "    #return assoc_output,final_patient_cohort_concept_feat\n",
    "    return assoc_output\n",
    "\n",
    "    for i in range(len(out)):\n",
    "            tab.set_title(i, impression[i])\n",
    "\n",
    "            tab.children = out\n",
    "            display(tab)\n",
    "            display(regressionButton)\n",
    "\n",
    "assocButton = widgets.Button(description='Show Association (Kruskal-wallis)', button_style='danger', \n",
    "                               layout=Layout(width='350px'), tooltip='Show Association (Kruskal-wallis)', icon='check')\n",
    "assocButton.on_click(on_assocButton_clicked)"
   ]
  },
  {
   "cell_type": "code",
   "execution_count": 1204,
   "id": "7b93d9fe",
   "metadata": {
    "extensions": {
     "jupyter_dashboards": {
      "version": 1,
      "views": {
       "grid_default": {},
       "report_default": {
        "hidden": false
       }
      }
     }
    }
   },
   "outputs": [],
   "source": [
    "diagnosis_name = dropdown_diagnosis_name.value\n",
    "#diagnosis_name"
   ]
  },
  {
   "cell_type": "code",
   "execution_count": 1205,
   "id": "8d684bf5",
   "metadata": {
    "extensions": {
     "jupyter_dashboards": {
      "version": 1,
      "views": {
       "grid_default": {},
       "report_default": {
        "hidden": false
       }
      }
     }
    }
   },
   "outputs": [],
   "source": [
    "def on_regressionButton_clicked(diagnosis_name):\n",
    "\n",
    "    diagnosis_name = dropdown_diagnosis_name.value\n",
    "    display(Markdown(\"## RandomForest Classifier Result for:\"))\n",
    "    print(diagnosis_name)\n",
    "#     values_map3 = {}\n",
    "#     values_map3['diagnosis_name'] = diagnosis_name\n",
    "#     values_map3\n",
    "#     get_patient_id = (\"\"\"select patient_id from encounter_diagnosis where diagnosis_coded IN (select * from (select concept_id from concept where description = \"{diagnosis_name}\") as pqr )\"\"\") \n",
    "#     get_patient_id = get_patient_id.format(**values_map3) \n",
    "#     get_patient_id = pd.read_sql(get_patient_id, con=conn)  \n",
    "    #get_patient_id\n",
    "    \n",
    "    \n",
    "    diagnosis_name = dropdown_diagnosis_name.value\n",
    "    final_patient_ind_value_numeric=con()\n",
    "    final_patient_cohort_concept=final_patient_cohort_concept_1(dropdown_diagnosis_name.value)\n",
    "    final_patient_cohort_concept_feat = final_patient_cohort_concept.drop(columns = ['person_id'])\n",
    "    \n",
    "    diagnosis_name = dropdown_diagnosis_name.value\n",
    "#     old_diagnosis_name = None\n",
    "#     if old_diagnosis_name != diagnosis_name:\n",
    "#         try:\n",
    "#             final_patient_cohort_concept=final_patient_cohort_concept_1(diagnosis_name)\n",
    "#             final_patient_cohort_concept.drop([old_diagnosis_name], axis =1, inplace=True)\n",
    "#         except Exception as ex:\n",
    "#             #print(ex)\n",
    "#             pass\n",
    "#         old_diagnosis_name = diagnosis_name\n",
    "\n",
    "    \n",
    "    #final_patient_cohort_concept_feat\n",
    "    dict_pred = {1: 'Diagnosis Present', 0: 'Diagnosis Not Present'}\n",
    "    import time\n",
    "    start_time = time.time()\n",
    "\n",
    "    patient_feat = (final_patient_ind_value_numeric.iloc[:1]).drop(columns = ['person_id']).values\n",
    "\n",
    "    predictor = final_patient_cohort_concept_feat.iloc[:, :-1].values\n",
    "    target = (final_patient_cohort_concept_feat[[diagnosis_name]]).values\n",
    "    #display(final_patient_cohort_concept_feat)\n",
    "    #display(final_patient_cohort_concept[[\"Acute kidney failure, unspecified\"]].value_counts())\n",
    "    X_train, X_test, y_train, y_test = train_test_split(predictor, target, test_size=0.25, random_state=42,stratify=target)\n",
    "    #print(y_train)\n",
    "\n",
    "\n",
    "\n",
    "\n",
    "    # transform the dataset\n",
    "    oversample = SMOTE(random_state=100)\n",
    "    X_train_res, y_train_res = oversample.fit_resample(X_train, y_train)\n",
    "\n",
    "\n",
    "    # Feature Scaling\n",
    "\n",
    "    sc_X = StandardScaler()\n",
    "    X_train = sc_X.fit_transform(X_train_res)\n",
    "    X_test = sc_X.transform(X_test)\n",
    "    \n",
    "    # Split the data into train and test\n",
    "    # def on_regressionButton_clicked():\n",
    "\n",
    "    # Fitting Random Forest classifier to the Training set\n",
    "    Rfclassifier = RandomForestClassifier(n_estimators=10, criterion='entropy', class_weight=\"balanced_subsample\", random_state=0)\n",
    "\n",
    "    Rfclassifier.fit(X_train_res, y_train_res.ravel())\n",
    "\n",
    "    # Predicting the Test set results\n",
    "    y_pred_rf = Rfclassifier.predict(X_test)\n",
    "    #print('y_preds_rf:', y_pred_rf)\n",
    "\n",
    "    # # accuracy\n",
    "    # accuarcy_rf = accuracy_score(y_test, y_pred_rf)\n",
    "    # print('accuarcy_rf:', accuarcy_rf)\n",
    "\n",
    "    # Making the confusion Matrix\n",
    "    cm_rf = confusion_matrix(y_test, y_pred_rf)\n",
    "    print('confusion matrix_rf:', cm_rf)\n",
    "\n",
    "    # predict for the patient\n",
    "    patient_pred_rf = Rfclassifier.predict(patient_feat)\n",
    "    text_prediction_rf = widgets.Text(value = dict_pred[int(patient_pred_rf[0])], description= 'Prediction:', style =style)\n",
    "    def rf_report():\n",
    "        rf_report_output = widgets.Output() \n",
    "        rf_report_output.clear_output()\n",
    "        #with rf_report_output:\n",
    "        patient_pred_rf = Rfclassifier.predict(patient_feat)\n",
    "        print('patient_pred_rf:', dict_pred[int(patient_pred_rf[0])])\n",
    "        text_prediction_rf = widgets.Text(value = dict_pred[int(patient_pred_rf[0])], description= 'Prediction:', style =style)\n",
    "        report = classification_report(y_test, y_pred_rf, output_dict=True)\n",
    "        df_report = pd.DataFrame(report).transpose()\n",
    "\n",
    "\n",
    "        with rf_report_output:\n",
    "            display(df_report)\n",
    "\n",
    "        items = [text_prediction_rf, rf_report_output]\n",
    "        box = Box(children=items)\n",
    "        return box\n",
    "\n",
    "\n",
    "    display(rf_report())\n",
    "    return\n",
    "\n",
    "    for i in range(len(out)):\n",
    "        tab.set_title(i, impression[i])\n",
    "\n",
    "    tab.children = out\n",
    "    display(tab)\n",
    "    display(clusteringButton)\n",
    "\n",
    "regressionButton = widgets.Button(description='Perform Linear Regression', button_style='danger', \n",
    "                               layout=Layout(width='300px'), tooltip='Perform Linear Regression', icon='check')\n",
    "regressionButton.on_click(on_regressionButton_clicked)\n",
    "    #print(\"--- %s seconds ---\" % (time.time() - start_time))"
   ]
  },
  {
   "cell_type": "code",
   "execution_count": 1206,
   "id": "cbfc739a",
   "metadata": {
    "extensions": {
     "jupyter_dashboards": {
      "version": 1,
      "views": {
       "grid_default": {},
       "report_default": {
        "hidden": false
       }
      }
     }
    }
   },
   "outputs": [],
   "source": [
    "diagnosis_name = dropdown_diagnosis_name.value\n",
    "#diagnosis_name"
   ]
  },
  {
   "cell_type": "code",
   "execution_count": 1207,
   "id": "a980eabe",
   "metadata": {
    "extensions": {
     "jupyter_dashboards": {
      "version": 1,
      "views": {
       "grid_default": {},
       "report_default": {
        "hidden": true
       }
      }
     }
    }
   },
   "outputs": [],
   "source": [
    "def on_lightGBMButton_clicked(diagnosis_name):\n",
    "    diagnosis_name = dropdown_diagnosis_name.value\n",
    "    display(Markdown(\"## LightGBM Classifier Result is as follows:\"))\n",
    "    print(diagnosis_name)\n",
    "    final_patient_ind_value_numeric=con()\n",
    "    final_patient_cohort_concept=final_patient_cohort_concept_1(dropdown_diagnosis_name.value)\n",
    "    final_patient_cohort_concept_feat = final_patient_cohort_concept.drop(columns = ['person_id'])\n",
    "    dict_pred = {1: 'Diagnosis Present', 0: 'Diagnosis Not Present'}\n",
    "    import time\n",
    "    start_time = time.time()\n",
    "    final_patient_ind_value_numeric=con()\n",
    "    patient_feat = (final_patient_ind_value_numeric.iloc[:1]).drop(columns = ['person_id']).values\n",
    "\n",
    "    predictor = final_patient_cohort_concept_feat.iloc[:, :-1].values\n",
    "    target = (final_patient_cohort_concept_feat[[diagnosis_name]]).values\n",
    "\n",
    "    X_train, X_test, y_train, y_test = train_test_split(predictor, target, test_size=0.25, random_state=42)\n",
    "\n",
    "    # transform the dataset\n",
    "    oversample = SMOTE()\n",
    "    X_train_res, y_train_res = oversample.fit_resample(X_train, y_train)\n",
    "\n",
    "    # Feature Scaling\n",
    "    sc_X = StandardScaler()\n",
    "    X_train = sc_X.fit_transform(X_train_res)\n",
    "    X_test = sc_X.transform(X_test)\n",
    "\n",
    "    # Split the data into train and test\n",
    "    # def on_regressionButton_clicked():\n",
    "\n",
    "    # Split the data into train and test\n",
    "    # def on_regressionButton_clicked():\n",
    "\n",
    "\n",
    "    # Fitting Random Forest classifier to the Training set\n",
    "    lgb_classifier = lgb.LGBMClassifier()\n",
    "    lgb_classifier.fit(X_train_res, y_train_res)\n",
    "\n",
    "    # Predicting the Test set results\n",
    "    y_pred_lgb = lgb_classifier.predict(X_test)\n",
    "    print('y_preds_lgb:', y_pred_lgb)\n",
    "\n",
    "    # accuracy\n",
    "    # accuarcy_lgb = accuracy_score(y_test, y_pred_lgb)\n",
    "    # print('accuarcy_rf:', accuarcy_lgb)\n",
    "\n",
    "    # Making the confusion Matrix\n",
    "    cm_lgb = confusion_matrix(y_test, y_pred_lgb)\n",
    "    print('confusion matrix_lgb:', cm_lgb)\n",
    "\n",
    "    patient_pred_lgb = lgb_classifier.predict(patient_feat)\n",
    "    text_prediction_lgb = widgets.Text(value = dict_pred[int(patient_pred_lgb[0])], description= 'Prediction:', style =style)\n",
    "\n",
    "    def lightGBM_report():\n",
    "        lightGBM_report_output = widgets.Output() \n",
    "        lightGBM_report_output.clear_output()\n",
    "\n",
    "        patient_pred_lgb = lgb_classifier.predict(patient_feat)\n",
    "        print('patient_pred_lgb:', dict_pred[int(patient_pred_lgb[0])])\n",
    "        text_prediction_lgb = widgets.Text(value = dict_pred[int(patient_pred_lgb[0])], description= 'Prediction:', style =style)\n",
    "        report = classification_report(y_test, y_pred_lgb, output_dict=True)\n",
    "        df_report = pd.DataFrame(report).transpose()\n",
    "\n",
    "        with lightGBM_report_output:\n",
    "            display(df_report)\n",
    "\n",
    "        items = [text_prediction_lgb, lightGBM_report_output]\n",
    "        box = Box(children=items)\n",
    "        return box\n",
    "\n",
    "\n",
    "    display(lightGBM_report())\n",
    "\n",
    "    return\n",
    "    on_lightGBMButton_clicked(dropdown_diagnosis_name.value)"
   ]
  },
  {
   "cell_type": "code",
   "execution_count": 1208,
   "id": "1d1fca7e",
   "metadata": {
    "extensions": {
     "jupyter_dashboards": {
      "version": 1,
      "views": {
       "grid_default": {},
       "report_default": {
        "hidden": false
       }
      }
     }
    }
   },
   "outputs": [],
   "source": [
    "#on_catboostButton_clicked()"
   ]
  },
  {
   "cell_type": "code",
   "execution_count": 1209,
   "id": "9cd7d60a",
   "metadata": {
    "extensions": {
     "jupyter_dashboards": {
      "version": 1,
      "views": {
       "grid_default": {},
       "report_default": {
        "hidden": true
       }
      }
     }
    }
   },
   "outputs": [],
   "source": [
    "diagnosis_name = dropdown_diagnosis_name.value\n",
    "#diagnosis_name"
   ]
  },
  {
   "cell_type": "code",
   "execution_count": 1210,
   "id": "d9200b08",
   "metadata": {
    "extensions": {
     "jupyter_dashboards": {
      "version": 1,
      "views": {
       "grid_default": {},
       "report_default": {
        "hidden": true
       }
      }
     }
    }
   },
   "outputs": [],
   "source": [
    "# ## CatBoost model fitting\n",
    "\n",
    "# # Applying grid search to find the best model and best parameters\n",
    "\n",
    "# import time\n",
    "# # Split the data into train and test\n",
    "# def on_catboostButton_clicked(diagnosis_name):\n",
    "   \n",
    "#     final_patient_cohort_concept=conc()\n",
    "#     diagnosis_name = dropdown_diagnosis_name.value\n",
    "#     dict_pred = {1: 'Diagnosis Present', 0: 'Diagnosis Not Present'}\n",
    "#     final_patient_ind_value_numeric=con()\n",
    "#     final_patient_cohort_concept_feat = final_patient_cohort_concept.drop(columns = ['person_id'])\n",
    "    \n",
    "    \n",
    "#     # Split the data into train and test\n",
    "#     # def on_regressionButton_clicked():\n",
    "\n",
    "#     # Fitting Random Forest classifier to the Training set\n",
    "#     Rfclassifier = RandomForestClassifier(n_estimators=10, criterion='entropy', class_weight=\"balanced_subsample\", random_state=0)\n",
    "\n",
    "#     Rfclassifier.fit(X_train_res, y_train_res.ravel())\n",
    "\n",
    "\n",
    "#     # predict for the patient\n",
    " \n",
    "#     start_time = time.time()\n",
    "\n",
    "#     patient_feat = (final_patient_ind_value_numeric.iloc[:1]).drop(columns = ['person_id']).values\n",
    "\n",
    "#     predictor = final_patient_cohort_concept_feat.iloc[:, :-1].values\n",
    "#     target = (final_patient_cohort_concept_feat[[diagnosis_name]]).values\n",
    "#     X_train, X_test, y_train, y_test = train_test_split(predictor, target, test_size=0.25, random_state=42)\n",
    "\n",
    "#  # Feature Scaling\n",
    "\n",
    "#     sc_X = StandardScaler()\n",
    "#     X_train = sc_X.fit_transform(X_train)\n",
    "#     X_test = sc_X.transform(X_test)\n",
    "\n",
    "# # # Fitting Random Forest classifier to the Training set\n",
    "#     rfc = CatBoostClassifier(iterations=10)\n",
    "#     error_score='raise'\n",
    "\n",
    "#     forest_params = [{'max_depth': list(range(10, 15)), 'max_features': list(range(0,14))}]\n",
    "\n",
    "#     clf = GridSearchCV(rfc, forest_params, cv = 5, scoring='accuracy')\n",
    "\n",
    "#     model = clf.fit(X_train, y_train.ravel())\n",
    "\n",
    "#     print(model.best_params_)\n",
    "\n",
    "#     print(model.best_score_)\n",
    "\n",
    "\n",
    "#     print(model.best_estimator_)\n",
    "\n",
    "#     pred = model.best_estimator_.predict(X_test)\n",
    "#     print('prediction:', pred)\n",
    "\n",
    "#     patient_pred = model.best_estimator_.predict(patient_feat)\n",
    "#     print('patient_pred_rf:', patient_pred_rf[0])\n",
    "\n",
    "\n",
    "#     print(classification_report(y_test, pred))\n",
    "    \n",
    "#     return\n",
    "\n",
    "# on_catboostButton_clicked(diagnosis_name)"
   ]
  },
  {
   "cell_type": "code",
   "execution_count": 1211,
   "id": "6456df82",
   "metadata": {
    "extensions": {
     "jupyter_dashboards": {
      "version": 1,
      "views": {
       "grid_default": {},
       "report_default": {
        "hidden": true
       }
      }
     }
    }
   },
   "outputs": [],
   "source": [
    "# diagnosis_name = dropdown_diagnosis_name.value\n",
    "#diagnosis_name"
   ]
  },
  {
   "cell_type": "code",
   "execution_count": 1212,
   "id": "f9840668",
   "metadata": {
    "extensions": {
     "jupyter_dashboards": {
      "version": 1,
      "views": {
       "grid_default": {},
       "report_default": {
        "hidden": false
       }
      }
     }
    }
   },
   "outputs": [],
   "source": [
    "def auc(diagnosis_name):\n",
    "    diagnosis_name = dropdown_diagnosis_name.value\n",
    "    display(Markdown(\"## AUC Results are as follows:\"))\n",
    "    print(diagnosis_name)\n",
    "#     values_map3 = {}\n",
    "#     values_map3['diagnosis_name'] = diagnosis_name\n",
    "#     values_map3\n",
    "#     get_patient_id = (\"\"\"select patient_id from encounter_diagnosis where diagnosis_coded IN (select * from (select concept_id from concept where description = \"{diagnosis_name}\") as pqr )\"\"\") \n",
    "#     get_patient_id = get_patient_id.format(**values_map3) \n",
    "#     get_patient_id = pd.read_sql(get_patient_id, con=conn)  \n",
    "    #get_patient_id\n",
    "     \n",
    "    diagnosis_name = dropdown_diagnosis_name.value\n",
    "    final_patient_ind_value_numeric=con()\n",
    "    final_patient_cohort_concept=final_patient_cohort_concept_1(dropdown_diagnosis_name.value)\n",
    "    final_patient_cohort_concept_feat = final_patient_cohort_concept.drop(columns = ['person_id'])\n",
    "    \n",
    "    diagnosis_name = dropdown_diagnosis_name.value\n",
    "#     old_diagnosis_name = None\n",
    "#     if old_diagnosis_name != diagnosis_name:\n",
    "#         try:\n",
    "#             final_patient_cohort_concept=final_patient_cohort_concept_1(diagnosis_name)\n",
    "#             final_patient_cohort_concept.drop([old_diagnosis_name], axis =1, inplace=True)\n",
    "#         except Exception as ex:\n",
    "#             #print(ex)\n",
    "#             pass\n",
    "#         old_diagnosis_name = diagnosis_name   \n",
    "    #final_patient_cohort_concept_feat\n",
    "    dict_pred = {1: 'Diagnosis Present', 0: 'Diagnosis Not Present'}\n",
    "    import time\n",
    "    start_time = time.time()\n",
    "\n",
    "    patient_feat = (final_patient_ind_value_numeric.iloc[:1]).drop(columns = ['person_id']).values\n",
    "\n",
    "    predictor = final_patient_cohort_concept_feat.iloc[:, :-1].values\n",
    "    target = (final_patient_cohort_concept_feat[[diagnosis_name]]).values\n",
    "    #display(final_patient_cohort_concept_feat)\n",
    "    #display(final_patient_cohort_concept[[\"Acute kidney failure, unspecified\"]].value_counts())\n",
    "    X_train, X_test, y_train, y_test = train_test_split(predictor, target, test_size=0.25, random_state=42,stratify=target)\n",
    "    #print(y_train)\n",
    "\n",
    "    # transform the dataset\n",
    "    oversample = SMOTE(random_state=100)\n",
    "    X_train_res, y_train_res = oversample.fit_resample(X_train, y_train)\n",
    "\n",
    "\n",
    "    # Feature Scaling\n",
    "    sc_X = StandardScaler()\n",
    "    X_train = sc_X.fit_transform(X_train_res)\n",
    "    X_test = sc_X.transform(X_test)\n",
    "     \n",
    "    Rfclassifier = RandomForestClassifier(n_estimators=10, criterion='entropy', class_weight=\"balanced_subsample\", random_state=0)\n",
    "    Rfclassifier.fit(X_train_res, y_train_res.ravel())\n",
    "\n",
    "    # Split the data into train and test\n",
    "    # def on_regressionButton_clicked():\n",
    "\n",
    "    # Split the data into train and test\n",
    "    # def on_regressionButton_clicked():\n",
    "\n",
    "\n",
    "    # Fitting Random Forest classifier to the Training set\n",
    "\n",
    "    lgb_classifier = lgb.LGBMClassifier()\n",
    "    lgb_classifier.fit(X_train_res, y_train_res)\n",
    "\n",
    "    # Predicting the Test set results\n",
    "    y_pred_lgb = lgb_classifier.predict(X_test)\n",
    "\n",
    "    # accuracy\n",
    "    # accuarcy_lgb = accuracy_score(y_test, y_pred_lgb)\n",
    "    # print('accuarcy_rf:', accuarcy_lgb)\n",
    "\n",
    "    # Making the confusion Matrix\n",
    "    cm_lgb = confusion_matrix(y_test, y_pred_lgb)\n",
    "\n",
    "    patient_pred_lgb = lgb_classifier.predict(patient_feat)\n",
    "    text_prediction_lgb = widgets.Text(value = dict_pred[int(patient_pred_lgb[0])], description= '<b>Prediction:</b>', style =style)\n",
    "\n",
    "    auc_rf = widgets.Output() \n",
    "    auc_rf.clear_output()\n",
    "    \n",
    "#     auc_gbm = widgets.Output()\n",
    "#     auc_gbm.clear_output()\n",
    "    \n",
    "    predictor_prob_rf = Rfclassifier.predict_proba(X_test)\n",
    "    x_rf = skplt.metrics.plot_precision_recall_curve(y_test, predictor_prob_rf)\n",
    "    \n",
    "    lgb_classifier = lgb.LGBMClassifier()\n",
    "    lgb_classifier.fit(X_train_res, y_train_res)\n",
    "    \n",
    "    predictor_prob_gbm = lgb_classifier.predict_proba(X_test)\n",
    "    x_gbm = skplt.metrics.plot_precision_recall_curve(y_test, predictor_prob_gbm)\n",
    "    \n",
    "    \n",
    "    with auc_rf:\n",
    "        plt.show(x_rf)\n",
    "        plt.show(x_gbm)\n",
    "        skplt.metrics.plot_precision_recall_curve(y_test, predictor_prob_rf).plot()\n",
    "        x_gbm.plot()\n",
    "    items = [auc_rf]\n",
    "    box = Box(children=items)\n",
    "    display(auc_rf)\n",
    "    \n",
    "    return \n",
    "    auc(diagnosis_name)    "
   ]
  },
  {
   "cell_type": "code",
   "execution_count": 1213,
   "id": "7e5013e4",
   "metadata": {
    "extensions": {
     "jupyter_dashboards": {
      "version": 1,
      "views": {
       "grid_default": {},
       "report_default": {
        "hidden": true
       }
      }
     }
    }
   },
   "outputs": [],
   "source": [
    "# # Fastai\n",
    "# from fastai.vision import *"
   ]
  },
  {
   "cell_type": "code",
   "execution_count": 1214,
   "id": "6fd180cc",
   "metadata": {
    "extensions": {
     "jupyter_dashboards": {
      "version": 1,
      "views": {
       "grid_default": {},
       "report_default": {
        "hidden": true
       }
      }
     }
    }
   },
   "outputs": [],
   "source": [
    "def fastai_report(diagnosis_name): \n",
    "    \n",
    "    import time\n",
    "    diagnosis_name = dropdown_diagnosis_name.value\n",
    "    display(Markdown(\"## FASTAI Report for:\"))\n",
    "    print(diagnosis_name)\n",
    "#values_map3 = {}\n",
    "#     values_map3['diagnosis_name'] = diagnosis_name\n",
    "#     values_map3\n",
    "#     get_patient_id = (\"\"\"select patient_id from encounter_diagnosis where diagnosis_coded IN (select * from (select concept_id from concept where description = \"{diagnosis_name}\") as pqr )\"\"\") \n",
    "#     get_patient_id = get_patient_id.format(**values_map3) \n",
    "#     get_patient_id = pd.read_sql(get_patient_id, con=conn)  \n",
    "    #get_patient_id\n",
    "     \n",
    "    diagnosis_name = dropdown_diagnosis_name.value\n",
    "    final_patient_ind_value_numeric=con()\n",
    "    final_patient_cohort_concept=final_patient_cohort_concept_1(dropdown_diagnosis_name.value)\n",
    "    final_patient_cohort_concept_feat = final_patient_cohort_concept.drop(columns = ['person_id'])\n",
    "    \n",
    "    start_time = time.time()\n",
    "\n",
    "    cont_names = list(final_patient_cohort_concept_feat.columns[:-1])\n",
    "\n",
    "    norm = Normalize()\n",
    "    to = TabularPandas(final_patient_cohort_concept_feat, norm, cont_names=cont_names)\n",
    "    norms = to.procs.normalize\n",
    "\n",
    "    procs = [Categorify, FillMissing, Normalize]\n",
    "    cont_names = list(final_patient_cohort_concept_feat.columns[:-1])\n",
    "\n",
    "    y_names = final_patient_cohort_concept_feat.columns[-1]\n",
    "    y_block = CategoryBlock()\n",
    "\n",
    "    splits = RandomSplitter()(range_of(final_patient_cohort_concept_feat))\n",
    "\n",
    "    to = TabularPandas(final_patient_cohort_concept_feat, procs=[], cont_names=cont_names,\n",
    "                       y_names=y_names, y_block=y_block, splits=splits)\n",
    "\n",
    "    dls = to.dataloaders()\n",
    "    trn_dl = TabDataLoader(to.train, bs=64, shuffle=True, drop_last=True)\n",
    "    val_dl = TabDataLoader(to.valid, bs=128)\n",
    "    dls = DataLoaders(trn_dl, val_dl)\n",
    "\n",
    "    emb_szs = get_emb_sz(to); emb_szs\n",
    "    cont_len = len(to.cont_names); cont_len\n",
    "    batch = dls.one_batch(); len(batch)\n",
    "    batch[0][0], batch[1][0]\n",
    "    net = TabularModel(emb_szs, cont_len, 2, [200,100])\n",
    "\n",
    "    learn = tabular_learner(dls, [200,100], metrics=accuracy)\n",
    "    learn.lr_find() \n",
    "\n",
    "    dls = to.dataloaders(bs=1024)\n",
    "    learn = tabular_learner(dls, [200,100], metrics=accuracy)\n",
    "    learn.fit_one_cycle(10,cbs=EarlyStoppingCallback(monitor='accuracy', min_delta=0.01, patience=3))\n",
    "\n",
    "    def fastai_report(diagnosis_name):\n",
    "        fastai_report_output = widgets.Output() \n",
    "        fastai_report_output.clear_output()\n",
    "\n",
    "    #patient_pred_lgb = lgb_classifier.predict(patient_feat)\n",
    "    #print('patient_pred_lgb:', dict_pred[int(patient_pred_lgb[0])])\n",
    "    #text_prediction_fastai = widgets.Text(value = dict_pred[int(patient_pred_lgb[0])], description= '<b>Prediction:</b>', style =style)\n",
    "        interpret = ClassificationInterpretation.from_learner(learn)\n",
    "        interpret = interpret.print_classification_report()\n",
    "        df_report = pd.DataFrame(interpret).transpose()\n",
    "\n",
    "        with fastai_report_output:\n",
    "            display(df_report)\n",
    "\n",
    "        items = [fastai_report_output]\n",
    "        box = Box(children=items)\n",
    "        return box\n",
    "\n",
    "    \n",
    "    fastai_report(diagnosis_name)\n",
    "\n",
    "# interpret = ClassificationInterpretation.from_learner(learn)\n",
    "# interpret.print_classification_report()\n",
    "\n",
    "# print(\"--- %s seconds ---\" % (time.time() - start_time))\n",
    "\n",
    "# interpret = ClassificationInterpretation.from_learner(learn)\n",
    "# interpret.print_classification_report()\n",
    "\n",
    "# print(\"--- %s seconds ---\" % (time.time() - start_time))"
   ]
  },
  {
   "cell_type": "code",
   "execution_count": 1215,
   "id": "c549b94e",
   "metadata": {
    "extensions": {
     "jupyter_dashboards": {
      "version": 1,
      "views": {
       "grid_default": {},
       "report_default": {
        "hidden": true
       }
      }
     }
    }
   },
   "outputs": [],
   "source": [
    "# Building the dashboard"
   ]
  },
  {
   "cell_type": "code",
   "execution_count": 1216,
   "id": "fb6e8329",
   "metadata": {
    "extensions": {
     "jupyter_dashboards": {
      "version": 1,
      "views": {
       "grid_default": {},
       "report_default": {
        "hidden": true
       }
      }
     }
    }
   },
   "outputs": [],
   "source": [
    "# def dashboard():\n",
    "#     item_layout = widgets.Layout(margin='0 0 50px 0')\n",
    "    \n",
    "#     input_widgets = widgets.HBox([dropdown_diagnames_pat_id, dropdown_concept_name, dropdown_diagnosis_name], layout = item_layout )\n",
    "\n",
    "    \n",
    "#     tab = widgets.Tab([patient_cohort_concept_(), showplot(), shapiro_test(), on_corrButton_clicked(), on_assocButton_clicked(), on_Regressionbutton(), lightGBM_report(), auc()],layout=item_layout)\n",
    "#     tab.set_title(0, 'Dataset Exploration')\n",
    "#     tab.set_title(1, 'Distribution Plot')\n",
    "#     tab.set_title(2, 'Statistical Test')\n",
    "#     tab.set_title(3, 'Correlation Test')\n",
    "#     tab.set_title(4, 'Association Test')\n",
    "#     tab.set_title(5, 'Random Forest Classifier')\n",
    "#     tab.set_title(6, 'LightGBM Classifier')\n",
    "#     tab.set_title(7, 'AUC_ROC Plot')\n",
    "    \n",
    "#     dashboard = widgets.VBox([input_widgets, tab])\n",
    "# display(dashboard)"
   ]
  },
  {
   "cell_type": "code",
   "execution_count": 1217,
   "id": "3b59c321",
   "metadata": {
    "extensions": {
     "jupyter_dashboards": {
      "version": 1,
      "views": {
       "grid_default": {},
       "report_default": {
        "hidden": true
       }
      }
     }
    }
   },
   "outputs": [],
   "source": [
    "def dashboard(diagnosis_name):\n",
    "    diagnosis_name = dropdown_diagnosis_name.value\n",
    "    item_layout = widgets.Layout(margin='0 0 50px 0')\n",
    "    \n",
    "    input_widgets = widgets.HBox([dropdown_diagnames_pat_id, dropdown_concept_name, dropdown_diagnosis_name], layout = item_layout )\n",
    "\n",
    "    \n",
    "    #tab = widgets.Tab([patient_cohort_concept_(), showplot(), shapiro_test(), on_corrButton_clicked(diagnosis_name), on_assocButton_clicked(diagnosis_name), on_regressionButton_clicked(diagnosis_name),on_lightGBMButton_clicked(dropdown_diagnosis_name.value)],layout=item_layout)\n",
    "    tab = widgets.Tab([patient_cohort_concept_(), showplot(), shapiro_test(), on_corrButton_clicked(diagnosis_name), on_assocButton_clicked(diagnosis_name), on_regressionButton_clicked(diagnosis_name),on_lightGBMButton_clicked(diagnosis_name),auc(diagnosis_name),fastai_report(diagnosis_name)],layout=item_layout)\n",
    "    tab.set_title(0, 'Dataset Exploration')\n",
    "    tab.set_title(1, 'Distribution Plot')\n",
    "    tab.set_title(2, 'Statistical Test')\n",
    "    tab.set_title(3, 'Correlation Test')\n",
    "    tab.set_title(4, 'Association Test')\n",
    "    tab.set_title(5, 'Random Forest Classifier')\n",
    "    tab.set_title(6, 'LightGBM Classifier')\n",
    "    #tab.set_title(7, 'FastAI Classifier')\n",
    "    \n",
    "    dashboard = widgets.VBox([input_widgets, tab])\n",
    "    display(dashboard)\n",
    "    "
   ]
  },
  {
   "cell_type": "code",
   "execution_count": null,
   "id": "437f1075",
   "metadata": {
    "extensions": {
     "jupyter_dashboards": {
      "version": 1,
      "views": {
       "grid_default": {},
       "report_default": {
        "hidden": true
       }
      }
     }
    }
   },
   "outputs": [],
   "source": []
  }
 ],
 "metadata": {
  "extensions": {
   "jupyter_dashboards": {
    "activeView": "report_default",
    "version": 1,
    "views": {
     "grid_default": {
      "cellMargin": 10,
      "defaultCellHeight": 20,
      "maxColumns": 12,
      "name": "grid",
      "type": "grid"
     },
     "report_default": {
      "name": "report",
      "type": "report"
     }
    }
   }
  },
  "kernelspec": {
   "display_name": "Python 3 (ipykernel)",
   "language": "python",
   "name": "python3"
  },
  "language_info": {
   "codemirror_mode": {
    "name": "ipython",
    "version": 3
   },
   "file_extension": ".py",
   "mimetype": "text/x-python",
   "name": "python",
   "nbconvert_exporter": "python",
   "pygments_lexer": "ipython3",
   "version": "3.8.10"
  }
 },
 "nbformat": 4,
 "nbformat_minor": 5
}
